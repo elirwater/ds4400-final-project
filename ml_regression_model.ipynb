{
 "cells": [
  {
   "cell_type": "code",
   "execution_count": 1,
   "id": "508511eb",
   "metadata": {},
   "outputs": [
    {
     "name": "stderr",
     "output_type": "stream",
     "text": [
      "2023-04-07 16:12:48.341137: I tensorflow/core/platform/cpu_feature_guard.cc:193] This TensorFlow binary is optimized with oneAPI Deep Neural Network Library (oneDNN) to use the following CPU instructions in performance-critical operations:  AVX2 FMA\n",
      "To enable them in other operations, rebuild TensorFlow with the appropriate compiler flags.\n"
     ]
    }
   ],
   "source": [
    "# import your libraries here\n",
    "import pandas as pd\n",
    "import keras\n",
    "import numpy as np\n",
    "import multiprocessing\n",
    "\n",
    "# Importing utility functions from Keras\n",
    "from keras.preprocessing.text import Tokenizer\n",
    "from keras.utils import to_categorical\n",
    "from keras.models import Sequential\n",
    "from keras.layers import Dense, Input, InputLayer, Normalization\n",
    "from keras.optimizers import Adam\n",
    "from sklearn.metrics import mean_squared_error, mean_absolute_error\n"
   ]
  },
  {
   "cell_type": "code",
   "execution_count": 2,
   "id": "a1575740",
   "metadata": {},
   "outputs": [],
   "source": [
    "data = pd.read_csv(\"processed_data.csv\")\n",
    "# print(data[\"Year\"].value_counts())"
   ]
  },
  {
   "cell_type": "code",
   "execution_count": 3,
   "id": "e4fc0e90",
   "metadata": {},
   "outputs": [
    {
     "ename": "TypeError",
     "evalue": "'type' object is not subscriptable",
     "output_type": "error",
     "traceback": [
      "\u001b[0;31m---------------------------------------------------------------------------\u001b[0m",
      "\u001b[0;31mTypeError\u001b[0m                                 Traceback (most recent call last)",
      "\u001b[0;32m/var/folders/5b/v0z_9nq13jjbl0v00bqkf7h80000gn/T/ipykernel_91138/628078050.py\u001b[0m in \u001b[0;36m<module>\u001b[0;34m\u001b[0m\n\u001b[1;32m      1\u001b[0m \u001b[0;32mfrom\u001b[0m \u001b[0mtime\u001b[0m \u001b[0;32mimport\u001b[0m \u001b[0mtime_ns\u001b[0m\u001b[0;34m\u001b[0m\u001b[0;34m\u001b[0m\u001b[0m\n\u001b[1;32m      2\u001b[0m \u001b[0;34m\u001b[0m\u001b[0m\n\u001b[0;32m----> 3\u001b[0;31m \u001b[0;32mdef\u001b[0m \u001b[0mget_X_and_y\u001b[0m\u001b[0;34m(\u001b[0m\u001b[0mdf\u001b[0m \u001b[0;34m:\u001b[0m \u001b[0mpd\u001b[0m\u001b[0;34m.\u001b[0m\u001b[0mDataFrame\u001b[0m\u001b[0;34m,\u001b[0m \u001b[0my_col_name\u001b[0m\u001b[0;34m:\u001b[0m\u001b[0mstr\u001b[0m\u001b[0;34m)\u001b[0m \u001b[0;34m->\u001b[0m \u001b[0mtuple\u001b[0m\u001b[0;34m[\u001b[0m\u001b[0mnp\u001b[0m\u001b[0;34m.\u001b[0m\u001b[0mndarray\u001b[0m\u001b[0;34m,\u001b[0m\u001b[0mnp\u001b[0m\u001b[0;34m.\u001b[0m\u001b[0mndarray\u001b[0m\u001b[0;34m]\u001b[0m\u001b[0;34m:\u001b[0m\u001b[0;34m\u001b[0m\u001b[0;34m\u001b[0m\u001b[0m\n\u001b[0m\u001b[1;32m      4\u001b[0m     \u001b[0mX\u001b[0m \u001b[0;34m=\u001b[0m \u001b[0mdf\u001b[0m\u001b[0;34m.\u001b[0m\u001b[0mcopy\u001b[0m\u001b[0;34m(\u001b[0m\u001b[0;34m)\u001b[0m\u001b[0;34m\u001b[0m\u001b[0;34m\u001b[0m\u001b[0m\n\u001b[1;32m      5\u001b[0m     \u001b[0mX\u001b[0m\u001b[0;34m.\u001b[0m\u001b[0mpop\u001b[0m\u001b[0;34m(\u001b[0m\u001b[0;34m\"Country\"\u001b[0m\u001b[0;34m)\u001b[0m\u001b[0;34m\u001b[0m\u001b[0;34m\u001b[0m\u001b[0m\n",
      "\u001b[0;31mTypeError\u001b[0m: 'type' object is not subscriptable"
     ]
    }
   ],
   "source": [
    "from time import time_ns\n",
    "\n",
    "def get_X_and_y(df : pd.DataFrame, y_col_name:str) -> tuple[np.ndarray,np.ndarray]:\n",
    "    X = df.copy()\n",
    "    X.pop(\"Country\")\n",
    "    y = X.pop(y_col_name) \n",
    "    return X.__array__().astype(\"float32\"), y.__array__().astype(\"float32\")\n",
    "\n",
    "def data_generator(X, y, batch_size: int) -> tuple[list,list]:\n",
    "    '''\n",
    "    Returns data generator to be used by feed_forward\n",
    "    https://wiki.python.org/moin/Generators\n",
    "    https://realpython.com/introduction-to-python-generators/\n",
    "    \n",
    "    Yields batches of embeddings and labels to go with them.\n",
    "    Use one hot vectors to encode the labels \n",
    "    (see the to_categorical function)\n",
    "    \n",
    "    '''\n",
    "    i = 0\n",
    "    for i in range(0,len(y),batch_size):\n",
    "        next_i = min(len(y), i+batch_size)\n",
    "        features = X[i:next_i]\n",
    "        y_true = y[i:next_i]\n",
    "        yield features, y_true\n",
    "\n",
    "\n"
   ]
  },
  {
   "cell_type": "code",
   "execution_count": null,
   "id": "8630545d",
   "metadata": {},
   "outputs": [],
   "source": [
    "# given lines of text (arraylike) and embeddings (model.wv)\n",
    "def train_model(X,y, learning_rate = 0.01, epochs=100):\n",
    "    # print(X)\n",
    "    num_sequences_per_batch = 16 # this is the batch size\n",
    "    steps_per_epoch = len(X)//num_sequences_per_batch  # Number of batches per epoch\n",
    "    # train_generator = data_generator(X, y, num_sequences_per_batch)\n",
    "    # sample=next(train_generator) # this is how you get data out of generators\n",
    "    # print(sample)\n",
    "\n",
    "    # Define the model architecture using Keras Sequential API\n",
    "    model = Sequential()\n",
    "    # setup normalization layer as input layer - DON'T TOUCH THIS LAYER\n",
    "    normalizer = Normalization(input_shape=(X.shape[1],),axis=None)\n",
    "    # adapt for our training input data\n",
    "    normalizer.adapt(X)\n",
    "    # add normalization layer to \n",
    "    model.add(normalizer)\n",
    "    # configure and add hidden layers - TWEAK THESE LAYERS (modify, add, or remove)\n",
    "    model.add(layer_h1 := Dense(2000, activation='relu'))\n",
    "    model.add(layer_h2 := Dense(1500, activation='relu'))\n",
    "    model.add(layer_h3 := Dense(1000, activation='relu'))\n",
    "    model.add(layer_h4 := Dense(500, activation='relu'))\n",
    "    # add output layer\n",
    "    model.add(layer_o := Dense(1)) \n",
    "    model.summary()\n",
    "\n",
    "    # setup model for learning\n",
    "    model.compile(optimizer=Adam(learning_rate=learning_rate),\n",
    "                loss='mean_absolute_error')\n",
    "    \n",
    "    # train the model\n",
    "    model.fit(x=X, y=y,epochs=epochs)\n",
    "\n",
    "    # return the model, tokenizer, and embedding dict for sentence generation use later\n",
    "    return model"
   ]
  },
  {
   "cell_type": "code",
   "execution_count": null,
   "id": "5c0fc58d",
   "metadata": {},
   "outputs": [],
   "source": [
    "# split data into training and test\n",
    "train_data = data.loc[data[\"Year\"]!=2018,:]\n",
    "test_data = data.loc[data[\"Year\"]==2018,:]\n",
    "\n",
    "# then get X and y for both training and test data (numpy arrays)\n",
    "train_X,train_y = get_X_and_y(train_data,\"total_yield\")\n",
    "test_X,test_y = get_X_and_y(test_data,\"total_yield\")\n",
    "train_y"
   ]
  },
  {
   "cell_type": "code",
   "execution_count": null,
   "id": "858b8016",
   "metadata": {},
   "outputs": [],
   "source": [
    "m = train_model(train_X, train_y, learning_rate = 0.01, epochs=100)\n"
   ]
  },
  {
   "cell_type": "code",
   "execution_count": null,
   "id": "0e81d538",
   "metadata": {},
   "outputs": [],
   "source": [
    "preds = [arr[0] for arr in m.predict(test_X)]\n",
    "# for yhat,y in zip(preds,test_y):\n",
    "    # print(f\"predicted: {yhat} , y_true: {y}\")\n",
    "print(mean_absolute_error(y_pred=preds,y_true=test_y))"
   ]
  },
  {
   "cell_type": "markdown",
   "id": "0d076e56",
   "metadata": {},
   "source": [
    "## HYPER PARAMETER TUNING"
   ]
  },
  {
   "cell_type": "code",
   "execution_count": null,
   "id": "3e9fee25",
   "metadata": {},
   "outputs": [],
   "source": [
    "#Test out different learning rates\n",
    "learning_rates = np.arange(0, 1, 0.001)\n",
    "learning_rates_models = []\n",
    "\n",
    "for i,rate in enumerate(learning_rates):\n",
    "    m = train_model(train_X, train_y, learning_rate = rate, epochs=100)\n",
    "    preds = [arr[0] for arr in m.predict(test_X)]\n",
    "    learning_rates_models.append(mean_absolute_error(y_pred=preds,y_true=test_y))\n",
    "    \n",
    "#Test out different # of epochs\n",
    "epoch_values_models = []\n",
    "\n",
    "for i in range(10000):\n",
    "    m = train_model(train_X, train_y, learning_rate = 0.01, epochs=i)\n",
    "    preds = [arr[0] for arr in m.predict(test_X)]\n",
    "    epoch_values_models.append(mean_absolute_error(y_pred=preds,y_true=test_y))\n",
    "    "
   ]
  }
 ],
 "metadata": {
  "kernelspec": {
   "display_name": "Python 3 (ipykernel)",
   "language": "python",
   "name": "python3"
  },
  "language_info": {
   "codemirror_mode": {
    "name": "ipython",
    "version": 3
   },
   "file_extension": ".py",
   "mimetype": "text/x-python",
   "name": "python",
   "nbconvert_exporter": "python",
   "pygments_lexer": "ipython3",
   "version": "3.7.7"
  },
  "vscode": {
   "interpreter": {
    "hash": "e7370f93d1d0cde622a1f8e1c04877d8463912d04d973331ad4851f04de6915a"
   }
  }
 },
 "nbformat": 4,
 "nbformat_minor": 5
}
