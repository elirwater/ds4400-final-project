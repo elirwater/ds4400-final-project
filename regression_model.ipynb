{
 "cells": [
  {
   "cell_type": "code",
   "execution_count": 2,
   "id": "ef7a8fde",
   "metadata": {},
   "outputs": [],
   "source": [
    "import pandas as pd\n",
    "import matplotlib.pyplot as plt\n",
    "import numpy as np\n",
    "import math\n",
    "import itertools\n",
    "import warnings\n",
    "warnings.simplefilter(action='ignore', category=FutureWarning)\n",
    "%run data_intake.ipynb\n",
    "import os"
   ]
  },
  {
   "cell_type": "code",
   "execution_count": 4,
   "id": "b39aefac",
   "metadata": {},
   "outputs": [
    {
     "data": {
      "text/html": [
       "<div>\n",
       "<style scoped>\n",
       "    .dataframe tbody tr th:only-of-type {\n",
       "        vertical-align: middle;\n",
       "    }\n",
       "\n",
       "    .dataframe tbody tr th {\n",
       "        vertical-align: top;\n",
       "    }\n",
       "\n",
       "    .dataframe thead th {\n",
       "        text-align: right;\n",
       "    }\n",
       "</style>\n",
       "<table border=\"1\" class=\"dataframe\">\n",
       "  <thead>\n",
       "    <tr style=\"text-align: right;\">\n",
       "      <th></th>\n",
       "      <th>Country</th>\n",
       "      <th>Year</th>\n",
       "      <th>total_renewable_water_resources</th>\n",
       "      <th>agricultural_value_added_percent_of_gdp</th>\n",
       "      <th>total_exploitable_water_resources</th>\n",
       "      <th>precipitation_index</th>\n",
       "      <th>gdp_per_capita</th>\n",
       "      <th>total_internal_renewable_water_resource_per_capita</th>\n",
       "      <th>arable_land_area</th>\n",
       "      <th>total_population</th>\n",
       "      <th>total_yield</th>\n",
       "    </tr>\n",
       "  </thead>\n",
       "  <tbody>\n",
       "    <tr>\n",
       "      <th>59</th>\n",
       "      <td>Albania</td>\n",
       "      <td>2018</td>\n",
       "      <td>30.2</td>\n",
       "      <td>18.429476</td>\n",
       "      <td>13.0</td>\n",
       "      <td>1136.00</td>\n",
       "      <td>5257.650696</td>\n",
       "      <td>9331.399988</td>\n",
       "      <td>611.346</td>\n",
       "      <td>2882.740</td>\n",
       "      <td>87.14</td>\n",
       "    </tr>\n",
       "    <tr>\n",
       "      <th>60</th>\n",
       "      <td>Albania</td>\n",
       "      <td>2017</td>\n",
       "      <td>30.2</td>\n",
       "      <td>19.022127</td>\n",
       "      <td>13.0</td>\n",
       "      <td>1136.00</td>\n",
       "      <td>4514.204908</td>\n",
       "      <td>9326.776621</td>\n",
       "      <td>612.000</td>\n",
       "      <td>2884.169</td>\n",
       "      <td>69.81</td>\n",
       "    </tr>\n",
       "    <tr>\n",
       "      <th>61</th>\n",
       "      <td>Albania</td>\n",
       "      <td>2016</td>\n",
       "      <td>30.2</td>\n",
       "      <td>19.849993</td>\n",
       "      <td>13.0</td>\n",
       "      <td>1136.00</td>\n",
       "      <td>4109.340457</td>\n",
       "      <td>9319.444935</td>\n",
       "      <td>620.300</td>\n",
       "      <td>2886.438</td>\n",
       "      <td>68.46</td>\n",
       "    </tr>\n",
       "    <tr>\n",
       "      <th>62</th>\n",
       "      <td>Albania</td>\n",
       "      <td>2015</td>\n",
       "      <td>30.2</td>\n",
       "      <td>19.780225</td>\n",
       "      <td>13.0</td>\n",
       "      <td>1136.00</td>\n",
       "      <td>3939.413126</td>\n",
       "      <td>9306.306528</td>\n",
       "      <td>615.100</td>\n",
       "      <td>2890.513</td>\n",
       "      <td>71.04</td>\n",
       "    </tr>\n",
       "    <tr>\n",
       "      <th>63</th>\n",
       "      <td>Albania</td>\n",
       "      <td>2014</td>\n",
       "      <td>30.2</td>\n",
       "      <td>19.990153</td>\n",
       "      <td>13.0</td>\n",
       "      <td>1136.00</td>\n",
       "      <td>4567.281443</td>\n",
       "      <td>9287.695875</td>\n",
       "      <td>615.600</td>\n",
       "      <td>2896.305</td>\n",
       "      <td>68.50</td>\n",
       "    </tr>\n",
       "    <tr>\n",
       "      <th>...</th>\n",
       "      <td>...</td>\n",
       "      <td>...</td>\n",
       "      <td>...</td>\n",
       "      <td>...</td>\n",
       "      <td>...</td>\n",
       "      <td>...</td>\n",
       "      <td>...</td>\n",
       "      <td>...</td>\n",
       "      <td>...</td>\n",
       "      <td>...</td>\n",
       "      <td>...</td>\n",
       "    </tr>\n",
       "    <tr>\n",
       "      <th>10432</th>\n",
       "      <td>Zimbabwe</td>\n",
       "      <td>1974</td>\n",
       "      <td>20.0</td>\n",
       "      <td>13.822747</td>\n",
       "      <td>1.5</td>\n",
       "      <td>746.72</td>\n",
       "      <td>811.510083</td>\n",
       "      <td>2014.765967</td>\n",
       "      <td>2465.000</td>\n",
       "      <td>6085.074</td>\n",
       "      <td>141.67</td>\n",
       "    </tr>\n",
       "    <tr>\n",
       "      <th>10433</th>\n",
       "      <td>Zimbabwe</td>\n",
       "      <td>1973</td>\n",
       "      <td>20.0</td>\n",
       "      <td>11.305693</td>\n",
       "      <td>1.5</td>\n",
       "      <td>712.18</td>\n",
       "      <td>698.192005</td>\n",
       "      <td>2085.840681</td>\n",
       "      <td>2415.000</td>\n",
       "      <td>5877.726</td>\n",
       "      <td>112.67</td>\n",
       "    </tr>\n",
       "    <tr>\n",
       "      <th>10434</th>\n",
       "      <td>Zimbabwe</td>\n",
       "      <td>1972</td>\n",
       "      <td>20.0</td>\n",
       "      <td>13.466776</td>\n",
       "      <td>1.5</td>\n",
       "      <td>677.64</td>\n",
       "      <td>588.037380</td>\n",
       "      <td>2160.767062</td>\n",
       "      <td>2415.000</td>\n",
       "      <td>5673.911</td>\n",
       "      <td>125.86</td>\n",
       "    </tr>\n",
       "    <tr>\n",
       "      <th>10435</th>\n",
       "      <td>Zimbabwe</td>\n",
       "      <td>1971</td>\n",
       "      <td>20.0</td>\n",
       "      <td>13.129246</td>\n",
       "      <td>1.5</td>\n",
       "      <td>643.10</td>\n",
       "      <td>493.287110</td>\n",
       "      <td>2238.459064</td>\n",
       "      <td>2385.000</td>\n",
       "      <td>5476.982</td>\n",
       "      <td>132.97</td>\n",
       "    </tr>\n",
       "    <tr>\n",
       "      <th>10436</th>\n",
       "      <td>Zimbabwe</td>\n",
       "      <td>1970</td>\n",
       "      <td>20.0</td>\n",
       "      <td>11.579776</td>\n",
       "      <td>1.5</td>\n",
       "      <td>645.68</td>\n",
       "      <td>441.744085</td>\n",
       "      <td>2317.885740</td>\n",
       "      <td>2335.000</td>\n",
       "      <td>5289.303</td>\n",
       "      <td>123.17</td>\n",
       "    </tr>\n",
       "  </tbody>\n",
       "</table>\n",
       "<p>1920 rows × 11 columns</p>\n",
       "</div>"
      ],
      "text/plain": [
       "        Country  Year  total_renewable_water_resources  \\\n",
       "59      Albania  2018                             30.2   \n",
       "60      Albania  2017                             30.2   \n",
       "61      Albania  2016                             30.2   \n",
       "62      Albania  2015                             30.2   \n",
       "63      Albania  2014                             30.2   \n",
       "...         ...   ...                              ...   \n",
       "10432  Zimbabwe  1974                             20.0   \n",
       "10433  Zimbabwe  1973                             20.0   \n",
       "10434  Zimbabwe  1972                             20.0   \n",
       "10435  Zimbabwe  1971                             20.0   \n",
       "10436  Zimbabwe  1970                             20.0   \n",
       "\n",
       "       agricultural_value_added_percent_of_gdp  \\\n",
       "59                                   18.429476   \n",
       "60                                   19.022127   \n",
       "61                                   19.849993   \n",
       "62                                   19.780225   \n",
       "63                                   19.990153   \n",
       "...                                        ...   \n",
       "10432                                13.822747   \n",
       "10433                                11.305693   \n",
       "10434                                13.466776   \n",
       "10435                                13.129246   \n",
       "10436                                11.579776   \n",
       "\n",
       "       total_exploitable_water_resources  precipitation_index  gdp_per_capita  \\\n",
       "59                                  13.0              1136.00     5257.650696   \n",
       "60                                  13.0              1136.00     4514.204908   \n",
       "61                                  13.0              1136.00     4109.340457   \n",
       "62                                  13.0              1136.00     3939.413126   \n",
       "63                                  13.0              1136.00     4567.281443   \n",
       "...                                  ...                  ...             ...   \n",
       "10432                                1.5               746.72      811.510083   \n",
       "10433                                1.5               712.18      698.192005   \n",
       "10434                                1.5               677.64      588.037380   \n",
       "10435                                1.5               643.10      493.287110   \n",
       "10436                                1.5               645.68      441.744085   \n",
       "\n",
       "       total_internal_renewable_water_resource_per_capita  arable_land_area  \\\n",
       "59                                           9331.399988            611.346   \n",
       "60                                           9326.776621            612.000   \n",
       "61                                           9319.444935            620.300   \n",
       "62                                           9306.306528            615.100   \n",
       "63                                           9287.695875            615.600   \n",
       "...                                                  ...                ...   \n",
       "10432                                        2014.765967           2465.000   \n",
       "10433                                        2085.840681           2415.000   \n",
       "10434                                        2160.767062           2415.000   \n",
       "10435                                        2238.459064           2385.000   \n",
       "10436                                        2317.885740           2335.000   \n",
       "\n",
       "       total_population  total_yield  \n",
       "59             2882.740        87.14  \n",
       "60             2884.169        69.81  \n",
       "61             2886.438        68.46  \n",
       "62             2890.513        71.04  \n",
       "63             2896.305        68.50  \n",
       "...                 ...          ...  \n",
       "10432          6085.074       141.67  \n",
       "10433          5877.726       112.67  \n",
       "10434          5673.911       125.86  \n",
       "10435          5476.982       132.97  \n",
       "10436          5289.303       123.17  \n",
       "\n",
       "[1920 rows x 11 columns]"
      ]
     },
     "execution_count": 4,
     "metadata": {},
     "output_type": "execute_result"
    }
   ],
   "source": [
    "aquastat_file_names = [fn for fn in os.listdir(\"data/\") if \".xlsx\" in fn]\n",
    "\n",
    "aquastat_crop_yield = pipeline(aquastat_file_names, \"Attainable_yields.csv\", \"value\")\n",
    "\n",
    "aquastat_crop_yield"
   ]
  },
  {
   "cell_type": "code",
   "execution_count": 5,
   "id": "2a3506ed",
   "metadata": {},
   "outputs": [],
   "source": [
    "# descends the model by a single step\n",
    "def descend(true_y, pred_y, x, b, alpha=0.01):\n",
    "    return b - alpha*np.sum(np.subtract(pred_y, true_y)*x)/true_y.size"
   ]
  },
  {
   "cell_type": "code",
   "execution_count": 6,
   "id": "f37b4ef1",
   "metadata": {},
   "outputs": [],
   "source": [
    "# Returns a list of predictions for total yield when given X values and b values\n",
    "def predict(X, b):\n",
    "    return np.add(np.matmul(X.loc[:, X.columns != 'b0'],b[1:]), b[0])"
   ]
  },
  {
   "cell_type": "code",
   "execution_count": 7,
   "id": "3275735b",
   "metadata": {},
   "outputs": [],
   "source": [
    "def mse(true, pred):\n",
    "    return np.square(np.subtract(true,pred)).mean()"
   ]
  },
  {
   "cell_type": "code",
   "execution_count": 8,
   "id": "f261c798",
   "metadata": {},
   "outputs": [],
   "source": [
    "def lin_regression(data, alpha=0.00001, epochs=1000, stats=True, y_col='total_yield', print_=False):\n",
    "    # generates initial w values\n",
    "    b = np.zeros(len(data.axes[1]))\n",
    "    #b = random.rand(len(data.axes[1]))\n",
    "    \n",
    "    # removes outcome from data, and inserts a dummy column for w0\n",
    "    fdata = data.loc[:, data.columns != y_col]\n",
    "    fdata.insert(0, 'b0', np.ones(len(data)))\n",
    "    \n",
    "    if stats:\n",
    "        mse_list = []\n",
    "    \n",
    "    for i in range(epochs):\n",
    "\n",
    "        pred = predict(fdata, b)\n",
    "        \n",
    "        if print_:\n",
    "            print(b, pred)\n",
    "        \n",
    "        # Ends early if the value increases too much\n",
    "        if math.isnan(pred[0]) or math.isinf(pred[0]):\n",
    "            print(\"Value increased to infinity\")\n",
    "            if stats:\n",
    "                return b, mse_list\n",
    "            else:\n",
    "                return b\n",
    "        \n",
    "        if stats:\n",
    "            # Calculates mpe and acc for each epoch\n",
    "            mse_list.append(mse(data[y_col], pred))\n",
    "        \n",
    "        index = 0\n",
    "        for col in fdata:\n",
    "            b[index] = descend(data[y_col], pred, fdata[col], b[index], alpha=alpha)\n",
    "            index +=1\n",
    "    \n",
    "    if stats:\n",
    "        return b, mse_list\n",
    "    else:\n",
    "        return b"
   ]
  },
  {
   "cell_type": "code",
   "execution_count": 9,
   "id": "3b2aeb17",
   "metadata": {},
   "outputs": [],
   "source": [
    "def pipeline_separate(aquastat_filenames, crop_yield_filename, aquastat_feature):\n",
    "    \"\"\"\n",
    "    Runs the aquastat and crop yield pipeline\n",
    "    \"\"\"\n",
    "    shared_attributes = [\"Country\", \"Year\"]\n",
    "    crop_df = crop_yield_specialized_preprocessing(convert_to_pandas(crop_yield_filename))\n",
    "    dfs = []\n",
    "    for fn in aquastat_filenames:\n",
    "        temp_df = convert_to_pandas(fn)\n",
    "        strip_temp_df = strip_df(temp_df, shared_attributes + [aquastat_feature])\n",
    "        renamed_temp_df = aquastat_feature_rename(strip_temp_df, fn, aquastat_feature)\n",
    "        dfs.append(strip_temp_df)\n",
    "    \n",
    "    dfs.append(crop_df)\n",
    "    \n",
    "    return dfs"
   ]
  },
  {
   "cell_type": "code",
   "execution_count": 61,
   "id": "0eceb6bb",
   "metadata": {},
   "outputs": [
    {
     "data": {
      "text/plain": [
       "[           Country  Year  total_renewable_water_resources\n",
       " 0      Afghanistan  2020                            65.33\n",
       " 1      Afghanistan  2019                            65.33\n",
       " 2      Afghanistan  2018                            65.33\n",
       " 3      Afghanistan  2017                            65.33\n",
       " 4      Afghanistan  2016                            65.33\n",
       " ...            ...   ...                              ...\n",
       " 10438     Zimbabwe  1968                            20.00\n",
       " 10439     Zimbabwe  1967                            20.00\n",
       " 10440     Zimbabwe  1966                            20.00\n",
       " 10441     Zimbabwe  1965                            20.00\n",
       " 10442     Zimbabwe  1964                            20.00\n",
       " \n",
       " [10443 rows x 3 columns],\n",
       "           Country  Year  agricultural_value_added_percent_of_gdp\n",
       " 0     Afghanistan  2020                                27.013561\n",
       " 1     Afghanistan  2019                                25.773971\n",
       " 2     Afghanistan  2018                                22.042897\n",
       " 3     Afghanistan  2017                                26.420199\n",
       " 4     Afghanistan  2016                                25.740314\n",
       " ...           ...   ...                                      ...\n",
       " 9570     Zimbabwe  1969                                20.450000\n",
       " 9571     Zimbabwe  1968                                17.780000\n",
       " 9572     Zimbabwe  1967                                22.890000\n",
       " 9573     Zimbabwe  1966                                21.950000\n",
       " 9574     Zimbabwe  1965                                20.130000\n",
       " \n",
       " [9575 rows x 3 columns],\n",
       "        Country  Year  total_exploitable_water_resources\n",
       " 0      Albania  2020                                3.0\n",
       " 1      Albania  2019                                3.0\n",
       " 2      Albania  2018                               13.0\n",
       " 3      Albania  2017                               13.0\n",
       " 4      Albania  2016                               13.0\n",
       " ...        ...   ...                                ...\n",
       " 3318  Zimbabwe  1968                                1.5\n",
       " 3319  Zimbabwe  1967                                1.5\n",
       " 3320  Zimbabwe  1966                                1.5\n",
       " 3321  Zimbabwe  1965                                1.5\n",
       " 3322  Zimbabwe  1964                                1.5\n",
       " \n",
       " [3323 rows x 3 columns],\n",
       "           Country  Year  precipitation_index\n",
       " 0     Afghanistan  2000               185.00\n",
       " 1     Afghanistan  1993               297.00\n",
       " 2     Afghanistan  1988               336.90\n",
       " 3     Afghanistan  1986               267.40\n",
       " 4     Afghanistan  1980               322.30\n",
       " ...           ...   ...                  ...\n",
       " 8249     Zimbabwe  1972               677.64\n",
       " 8250     Zimbabwe  1970               645.68\n",
       " 8251     Zimbabwe  1969               648.26\n",
       " 8252     Zimbabwe  1968               650.84\n",
       " 8253     Zimbabwe  1967               653.42\n",
       " \n",
       " [8254 rows x 3 columns],\n",
       "           Country  Year  gdp_per_capita\n",
       " 0     Afghanistan  2020      508.453722\n",
       " 1     Afghanistan  2019      496.940553\n",
       " 2     Afghanistan  2018      495.504343\n",
       " 3     Afghanistan  2017      520.616409\n",
       " 4     Afghanistan  2016      509.271172\n",
       " ...           ...   ...             ...\n",
       " 9286     Zimbabwe  1974      811.510083\n",
       " 9287     Zimbabwe  1973      698.192005\n",
       " 9288     Zimbabwe  1972      588.037380\n",
       " 9289     Zimbabwe  1971      493.287110\n",
       " 9290     Zimbabwe  1970      441.744085\n",
       " \n",
       " [9291 rows x 3 columns],\n",
       "           Country  Year  total_internal_renewable_water_resource_per_capita\n",
       " 0     Afghanistan  2020                                        1211.199674 \n",
       " 1     Afghanistan  2019                                        1239.427604 \n",
       " 2     Afghanistan  2018                                        1268.430545 \n",
       " 3     Afghanistan  2017                                        1299.037172 \n",
       " 4     Afghanistan  2016                                        1332.559629 \n",
       " ...           ...   ...                                                ... \n",
       " 9640     Zimbabwe  1995                                        1282.000000 \n",
       " 9641     Zimbabwe  1990                                        1418.000000 \n",
       " 9642     Zimbabwe  1985                                        1685.000000 \n",
       " 9643     Zimbabwe  1980                                        1979.000000 \n",
       " 9644     Zimbabwe  1975                                        2295.000000 \n",
       " \n",
       " [9645 rows x 3 columns],\n",
       "            Country  Year  arable_land_area\n",
       " 0      Afghanistan  2020            7829.0\n",
       " 1      Afghanistan  2019            7788.0\n",
       " 2      Afghanistan  2018            7794.0\n",
       " 3      Afghanistan  2017            7699.0\n",
       " 4      Afghanistan  2016            7729.0\n",
       " ...            ...   ...               ...\n",
       " 10381     Zimbabwe  1968            2235.0\n",
       " 10382     Zimbabwe  1967            2185.0\n",
       " 10383     Zimbabwe  1966            2135.0\n",
       " 10384     Zimbabwe  1965            2065.0\n",
       " 10385     Zimbabwe  1964            2035.0\n",
       " \n",
       " [10386 rows x 3 columns],\n",
       "            Country  Year  total_population\n",
       " 0      Afghanistan  2020         38928.346\n",
       " 1      Afghanistan  2019         38041.754\n",
       " 2      Afghanistan  2018         37171.921\n",
       " 3      Afghanistan  2017         36296.113\n",
       " 4      Afghanistan  2016         35383.032\n",
       " ...            ...   ...               ...\n",
       " 10567     Zimbabwe  1968          4941.906\n",
       " 10568     Zimbabwe  1967          4779.827\n",
       " 10569     Zimbabwe  1966          4623.351\n",
       " 10570     Zimbabwe  1965          4471.177\n",
       " 10571     Zimbabwe  1964          4322.861\n",
       " \n",
       " [10572 rows x 3 columns],\n",
       "           Country  Year  total_yield\n",
       " 0     Afghanistan  1961        28.62\n",
       " 1     Afghanistan  1962        32.67\n",
       " 2     Afghanistan  1963        31.90\n",
       " 3     Afghanistan  1964        25.69\n",
       " 4     Afghanistan  1965        31.41\n",
       " ...           ...   ...          ...\n",
       " 8089     Zimbabwe  2014       122.40\n",
       " 8090     Zimbabwe  2015       109.41\n",
       " 8091     Zimbabwe  2016       111.70\n",
       " 8092     Zimbabwe  2017       113.47\n",
       " 8093     Zimbabwe  2018       114.44\n",
       " \n",
       " [8094 rows x 3 columns]]"
      ]
     },
     "execution_count": 61,
     "metadata": {},
     "output_type": "execute_result"
    }
   ],
   "source": [
    "dfs = pipeline_separate(aquastat_file_names, \"Attainable_yields.csv\", \"value\")\n",
    "dfs"
   ]
  },
  {
   "cell_type": "code",
   "execution_count": 101,
   "id": "71ce6275",
   "metadata": {},
   "outputs": [],
   "source": [
    "def test_combos(dfs, yield_df, combination_size=2, alpha_vals=[0.001, 0.0001]):\n",
    "    results = []\n",
    "    for size in range(combination_size):\n",
    "        combs = itertools.combinations(dfs, size)\n",
    "    \n",
    "        # Iterates through the list of combination\n",
    "        for comb in combs:\n",
    "            data = yield_df\n",
    "        \n",
    "            # Merges all the dataframes in the combination into 1\n",
    "            for df in comb:\n",
    "                data = data.merge(df, on=[\"Country\", \"Year\"])\n",
    "            \n",
    "            data = data.drop([\"Country\", \"Year\"], axis=1)\n",
    "        \n",
    "            # Runs linear regression using the given alpha levels\n",
    "            for alpha in alpha_vals:\n",
    "                beta, mse_list = lin_regression(data, epochs=1000, alpha=alpha)\n",
    "                mse_val = mse_list[-1]\n",
    "            \n",
    "                # Ensures mse_val is a number\n",
    "                if math.isnan(mse_val) or math.isinf(mse_val):\n",
    "                    mse_val = 99999999\n",
    "                \n",
    "                results.append((mse_val, beta, alpha, data.axes[1]))\n",
    "            \n",
    "            \n",
    "    return results"
   ]
  },
  {
   "cell_type": "code",
   "execution_count": 102,
   "id": "3934e441",
   "metadata": {},
   "outputs": [
    {
     "name": "stderr",
     "output_type": "stream",
     "text": [
      "C:\\Users\\rmons\\School\\Anaconda\\envs\\ml\\lib\\site-packages\\pandas\\core\\arraylike.py:402: RuntimeWarning: overflow encountered in square\n",
      "  result = getattr(ufunc, method)(*inputs, **kwargs)\n",
      "C:\\Users\\rmons\\School\\Anaconda\\envs\\ml\\lib\\site-packages\\pandas\\core\\arraylike.py:402: RuntimeWarning: overflow encountered in square\n",
      "  result = getattr(ufunc, method)(*inputs, **kwargs)\n"
     ]
    },
    {
     "name": "stdout",
     "output_type": "stream",
     "text": [
      "Value increased to infinity\n",
      "Value increased to infinity\n"
     ]
    },
    {
     "name": "stderr",
     "output_type": "stream",
     "text": [
      "C:\\Users\\rmons\\School\\Anaconda\\envs\\ml\\lib\\site-packages\\pandas\\core\\arraylike.py:402: RuntimeWarning: overflow encountered in square\n",
      "  result = getattr(ufunc, method)(*inputs, **kwargs)\n",
      "C:\\Users\\rmons\\School\\Anaconda\\envs\\ml\\lib\\site-packages\\pandas\\core\\arraylike.py:402: RuntimeWarning: overflow encountered in square\n",
      "  result = getattr(ufunc, method)(*inputs, **kwargs)\n"
     ]
    },
    {
     "name": "stdout",
     "output_type": "stream",
     "text": [
      "Value increased to infinity\n",
      "Value increased to infinity\n"
     ]
    },
    {
     "name": "stderr",
     "output_type": "stream",
     "text": [
      "C:\\Users\\rmons\\School\\Anaconda\\envs\\ml\\lib\\site-packages\\pandas\\core\\arraylike.py:402: RuntimeWarning: overflow encountered in square\n",
      "  result = getattr(ufunc, method)(*inputs, **kwargs)\n",
      "C:\\Users\\rmons\\School\\Anaconda\\envs\\ml\\lib\\site-packages\\pandas\\core\\arraylike.py:402: RuntimeWarning: overflow encountered in square\n",
      "  result = getattr(ufunc, method)(*inputs, **kwargs)\n"
     ]
    },
    {
     "name": "stdout",
     "output_type": "stream",
     "text": [
      "Value increased to infinity\n",
      "Value increased to infinity\n"
     ]
    },
    {
     "name": "stderr",
     "output_type": "stream",
     "text": [
      "C:\\Users\\rmons\\School\\Anaconda\\envs\\ml\\lib\\site-packages\\pandas\\core\\arraylike.py:402: RuntimeWarning: overflow encountered in square\n",
      "  result = getattr(ufunc, method)(*inputs, **kwargs)\n"
     ]
    },
    {
     "name": "stdout",
     "output_type": "stream",
     "text": [
      "Value increased to infinity\n"
     ]
    },
    {
     "name": "stderr",
     "output_type": "stream",
     "text": [
      "C:\\Users\\rmons\\School\\Anaconda\\envs\\ml\\lib\\site-packages\\pandas\\core\\arraylike.py:402: RuntimeWarning: overflow encountered in square\n",
      "  result = getattr(ufunc, method)(*inputs, **kwargs)\n",
      "C:\\Users\\rmons\\School\\Anaconda\\envs\\ml\\lib\\site-packages\\pandas\\core\\arraylike.py:402: RuntimeWarning: overflow encountered in square\n",
      "  result = getattr(ufunc, method)(*inputs, **kwargs)\n"
     ]
    },
    {
     "name": "stdout",
     "output_type": "stream",
     "text": [
      "Value increased to infinity\n",
      "Value increased to infinity\n"
     ]
    },
    {
     "name": "stderr",
     "output_type": "stream",
     "text": [
      "C:\\Users\\rmons\\School\\Anaconda\\envs\\ml\\lib\\site-packages\\pandas\\core\\arraylike.py:402: RuntimeWarning: overflow encountered in square\n",
      "  result = getattr(ufunc, method)(*inputs, **kwargs)\n",
      "C:\\Users\\rmons\\School\\Anaconda\\envs\\ml\\lib\\site-packages\\pandas\\core\\arraylike.py:402: RuntimeWarning: overflow encountered in square\n",
      "  result = getattr(ufunc, method)(*inputs, **kwargs)\n"
     ]
    },
    {
     "name": "stdout",
     "output_type": "stream",
     "text": [
      "Value increased to infinity\n",
      "Value increased to infinity\n"
     ]
    },
    {
     "name": "stderr",
     "output_type": "stream",
     "text": [
      "C:\\Users\\rmons\\School\\Anaconda\\envs\\ml\\lib\\site-packages\\pandas\\core\\arraylike.py:402: RuntimeWarning: overflow encountered in square\n",
      "  result = getattr(ufunc, method)(*inputs, **kwargs)\n"
     ]
    },
    {
     "name": "stdout",
     "output_type": "stream",
     "text": [
      "Value increased to infinity\n"
     ]
    },
    {
     "name": "stderr",
     "output_type": "stream",
     "text": [
      "C:\\Users\\rmons\\School\\Anaconda\\envs\\ml\\lib\\site-packages\\pandas\\core\\arraylike.py:402: RuntimeWarning: overflow encountered in square\n",
      "  result = getattr(ufunc, method)(*inputs, **kwargs)\n"
     ]
    },
    {
     "name": "stdout",
     "output_type": "stream",
     "text": [
      "Value increased to infinity\n"
     ]
    },
    {
     "name": "stderr",
     "output_type": "stream",
     "text": [
      "C:\\Users\\rmons\\School\\Anaconda\\envs\\ml\\lib\\site-packages\\pandas\\core\\arraylike.py:402: RuntimeWarning: overflow encountered in square\n",
      "  result = getattr(ufunc, method)(*inputs, **kwargs)\n"
     ]
    },
    {
     "name": "stdout",
     "output_type": "stream",
     "text": [
      "Value increased to infinity\n"
     ]
    },
    {
     "name": "stderr",
     "output_type": "stream",
     "text": [
      "C:\\Users\\rmons\\School\\Anaconda\\envs\\ml\\lib\\site-packages\\pandas\\core\\arraylike.py:402: RuntimeWarning: overflow encountered in square\n",
      "  result = getattr(ufunc, method)(*inputs, **kwargs)\n"
     ]
    },
    {
     "name": "stdout",
     "output_type": "stream",
     "text": [
      "Value increased to infinity\n"
     ]
    },
    {
     "name": "stderr",
     "output_type": "stream",
     "text": [
      "C:\\Users\\rmons\\School\\Anaconda\\envs\\ml\\lib\\site-packages\\pandas\\core\\arraylike.py:402: RuntimeWarning: overflow encountered in square\n",
      "  result = getattr(ufunc, method)(*inputs, **kwargs)\n",
      "C:\\Users\\rmons\\School\\Anaconda\\envs\\ml\\lib\\site-packages\\pandas\\core\\arraylike.py:402: RuntimeWarning: overflow encountered in square\n",
      "  result = getattr(ufunc, method)(*inputs, **kwargs)\n",
      "C:\\Users\\rmons\\School\\Anaconda\\envs\\ml\\lib\\site-packages\\pandas\\core\\arraylike.py:402: RuntimeWarning: overflow encountered in square\n",
      "  result = getattr(ufunc, method)(*inputs, **kwargs)\n"
     ]
    },
    {
     "name": "stdout",
     "output_type": "stream",
     "text": [
      "Value increased to infinity\n",
      "Value increased to infinity\n",
      "Value increased to infinity\n"
     ]
    },
    {
     "name": "stderr",
     "output_type": "stream",
     "text": [
      "C:\\Users\\rmons\\School\\Anaconda\\envs\\ml\\lib\\site-packages\\pandas\\core\\arraylike.py:402: RuntimeWarning: overflow encountered in square\n",
      "  result = getattr(ufunc, method)(*inputs, **kwargs)\n",
      "C:\\Users\\rmons\\School\\Anaconda\\envs\\ml\\lib\\site-packages\\pandas\\core\\arraylike.py:402: RuntimeWarning: overflow encountered in square\n",
      "  result = getattr(ufunc, method)(*inputs, **kwargs)\n",
      "C:\\Users\\rmons\\School\\Anaconda\\envs\\ml\\lib\\site-packages\\pandas\\core\\arraylike.py:402: RuntimeWarning: overflow encountered in square\n",
      "  result = getattr(ufunc, method)(*inputs, **kwargs)\n"
     ]
    },
    {
     "name": "stdout",
     "output_type": "stream",
     "text": [
      "Value increased to infinity\n",
      "Value increased to infinity\n",
      "Value increased to infinity\n"
     ]
    },
    {
     "name": "stderr",
     "output_type": "stream",
     "text": [
      "C:\\Users\\rmons\\School\\Anaconda\\envs\\ml\\lib\\site-packages\\pandas\\core\\arraylike.py:402: RuntimeWarning: overflow encountered in square\n",
      "  result = getattr(ufunc, method)(*inputs, **kwargs)\n"
     ]
    },
    {
     "name": "stdout",
     "output_type": "stream",
     "text": [
      "Value increased to infinity\n"
     ]
    },
    {
     "name": "stderr",
     "output_type": "stream",
     "text": [
      "C:\\Users\\rmons\\School\\Anaconda\\envs\\ml\\lib\\site-packages\\pandas\\core\\arraylike.py:402: RuntimeWarning: overflow encountered in square\n",
      "  result = getattr(ufunc, method)(*inputs, **kwargs)\n",
      "C:\\Users\\rmons\\School\\Anaconda\\envs\\ml\\lib\\site-packages\\pandas\\core\\arraylike.py:402: RuntimeWarning: overflow encountered in square\n",
      "  result = getattr(ufunc, method)(*inputs, **kwargs)\n"
     ]
    },
    {
     "name": "stdout",
     "output_type": "stream",
     "text": [
      "Value increased to infinity\n",
      "Value increased to infinity\n"
     ]
    },
    {
     "name": "stderr",
     "output_type": "stream",
     "text": [
      "C:\\Users\\rmons\\School\\Anaconda\\envs\\ml\\lib\\site-packages\\pandas\\core\\arraylike.py:402: RuntimeWarning: overflow encountered in square\n",
      "  result = getattr(ufunc, method)(*inputs, **kwargs)\n"
     ]
    },
    {
     "name": "stdout",
     "output_type": "stream",
     "text": [
      "Value increased to infinity\n",
      "Value increased to infinity\n"
     ]
    },
    {
     "name": "stderr",
     "output_type": "stream",
     "text": [
      "C:\\Users\\rmons\\School\\Anaconda\\envs\\ml\\lib\\site-packages\\pandas\\core\\arraylike.py:402: RuntimeWarning: overflow encountered in square\n",
      "  result = getattr(ufunc, method)(*inputs, **kwargs)\n",
      "C:\\Users\\rmons\\School\\Anaconda\\envs\\ml\\lib\\site-packages\\pandas\\core\\arraylike.py:402: RuntimeWarning: overflow encountered in square\n",
      "  result = getattr(ufunc, method)(*inputs, **kwargs)\n"
     ]
    },
    {
     "name": "stdout",
     "output_type": "stream",
     "text": [
      "Value increased to infinity\n",
      "Value increased to infinity\n"
     ]
    },
    {
     "name": "stderr",
     "output_type": "stream",
     "text": [
      "C:\\Users\\rmons\\School\\Anaconda\\envs\\ml\\lib\\site-packages\\pandas\\core\\arraylike.py:402: RuntimeWarning: overflow encountered in square\n",
      "  result = getattr(ufunc, method)(*inputs, **kwargs)\n",
      "C:\\Users\\rmons\\School\\Anaconda\\envs\\ml\\lib\\site-packages\\pandas\\core\\arraylike.py:402: RuntimeWarning: overflow encountered in square\n",
      "  result = getattr(ufunc, method)(*inputs, **kwargs)\n"
     ]
    },
    {
     "name": "stdout",
     "output_type": "stream",
     "text": [
      "Value increased to infinity\n",
      "Value increased to infinity\n"
     ]
    },
    {
     "name": "stderr",
     "output_type": "stream",
     "text": [
      "C:\\Users\\rmons\\School\\Anaconda\\envs\\ml\\lib\\site-packages\\pandas\\core\\arraylike.py:402: RuntimeWarning: overflow encountered in square\n",
      "  result = getattr(ufunc, method)(*inputs, **kwargs)\n",
      "C:\\Users\\rmons\\School\\Anaconda\\envs\\ml\\lib\\site-packages\\pandas\\core\\arraylike.py:402: RuntimeWarning: overflow encountered in square\n",
      "  result = getattr(ufunc, method)(*inputs, **kwargs)\n"
     ]
    },
    {
     "name": "stdout",
     "output_type": "stream",
     "text": [
      "Value increased to infinity\n"
     ]
    },
    {
     "name": "stderr",
     "output_type": "stream",
     "text": [
      "C:\\Users\\rmons\\School\\Anaconda\\envs\\ml\\lib\\site-packages\\pandas\\core\\arraylike.py:402: RuntimeWarning: overflow encountered in square\n",
      "  result = getattr(ufunc, method)(*inputs, **kwargs)\n"
     ]
    },
    {
     "name": "stdout",
     "output_type": "stream",
     "text": [
      "Value increased to infinity\n"
     ]
    },
    {
     "name": "stderr",
     "output_type": "stream",
     "text": [
      "C:\\Users\\rmons\\School\\Anaconda\\envs\\ml\\lib\\site-packages\\pandas\\core\\arraylike.py:402: RuntimeWarning: overflow encountered in square\n",
      "  result = getattr(ufunc, method)(*inputs, **kwargs)\n",
      "C:\\Users\\rmons\\School\\Anaconda\\envs\\ml\\lib\\site-packages\\pandas\\core\\arraylike.py:402: RuntimeWarning: overflow encountered in square\n",
      "  result = getattr(ufunc, method)(*inputs, **kwargs)\n"
     ]
    },
    {
     "name": "stdout",
     "output_type": "stream",
     "text": [
      "Value increased to infinity\n",
      "Value increased to infinity\n"
     ]
    },
    {
     "name": "stderr",
     "output_type": "stream",
     "text": [
      "C:\\Users\\rmons\\School\\Anaconda\\envs\\ml\\lib\\site-packages\\pandas\\core\\arraylike.py:402: RuntimeWarning: overflow encountered in square\n",
      "  result = getattr(ufunc, method)(*inputs, **kwargs)\n",
      "C:\\Users\\rmons\\School\\Anaconda\\envs\\ml\\lib\\site-packages\\pandas\\core\\arraylike.py:402: RuntimeWarning: overflow encountered in square\n",
      "  result = getattr(ufunc, method)(*inputs, **kwargs)\n"
     ]
    },
    {
     "name": "stdout",
     "output_type": "stream",
     "text": [
      "Value increased to infinity\n",
      "Value increased to infinity\n"
     ]
    },
    {
     "name": "stderr",
     "output_type": "stream",
     "text": [
      "C:\\Users\\rmons\\School\\Anaconda\\envs\\ml\\lib\\site-packages\\pandas\\core\\arraylike.py:402: RuntimeWarning: overflow encountered in square\n",
      "  result = getattr(ufunc, method)(*inputs, **kwargs)\n"
     ]
    },
    {
     "name": "stdout",
     "output_type": "stream",
     "text": [
      "Value increased to infinity\n"
     ]
    },
    {
     "name": "stderr",
     "output_type": "stream",
     "text": [
      "C:\\Users\\rmons\\School\\Anaconda\\envs\\ml\\lib\\site-packages\\pandas\\core\\arraylike.py:402: RuntimeWarning: overflow encountered in square\n",
      "  result = getattr(ufunc, method)(*inputs, **kwargs)\n"
     ]
    },
    {
     "name": "stdout",
     "output_type": "stream",
     "text": [
      "Value increased to infinity\n"
     ]
    },
    {
     "name": "stderr",
     "output_type": "stream",
     "text": [
      "C:\\Users\\rmons\\School\\Anaconda\\envs\\ml\\lib\\site-packages\\pandas\\core\\arraylike.py:402: RuntimeWarning: overflow encountered in square\n",
      "  result = getattr(ufunc, method)(*inputs, **kwargs)\n"
     ]
    },
    {
     "name": "stdout",
     "output_type": "stream",
     "text": [
      "Value increased to infinity\n"
     ]
    },
    {
     "name": "stderr",
     "output_type": "stream",
     "text": [
      "C:\\Users\\rmons\\School\\Anaconda\\envs\\ml\\lib\\site-packages\\pandas\\core\\arraylike.py:402: RuntimeWarning: overflow encountered in square\n",
      "  result = getattr(ufunc, method)(*inputs, **kwargs)\n"
     ]
    },
    {
     "name": "stdout",
     "output_type": "stream",
     "text": [
      "Value increased to infinity\n"
     ]
    },
    {
     "name": "stderr",
     "output_type": "stream",
     "text": [
      "C:\\Users\\rmons\\School\\Anaconda\\envs\\ml\\lib\\site-packages\\pandas\\core\\arraylike.py:402: RuntimeWarning: overflow encountered in square\n",
      "  result = getattr(ufunc, method)(*inputs, **kwargs)\n",
      "C:\\Users\\rmons\\School\\Anaconda\\envs\\ml\\lib\\site-packages\\pandas\\core\\arraylike.py:402: RuntimeWarning: overflow encountered in square\n",
      "  result = getattr(ufunc, method)(*inputs, **kwargs)\n",
      "C:\\Users\\rmons\\School\\Anaconda\\envs\\ml\\lib\\site-packages\\pandas\\core\\arraylike.py:402: RuntimeWarning: overflow encountered in square\n",
      "  result = getattr(ufunc, method)(*inputs, **kwargs)\n"
     ]
    },
    {
     "name": "stdout",
     "output_type": "stream",
     "text": [
      "Value increased to infinity\n",
      "Value increased to infinity\n",
      "Value increased to infinity\n"
     ]
    },
    {
     "name": "stderr",
     "output_type": "stream",
     "text": [
      "C:\\Users\\rmons\\School\\Anaconda\\envs\\ml\\lib\\site-packages\\pandas\\core\\arraylike.py:402: RuntimeWarning: overflow encountered in square\n",
      "  result = getattr(ufunc, method)(*inputs, **kwargs)\n",
      "C:\\Users\\rmons\\School\\Anaconda\\envs\\ml\\lib\\site-packages\\pandas\\core\\arraylike.py:402: RuntimeWarning: overflow encountered in square\n",
      "  result = getattr(ufunc, method)(*inputs, **kwargs)\n",
      "C:\\Users\\rmons\\School\\Anaconda\\envs\\ml\\lib\\site-packages\\pandas\\core\\arraylike.py:402: RuntimeWarning: overflow encountered in square\n",
      "  result = getattr(ufunc, method)(*inputs, **kwargs)\n"
     ]
    },
    {
     "name": "stdout",
     "output_type": "stream",
     "text": [
      "Value increased to infinity\n",
      "Value increased to infinity\n",
      "Value increased to infinity\n"
     ]
    },
    {
     "name": "stderr",
     "output_type": "stream",
     "text": [
      "C:\\Users\\rmons\\School\\Anaconda\\envs\\ml\\lib\\site-packages\\pandas\\core\\arraylike.py:402: RuntimeWarning: overflow encountered in square\n",
      "  result = getattr(ufunc, method)(*inputs, **kwargs)\n"
     ]
    },
    {
     "name": "stdout",
     "output_type": "stream",
     "text": [
      "Value increased to infinity\n"
     ]
    },
    {
     "name": "stderr",
     "output_type": "stream",
     "text": [
      "C:\\Users\\rmons\\School\\Anaconda\\envs\\ml\\lib\\site-packages\\pandas\\core\\arraylike.py:402: RuntimeWarning: overflow encountered in square\n",
      "  result = getattr(ufunc, method)(*inputs, **kwargs)\n",
      "C:\\Users\\rmons\\School\\Anaconda\\envs\\ml\\lib\\site-packages\\pandas\\core\\arraylike.py:402: RuntimeWarning: overflow encountered in square\n",
      "  result = getattr(ufunc, method)(*inputs, **kwargs)\n"
     ]
    },
    {
     "name": "stdout",
     "output_type": "stream",
     "text": [
      "Value increased to infinity\n",
      "Value increased to infinity\n"
     ]
    },
    {
     "name": "stderr",
     "output_type": "stream",
     "text": [
      "C:\\Users\\rmons\\School\\Anaconda\\envs\\ml\\lib\\site-packages\\pandas\\core\\arraylike.py:402: RuntimeWarning: overflow encountered in square\n",
      "  result = getattr(ufunc, method)(*inputs, **kwargs)\n"
     ]
    },
    {
     "name": "stdout",
     "output_type": "stream",
     "text": [
      "Value increased to infinity\n",
      "Value increased to infinity\n",
      "Value increased to infinity\n"
     ]
    },
    {
     "name": "stderr",
     "output_type": "stream",
     "text": [
      "C:\\Users\\rmons\\School\\Anaconda\\envs\\ml\\lib\\site-packages\\pandas\\core\\arraylike.py:402: RuntimeWarning: overflow encountered in square\n",
      "  result = getattr(ufunc, method)(*inputs, **kwargs)\n",
      "C:\\Users\\rmons\\School\\Anaconda\\envs\\ml\\lib\\site-packages\\pandas\\core\\arraylike.py:402: RuntimeWarning: overflow encountered in square\n",
      "  result = getattr(ufunc, method)(*inputs, **kwargs)\n",
      "C:\\Users\\rmons\\School\\Anaconda\\envs\\ml\\lib\\site-packages\\pandas\\core\\arraylike.py:402: RuntimeWarning: overflow encountered in square\n",
      "  result = getattr(ufunc, method)(*inputs, **kwargs)\n"
     ]
    },
    {
     "name": "stdout",
     "output_type": "stream",
     "text": [
      "Value increased to infinity\n",
      "Value increased to infinity\n"
     ]
    },
    {
     "name": "stderr",
     "output_type": "stream",
     "text": [
      "C:\\Users\\rmons\\School\\Anaconda\\envs\\ml\\lib\\site-packages\\pandas\\core\\arraylike.py:402: RuntimeWarning: overflow encountered in square\n",
      "  result = getattr(ufunc, method)(*inputs, **kwargs)\n",
      "C:\\Users\\rmons\\School\\Anaconda\\envs\\ml\\lib\\site-packages\\pandas\\core\\arraylike.py:402: RuntimeWarning: overflow encountered in square\n",
      "  result = getattr(ufunc, method)(*inputs, **kwargs)\n"
     ]
    },
    {
     "name": "stdout",
     "output_type": "stream",
     "text": [
      "Value increased to infinity\n",
      "Value increased to infinity\n"
     ]
    },
    {
     "name": "stderr",
     "output_type": "stream",
     "text": [
      "C:\\Users\\rmons\\School\\Anaconda\\envs\\ml\\lib\\site-packages\\pandas\\core\\arraylike.py:402: RuntimeWarning: overflow encountered in square\n",
      "  result = getattr(ufunc, method)(*inputs, **kwargs)\n",
      "C:\\Users\\rmons\\School\\Anaconda\\envs\\ml\\lib\\site-packages\\pandas\\core\\arraylike.py:402: RuntimeWarning: overflow encountered in square\n",
      "  result = getattr(ufunc, method)(*inputs, **kwargs)\n"
     ]
    },
    {
     "name": "stdout",
     "output_type": "stream",
     "text": [
      "Value increased to infinity\n",
      "Value increased to infinity\n"
     ]
    },
    {
     "name": "stderr",
     "output_type": "stream",
     "text": [
      "C:\\Users\\rmons\\School\\Anaconda\\envs\\ml\\lib\\site-packages\\pandas\\core\\arraylike.py:402: RuntimeWarning: overflow encountered in square\n",
      "  result = getattr(ufunc, method)(*inputs, **kwargs)\n",
      "C:\\Users\\rmons\\School\\Anaconda\\envs\\ml\\lib\\site-packages\\pandas\\core\\arraylike.py:402: RuntimeWarning: overflow encountered in square\n",
      "  result = getattr(ufunc, method)(*inputs, **kwargs)\n"
     ]
    },
    {
     "name": "stdout",
     "output_type": "stream",
     "text": [
      "Value increased to infinity\n",
      "Value increased to infinity\n"
     ]
    },
    {
     "name": "stderr",
     "output_type": "stream",
     "text": [
      "C:\\Users\\rmons\\School\\Anaconda\\envs\\ml\\lib\\site-packages\\pandas\\core\\arraylike.py:402: RuntimeWarning: overflow encountered in square\n",
      "  result = getattr(ufunc, method)(*inputs, **kwargs)\n",
      "C:\\Users\\rmons\\School\\Anaconda\\envs\\ml\\lib\\site-packages\\pandas\\core\\arraylike.py:402: RuntimeWarning: overflow encountered in square\n",
      "  result = getattr(ufunc, method)(*inputs, **kwargs)\n"
     ]
    },
    {
     "name": "stdout",
     "output_type": "stream",
     "text": [
      "Value increased to infinity\n",
      "Value increased to infinity\n"
     ]
    },
    {
     "name": "stderr",
     "output_type": "stream",
     "text": [
      "C:\\Users\\rmons\\School\\Anaconda\\envs\\ml\\lib\\site-packages\\pandas\\core\\arraylike.py:402: RuntimeWarning: overflow encountered in square\n",
      "  result = getattr(ufunc, method)(*inputs, **kwargs)\n",
      "C:\\Users\\rmons\\School\\Anaconda\\envs\\ml\\lib\\site-packages\\pandas\\core\\arraylike.py:402: RuntimeWarning: overflow encountered in square\n",
      "  result = getattr(ufunc, method)(*inputs, **kwargs)\n"
     ]
    },
    {
     "name": "stdout",
     "output_type": "stream",
     "text": [
      "Value increased to infinity\n",
      "Value increased to infinity\n"
     ]
    },
    {
     "name": "stderr",
     "output_type": "stream",
     "text": [
      "C:\\Users\\rmons\\School\\Anaconda\\envs\\ml\\lib\\site-packages\\pandas\\core\\arraylike.py:402: RuntimeWarning: overflow encountered in square\n",
      "  result = getattr(ufunc, method)(*inputs, **kwargs)\n",
      "C:\\Users\\rmons\\School\\Anaconda\\envs\\ml\\lib\\site-packages\\pandas\\core\\arraylike.py:402: RuntimeWarning: overflow encountered in square\n",
      "  result = getattr(ufunc, method)(*inputs, **kwargs)\n"
     ]
    },
    {
     "name": "stdout",
     "output_type": "stream",
     "text": [
      "Value increased to infinity\n",
      "Value increased to infinity\n",
      "Value increased to infinity\n"
     ]
    },
    {
     "name": "stderr",
     "output_type": "stream",
     "text": [
      "C:\\Users\\rmons\\School\\Anaconda\\envs\\ml\\lib\\site-packages\\pandas\\core\\arraylike.py:402: RuntimeWarning: overflow encountered in square\n",
      "  result = getattr(ufunc, method)(*inputs, **kwargs)\n",
      "C:\\Users\\rmons\\School\\Anaconda\\envs\\ml\\lib\\site-packages\\pandas\\core\\arraylike.py:402: RuntimeWarning: overflow encountered in square\n",
      "  result = getattr(ufunc, method)(*inputs, **kwargs)\n",
      "C:\\Users\\rmons\\School\\Anaconda\\envs\\ml\\lib\\site-packages\\pandas\\core\\arraylike.py:402: RuntimeWarning: overflow encountered in square\n",
      "  result = getattr(ufunc, method)(*inputs, **kwargs)\n",
      "C:\\Users\\rmons\\School\\Anaconda\\envs\\ml\\lib\\site-packages\\pandas\\core\\arraylike.py:402: RuntimeWarning: overflow encountered in square\n",
      "  result = getattr(ufunc, method)(*inputs, **kwargs)\n"
     ]
    },
    {
     "name": "stdout",
     "output_type": "stream",
     "text": [
      "Value increased to infinity\n",
      "Value increased to infinity\n",
      "Value increased to infinity\n"
     ]
    },
    {
     "name": "stderr",
     "output_type": "stream",
     "text": [
      "C:\\Users\\rmons\\School\\Anaconda\\envs\\ml\\lib\\site-packages\\pandas\\core\\arraylike.py:402: RuntimeWarning: overflow encountered in square\n",
      "  result = getattr(ufunc, method)(*inputs, **kwargs)\n",
      "C:\\Users\\rmons\\School\\Anaconda\\envs\\ml\\lib\\site-packages\\pandas\\core\\arraylike.py:402: RuntimeWarning: overflow encountered in square\n",
      "  result = getattr(ufunc, method)(*inputs, **kwargs)\n",
      "C:\\Users\\rmons\\School\\Anaconda\\envs\\ml\\lib\\site-packages\\pandas\\core\\arraylike.py:402: RuntimeWarning: overflow encountered in square\n",
      "  result = getattr(ufunc, method)(*inputs, **kwargs)\n"
     ]
    },
    {
     "name": "stdout",
     "output_type": "stream",
     "text": [
      "Value increased to infinity\n",
      "Value increased to infinity\n",
      "Value increased to infinity\n"
     ]
    },
    {
     "name": "stderr",
     "output_type": "stream",
     "text": [
      "C:\\Users\\rmons\\School\\Anaconda\\envs\\ml\\lib\\site-packages\\pandas\\core\\arraylike.py:402: RuntimeWarning: overflow encountered in square\n",
      "  result = getattr(ufunc, method)(*inputs, **kwargs)\n",
      "C:\\Users\\rmons\\School\\Anaconda\\envs\\ml\\lib\\site-packages\\pandas\\core\\arraylike.py:402: RuntimeWarning: overflow encountered in square\n",
      "  result = getattr(ufunc, method)(*inputs, **kwargs)\n",
      "C:\\Users\\rmons\\School\\Anaconda\\envs\\ml\\lib\\site-packages\\pandas\\core\\arraylike.py:402: RuntimeWarning: overflow encountered in square\n",
      "  result = getattr(ufunc, method)(*inputs, **kwargs)\n"
     ]
    },
    {
     "name": "stdout",
     "output_type": "stream",
     "text": [
      "Value increased to infinity\n",
      "Value increased to infinity\n",
      "Value increased to infinity\n"
     ]
    },
    {
     "name": "stderr",
     "output_type": "stream",
     "text": [
      "C:\\Users\\rmons\\School\\Anaconda\\envs\\ml\\lib\\site-packages\\pandas\\core\\arraylike.py:402: RuntimeWarning: overflow encountered in square\n",
      "  result = getattr(ufunc, method)(*inputs, **kwargs)\n",
      "C:\\Users\\rmons\\School\\Anaconda\\envs\\ml\\lib\\site-packages\\pandas\\core\\arraylike.py:402: RuntimeWarning: overflow encountered in square\n",
      "  result = getattr(ufunc, method)(*inputs, **kwargs)\n"
     ]
    },
    {
     "name": "stdout",
     "output_type": "stream",
     "text": [
      "Value increased to infinity\n",
      "Value increased to infinity\n"
     ]
    },
    {
     "name": "stderr",
     "output_type": "stream",
     "text": [
      "C:\\Users\\rmons\\School\\Anaconda\\envs\\ml\\lib\\site-packages\\pandas\\core\\arraylike.py:402: RuntimeWarning: overflow encountered in square\n",
      "  result = getattr(ufunc, method)(*inputs, **kwargs)\n",
      "C:\\Users\\rmons\\School\\Anaconda\\envs\\ml\\lib\\site-packages\\pandas\\core\\arraylike.py:402: RuntimeWarning: overflow encountered in square\n",
      "  result = getattr(ufunc, method)(*inputs, **kwargs)\n"
     ]
    },
    {
     "name": "stdout",
     "output_type": "stream",
     "text": [
      "Value increased to infinity\n",
      "Value increased to infinity\n"
     ]
    },
    {
     "name": "stderr",
     "output_type": "stream",
     "text": [
      "C:\\Users\\rmons\\School\\Anaconda\\envs\\ml\\lib\\site-packages\\pandas\\core\\arraylike.py:402: RuntimeWarning: overflow encountered in square\n",
      "  result = getattr(ufunc, method)(*inputs, **kwargs)\n",
      "C:\\Users\\rmons\\School\\Anaconda\\envs\\ml\\lib\\site-packages\\pandas\\core\\arraylike.py:402: RuntimeWarning: overflow encountered in square\n",
      "  result = getattr(ufunc, method)(*inputs, **kwargs)\n"
     ]
    },
    {
     "name": "stdout",
     "output_type": "stream",
     "text": [
      "Value increased to infinity\n",
      "Value increased to infinity\n"
     ]
    },
    {
     "name": "stderr",
     "output_type": "stream",
     "text": [
      "C:\\Users\\rmons\\School\\Anaconda\\envs\\ml\\lib\\site-packages\\pandas\\core\\arraylike.py:402: RuntimeWarning: overflow encountered in square\n",
      "  result = getattr(ufunc, method)(*inputs, **kwargs)\n",
      "C:\\Users\\rmons\\School\\Anaconda\\envs\\ml\\lib\\site-packages\\pandas\\core\\arraylike.py:402: RuntimeWarning: overflow encountered in square\n",
      "  result = getattr(ufunc, method)(*inputs, **kwargs)\n"
     ]
    },
    {
     "name": "stdout",
     "output_type": "stream",
     "text": [
      "Value increased to infinity\n",
      "Value increased to infinity\n"
     ]
    },
    {
     "name": "stderr",
     "output_type": "stream",
     "text": [
      "C:\\Users\\rmons\\School\\Anaconda\\envs\\ml\\lib\\site-packages\\pandas\\core\\arraylike.py:402: RuntimeWarning: overflow encountered in square\n",
      "  result = getattr(ufunc, method)(*inputs, **kwargs)\n",
      "C:\\Users\\rmons\\School\\Anaconda\\envs\\ml\\lib\\site-packages\\pandas\\core\\arraylike.py:402: RuntimeWarning: overflow encountered in square\n",
      "  result = getattr(ufunc, method)(*inputs, **kwargs)\n"
     ]
    },
    {
     "name": "stdout",
     "output_type": "stream",
     "text": [
      "Value increased to infinity\n"
     ]
    },
    {
     "name": "stderr",
     "output_type": "stream",
     "text": [
      "C:\\Users\\rmons\\School\\Anaconda\\envs\\ml\\lib\\site-packages\\pandas\\core\\arraylike.py:402: RuntimeWarning: overflow encountered in square\n",
      "  result = getattr(ufunc, method)(*inputs, **kwargs)\n",
      "C:\\Users\\rmons\\School\\Anaconda\\envs\\ml\\lib\\site-packages\\pandas\\core\\arraylike.py:402: RuntimeWarning: overflow encountered in square\n",
      "  result = getattr(ufunc, method)(*inputs, **kwargs)\n"
     ]
    },
    {
     "name": "stdout",
     "output_type": "stream",
     "text": [
      "Value increased to infinity\n",
      "Value increased to infinity\n",
      "Value increased to infinity\n"
     ]
    },
    {
     "name": "stderr",
     "output_type": "stream",
     "text": [
      "C:\\Users\\rmons\\School\\Anaconda\\envs\\ml\\lib\\site-packages\\pandas\\core\\arraylike.py:402: RuntimeWarning: overflow encountered in square\n",
      "  result = getattr(ufunc, method)(*inputs, **kwargs)\n",
      "C:\\Users\\rmons\\School\\Anaconda\\envs\\ml\\lib\\site-packages\\pandas\\core\\arraylike.py:402: RuntimeWarning: overflow encountered in square\n",
      "  result = getattr(ufunc, method)(*inputs, **kwargs)\n"
     ]
    },
    {
     "name": "stdout",
     "output_type": "stream",
     "text": [
      "Value increased to infinity\n",
      "Value increased to infinity\n"
     ]
    },
    {
     "name": "stderr",
     "output_type": "stream",
     "text": [
      "C:\\Users\\rmons\\School\\Anaconda\\envs\\ml\\lib\\site-packages\\pandas\\core\\arraylike.py:402: RuntimeWarning: overflow encountered in square\n",
      "  result = getattr(ufunc, method)(*inputs, **kwargs)\n",
      "C:\\Users\\rmons\\School\\Anaconda\\envs\\ml\\lib\\site-packages\\pandas\\core\\arraylike.py:402: RuntimeWarning: overflow encountered in square\n",
      "  result = getattr(ufunc, method)(*inputs, **kwargs)\n"
     ]
    },
    {
     "name": "stdout",
     "output_type": "stream",
     "text": [
      "Value increased to infinity\n"
     ]
    },
    {
     "name": "stderr",
     "output_type": "stream",
     "text": [
      "C:\\Users\\rmons\\School\\Anaconda\\envs\\ml\\lib\\site-packages\\pandas\\core\\arraylike.py:402: RuntimeWarning: overflow encountered in square\n",
      "  result = getattr(ufunc, method)(*inputs, **kwargs)\n"
     ]
    },
    {
     "name": "stdout",
     "output_type": "stream",
     "text": [
      "Value increased to infinity\n",
      "Value increased to infinity\n"
     ]
    },
    {
     "name": "stderr",
     "output_type": "stream",
     "text": [
      "C:\\Users\\rmons\\School\\Anaconda\\envs\\ml\\lib\\site-packages\\pandas\\core\\arraylike.py:402: RuntimeWarning: overflow encountered in square\n",
      "  result = getattr(ufunc, method)(*inputs, **kwargs)\n",
      "C:\\Users\\rmons\\School\\Anaconda\\envs\\ml\\lib\\site-packages\\pandas\\core\\arraylike.py:402: RuntimeWarning: overflow encountered in square\n",
      "  result = getattr(ufunc, method)(*inputs, **kwargs)\n"
     ]
    },
    {
     "name": "stdout",
     "output_type": "stream",
     "text": [
      "Value increased to infinity\n"
     ]
    },
    {
     "name": "stderr",
     "output_type": "stream",
     "text": [
      "C:\\Users\\rmons\\School\\Anaconda\\envs\\ml\\lib\\site-packages\\pandas\\core\\arraylike.py:402: RuntimeWarning: overflow encountered in square\n",
      "  result = getattr(ufunc, method)(*inputs, **kwargs)\n"
     ]
    },
    {
     "name": "stdout",
     "output_type": "stream",
     "text": [
      "Value increased to infinity\n",
      "Value increased to infinity\n",
      "Value increased to infinity\n"
     ]
    },
    {
     "name": "stderr",
     "output_type": "stream",
     "text": [
      "C:\\Users\\rmons\\School\\Anaconda\\envs\\ml\\lib\\site-packages\\pandas\\core\\arraylike.py:402: RuntimeWarning: overflow encountered in square\n",
      "  result = getattr(ufunc, method)(*inputs, **kwargs)\n",
      "C:\\Users\\rmons\\School\\Anaconda\\envs\\ml\\lib\\site-packages\\pandas\\core\\arraylike.py:402: RuntimeWarning: overflow encountered in square\n",
      "  result = getattr(ufunc, method)(*inputs, **kwargs)\n",
      "C:\\Users\\rmons\\School\\Anaconda\\envs\\ml\\lib\\site-packages\\pandas\\core\\arraylike.py:402: RuntimeWarning: overflow encountered in square\n",
      "  result = getattr(ufunc, method)(*inputs, **kwargs)\n"
     ]
    },
    {
     "name": "stdout",
     "output_type": "stream",
     "text": [
      "Value increased to infinity\n",
      "Value increased to infinity\n",
      "Value increased to infinity\n"
     ]
    },
    {
     "name": "stderr",
     "output_type": "stream",
     "text": [
      "C:\\Users\\rmons\\School\\Anaconda\\envs\\ml\\lib\\site-packages\\pandas\\core\\arraylike.py:402: RuntimeWarning: overflow encountered in square\n",
      "  result = getattr(ufunc, method)(*inputs, **kwargs)\n",
      "C:\\Users\\rmons\\School\\Anaconda\\envs\\ml\\lib\\site-packages\\pandas\\core\\arraylike.py:402: RuntimeWarning: overflow encountered in square\n",
      "  result = getattr(ufunc, method)(*inputs, **kwargs)\n",
      "C:\\Users\\rmons\\School\\Anaconda\\envs\\ml\\lib\\site-packages\\pandas\\core\\arraylike.py:402: RuntimeWarning: overflow encountered in square\n",
      "  result = getattr(ufunc, method)(*inputs, **kwargs)\n"
     ]
    },
    {
     "name": "stdout",
     "output_type": "stream",
     "text": [
      "Value increased to infinity\n",
      "Value increased to infinity\n"
     ]
    },
    {
     "name": "stderr",
     "output_type": "stream",
     "text": [
      "C:\\Users\\rmons\\School\\Anaconda\\envs\\ml\\lib\\site-packages\\pandas\\core\\arraylike.py:402: RuntimeWarning: overflow encountered in square\n",
      "  result = getattr(ufunc, method)(*inputs, **kwargs)\n",
      "C:\\Users\\rmons\\School\\Anaconda\\envs\\ml\\lib\\site-packages\\pandas\\core\\arraylike.py:402: RuntimeWarning: overflow encountered in square\n",
      "  result = getattr(ufunc, method)(*inputs, **kwargs)\n"
     ]
    },
    {
     "name": "stdout",
     "output_type": "stream",
     "text": [
      "Value increased to infinity\n"
     ]
    },
    {
     "name": "stderr",
     "output_type": "stream",
     "text": [
      "C:\\Users\\rmons\\School\\Anaconda\\envs\\ml\\lib\\site-packages\\pandas\\core\\arraylike.py:402: RuntimeWarning: overflow encountered in square\n",
      "  result = getattr(ufunc, method)(*inputs, **kwargs)\n"
     ]
    },
    {
     "name": "stdout",
     "output_type": "stream",
     "text": [
      "Value increased to infinity\n"
     ]
    },
    {
     "name": "stderr",
     "output_type": "stream",
     "text": [
      "C:\\Users\\rmons\\School\\Anaconda\\envs\\ml\\lib\\site-packages\\pandas\\core\\arraylike.py:402: RuntimeWarning: overflow encountered in square\n",
      "  result = getattr(ufunc, method)(*inputs, **kwargs)\n"
     ]
    },
    {
     "name": "stdout",
     "output_type": "stream",
     "text": [
      "Value increased to infinity\n"
     ]
    },
    {
     "name": "stderr",
     "output_type": "stream",
     "text": [
      "C:\\Users\\rmons\\School\\Anaconda\\envs\\ml\\lib\\site-packages\\pandas\\core\\arraylike.py:402: RuntimeWarning: overflow encountered in square\n",
      "  result = getattr(ufunc, method)(*inputs, **kwargs)\n"
     ]
    },
    {
     "name": "stdout",
     "output_type": "stream",
     "text": [
      "Value increased to infinity\n"
     ]
    },
    {
     "name": "stderr",
     "output_type": "stream",
     "text": [
      "C:\\Users\\rmons\\School\\Anaconda\\envs\\ml\\lib\\site-packages\\pandas\\core\\arraylike.py:402: RuntimeWarning: overflow encountered in square\n",
      "  result = getattr(ufunc, method)(*inputs, **kwargs)\n"
     ]
    },
    {
     "name": "stdout",
     "output_type": "stream",
     "text": [
      "Value increased to infinity\n"
     ]
    },
    {
     "name": "stderr",
     "output_type": "stream",
     "text": [
      "C:\\Users\\rmons\\School\\Anaconda\\envs\\ml\\lib\\site-packages\\pandas\\core\\arraylike.py:402: RuntimeWarning: overflow encountered in square\n",
      "  result = getattr(ufunc, method)(*inputs, **kwargs)\n"
     ]
    },
    {
     "name": "stdout",
     "output_type": "stream",
     "text": [
      "Value increased to infinity\n"
     ]
    },
    {
     "name": "stderr",
     "output_type": "stream",
     "text": [
      "C:\\Users\\rmons\\School\\Anaconda\\envs\\ml\\lib\\site-packages\\pandas\\core\\arraylike.py:402: RuntimeWarning: overflow encountered in square\n",
      "  result = getattr(ufunc, method)(*inputs, **kwargs)\n",
      "C:\\Users\\rmons\\School\\Anaconda\\envs\\ml\\lib\\site-packages\\pandas\\core\\arraylike.py:402: RuntimeWarning: overflow encountered in square\n",
      "  result = getattr(ufunc, method)(*inputs, **kwargs)\n"
     ]
    },
    {
     "name": "stdout",
     "output_type": "stream",
     "text": [
      "Value increased to infinity\n",
      "Value increased to infinity\n"
     ]
    },
    {
     "name": "stderr",
     "output_type": "stream",
     "text": [
      "C:\\Users\\rmons\\School\\Anaconda\\envs\\ml\\lib\\site-packages\\pandas\\core\\arraylike.py:402: RuntimeWarning: overflow encountered in square\n",
      "  result = getattr(ufunc, method)(*inputs, **kwargs)\n",
      "C:\\Users\\rmons\\School\\Anaconda\\envs\\ml\\lib\\site-packages\\pandas\\core\\arraylike.py:402: RuntimeWarning: overflow encountered in square\n",
      "  result = getattr(ufunc, method)(*inputs, **kwargs)\n"
     ]
    },
    {
     "name": "stdout",
     "output_type": "stream",
     "text": [
      "Value increased to infinity\n",
      "Value increased to infinity\n"
     ]
    },
    {
     "name": "stderr",
     "output_type": "stream",
     "text": [
      "C:\\Users\\rmons\\School\\Anaconda\\envs\\ml\\lib\\site-packages\\pandas\\core\\arraylike.py:402: RuntimeWarning: overflow encountered in square\n",
      "  result = getattr(ufunc, method)(*inputs, **kwargs)\n"
     ]
    },
    {
     "name": "stdout",
     "output_type": "stream",
     "text": [
      "Value increased to infinity\n"
     ]
    },
    {
     "name": "stderr",
     "output_type": "stream",
     "text": [
      "C:\\Users\\rmons\\School\\Anaconda\\envs\\ml\\lib\\site-packages\\pandas\\core\\arraylike.py:402: RuntimeWarning: overflow encountered in square\n",
      "  result = getattr(ufunc, method)(*inputs, **kwargs)\n"
     ]
    },
    {
     "name": "stdout",
     "output_type": "stream",
     "text": [
      "Value increased to infinity\n"
     ]
    },
    {
     "name": "stderr",
     "output_type": "stream",
     "text": [
      "C:\\Users\\rmons\\School\\Anaconda\\envs\\ml\\lib\\site-packages\\pandas\\core\\arraylike.py:402: RuntimeWarning: overflow encountered in square\n",
      "  result = getattr(ufunc, method)(*inputs, **kwargs)\n"
     ]
    },
    {
     "name": "stdout",
     "output_type": "stream",
     "text": [
      "Value increased to infinity\n"
     ]
    },
    {
     "name": "stderr",
     "output_type": "stream",
     "text": [
      "C:\\Users\\rmons\\School\\Anaconda\\envs\\ml\\lib\\site-packages\\pandas\\core\\arraylike.py:402: RuntimeWarning: overflow encountered in square\n",
      "  result = getattr(ufunc, method)(*inputs, **kwargs)\n"
     ]
    },
    {
     "name": "stdout",
     "output_type": "stream",
     "text": [
      "Value increased to infinity\n"
     ]
    },
    {
     "name": "stderr",
     "output_type": "stream",
     "text": [
      "C:\\Users\\rmons\\School\\Anaconda\\envs\\ml\\lib\\site-packages\\pandas\\core\\arraylike.py:402: RuntimeWarning: overflow encountered in square\n",
      "  result = getattr(ufunc, method)(*inputs, **kwargs)\n",
      "C:\\Users\\rmons\\School\\Anaconda\\envs\\ml\\lib\\site-packages\\pandas\\core\\arraylike.py:402: RuntimeWarning: overflow encountered in square\n",
      "  result = getattr(ufunc, method)(*inputs, **kwargs)\n",
      "C:\\Users\\rmons\\School\\Anaconda\\envs\\ml\\lib\\site-packages\\pandas\\core\\arraylike.py:402: RuntimeWarning: overflow encountered in square\n",
      "  result = getattr(ufunc, method)(*inputs, **kwargs)\n"
     ]
    },
    {
     "name": "stdout",
     "output_type": "stream",
     "text": [
      "Value increased to infinity\n",
      "Value increased to infinity\n",
      "Value increased to infinity\n"
     ]
    },
    {
     "name": "stderr",
     "output_type": "stream",
     "text": [
      "C:\\Users\\rmons\\School\\Anaconda\\envs\\ml\\lib\\site-packages\\pandas\\core\\arraylike.py:402: RuntimeWarning: overflow encountered in square\n",
      "  result = getattr(ufunc, method)(*inputs, **kwargs)\n",
      "C:\\Users\\rmons\\School\\Anaconda\\envs\\ml\\lib\\site-packages\\pandas\\core\\arraylike.py:402: RuntimeWarning: overflow encountered in square\n",
      "  result = getattr(ufunc, method)(*inputs, **kwargs)\n",
      "C:\\Users\\rmons\\School\\Anaconda\\envs\\ml\\lib\\site-packages\\pandas\\core\\arraylike.py:402: RuntimeWarning: overflow encountered in square\n",
      "  result = getattr(ufunc, method)(*inputs, **kwargs)\n"
     ]
    },
    {
     "name": "stdout",
     "output_type": "stream",
     "text": [
      "Value increased to infinity\n",
      "Value increased to infinity\n",
      "Value increased to infinity\n"
     ]
    },
    {
     "name": "stderr",
     "output_type": "stream",
     "text": [
      "C:\\Users\\rmons\\School\\Anaconda\\envs\\ml\\lib\\site-packages\\pandas\\core\\arraylike.py:402: RuntimeWarning: overflow encountered in square\n",
      "  result = getattr(ufunc, method)(*inputs, **kwargs)\n"
     ]
    },
    {
     "name": "stdout",
     "output_type": "stream",
     "text": [
      "Value increased to infinity\n"
     ]
    },
    {
     "name": "stderr",
     "output_type": "stream",
     "text": [
      "C:\\Users\\rmons\\School\\Anaconda\\envs\\ml\\lib\\site-packages\\pandas\\core\\arraylike.py:402: RuntimeWarning: overflow encountered in square\n",
      "  result = getattr(ufunc, method)(*inputs, **kwargs)\n",
      "C:\\Users\\rmons\\School\\Anaconda\\envs\\ml\\lib\\site-packages\\pandas\\core\\arraylike.py:402: RuntimeWarning: overflow encountered in square\n",
      "  result = getattr(ufunc, method)(*inputs, **kwargs)\n"
     ]
    },
    {
     "name": "stdout",
     "output_type": "stream",
     "text": [
      "Value increased to infinity\n",
      "Value increased to infinity\n"
     ]
    },
    {
     "name": "stderr",
     "output_type": "stream",
     "text": [
      "C:\\Users\\rmons\\School\\Anaconda\\envs\\ml\\lib\\site-packages\\pandas\\core\\arraylike.py:402: RuntimeWarning: overflow encountered in square\n",
      "  result = getattr(ufunc, method)(*inputs, **kwargs)\n"
     ]
    },
    {
     "name": "stdout",
     "output_type": "stream",
     "text": [
      "Value increased to infinity\n",
      "Value increased to infinity\n",
      "Value increased to infinity\n"
     ]
    },
    {
     "name": "stderr",
     "output_type": "stream",
     "text": [
      "C:\\Users\\rmons\\School\\Anaconda\\envs\\ml\\lib\\site-packages\\pandas\\core\\arraylike.py:402: RuntimeWarning: overflow encountered in square\n",
      "  result = getattr(ufunc, method)(*inputs, **kwargs)\n",
      "C:\\Users\\rmons\\School\\Anaconda\\envs\\ml\\lib\\site-packages\\pandas\\core\\arraylike.py:402: RuntimeWarning: overflow encountered in square\n",
      "  result = getattr(ufunc, method)(*inputs, **kwargs)\n",
      "C:\\Users\\rmons\\School\\Anaconda\\envs\\ml\\lib\\site-packages\\pandas\\core\\arraylike.py:402: RuntimeWarning: overflow encountered in square\n",
      "  result = getattr(ufunc, method)(*inputs, **kwargs)\n"
     ]
    },
    {
     "name": "stdout",
     "output_type": "stream",
     "text": [
      "Value increased to infinity\n",
      "Value increased to infinity\n"
     ]
    },
    {
     "name": "stderr",
     "output_type": "stream",
     "text": [
      "C:\\Users\\rmons\\School\\Anaconda\\envs\\ml\\lib\\site-packages\\pandas\\core\\arraylike.py:402: RuntimeWarning: overflow encountered in square\n",
      "  result = getattr(ufunc, method)(*inputs, **kwargs)\n",
      "C:\\Users\\rmons\\School\\Anaconda\\envs\\ml\\lib\\site-packages\\pandas\\core\\arraylike.py:402: RuntimeWarning: overflow encountered in square\n",
      "  result = getattr(ufunc, method)(*inputs, **kwargs)\n"
     ]
    },
    {
     "name": "stdout",
     "output_type": "stream",
     "text": [
      "Value increased to infinity\n"
     ]
    },
    {
     "name": "stderr",
     "output_type": "stream",
     "text": [
      "C:\\Users\\rmons\\School\\Anaconda\\envs\\ml\\lib\\site-packages\\pandas\\core\\arraylike.py:402: RuntimeWarning: overflow encountered in square\n",
      "  result = getattr(ufunc, method)(*inputs, **kwargs)\n"
     ]
    },
    {
     "name": "stdout",
     "output_type": "stream",
     "text": [
      "Value increased to infinity\n",
      "Value increased to infinity\n"
     ]
    },
    {
     "name": "stderr",
     "output_type": "stream",
     "text": [
      "C:\\Users\\rmons\\School\\Anaconda\\envs\\ml\\lib\\site-packages\\pandas\\core\\arraylike.py:402: RuntimeWarning: overflow encountered in square\n",
      "  result = getattr(ufunc, method)(*inputs, **kwargs)\n",
      "C:\\Users\\rmons\\School\\Anaconda\\envs\\ml\\lib\\site-packages\\pandas\\core\\arraylike.py:402: RuntimeWarning: overflow encountered in square\n",
      "  result = getattr(ufunc, method)(*inputs, **kwargs)\n"
     ]
    },
    {
     "name": "stdout",
     "output_type": "stream",
     "text": [
      "Value increased to infinity\n"
     ]
    },
    {
     "name": "stderr",
     "output_type": "stream",
     "text": [
      "C:\\Users\\rmons\\School\\Anaconda\\envs\\ml\\lib\\site-packages\\pandas\\core\\arraylike.py:402: RuntimeWarning: overflow encountered in square\n",
      "  result = getattr(ufunc, method)(*inputs, **kwargs)\n",
      "C:\\Users\\rmons\\School\\Anaconda\\envs\\ml\\lib\\site-packages\\pandas\\core\\arraylike.py:402: RuntimeWarning: overflow encountered in square\n",
      "  result = getattr(ufunc, method)(*inputs, **kwargs)\n",
      "C:\\Users\\rmons\\School\\Anaconda\\envs\\ml\\lib\\site-packages\\pandas\\core\\arraylike.py:402: RuntimeWarning: overflow encountered in square\n",
      "  result = getattr(ufunc, method)(*inputs, **kwargs)\n"
     ]
    },
    {
     "name": "stdout",
     "output_type": "stream",
     "text": [
      "Value increased to infinity\n",
      "Value increased to infinity\n",
      "Value increased to infinity\n"
     ]
    },
    {
     "name": "stderr",
     "output_type": "stream",
     "text": [
      "C:\\Users\\rmons\\School\\Anaconda\\envs\\ml\\lib\\site-packages\\pandas\\core\\arraylike.py:402: RuntimeWarning: overflow encountered in square\n",
      "  result = getattr(ufunc, method)(*inputs, **kwargs)\n",
      "C:\\Users\\rmons\\School\\Anaconda\\envs\\ml\\lib\\site-packages\\pandas\\core\\arraylike.py:402: RuntimeWarning: overflow encountered in square\n",
      "  result = getattr(ufunc, method)(*inputs, **kwargs)\n",
      "C:\\Users\\rmons\\School\\Anaconda\\envs\\ml\\lib\\site-packages\\pandas\\core\\arraylike.py:402: RuntimeWarning: overflow encountered in square\n",
      "  result = getattr(ufunc, method)(*inputs, **kwargs)\n"
     ]
    },
    {
     "name": "stdout",
     "output_type": "stream",
     "text": [
      "Value increased to infinity\n",
      "Value increased to infinity\n",
      "Value increased to infinity\n"
     ]
    },
    {
     "name": "stderr",
     "output_type": "stream",
     "text": [
      "C:\\Users\\rmons\\School\\Anaconda\\envs\\ml\\lib\\site-packages\\pandas\\core\\arraylike.py:402: RuntimeWarning: overflow encountered in square\n",
      "  result = getattr(ufunc, method)(*inputs, **kwargs)\n"
     ]
    },
    {
     "name": "stdout",
     "output_type": "stream",
     "text": [
      "Value increased to infinity\n"
     ]
    },
    {
     "name": "stderr",
     "output_type": "stream",
     "text": [
      "C:\\Users\\rmons\\School\\Anaconda\\envs\\ml\\lib\\site-packages\\pandas\\core\\arraylike.py:402: RuntimeWarning: overflow encountered in square\n",
      "  result = getattr(ufunc, method)(*inputs, **kwargs)\n",
      "C:\\Users\\rmons\\School\\Anaconda\\envs\\ml\\lib\\site-packages\\pandas\\core\\arraylike.py:402: RuntimeWarning: overflow encountered in square\n",
      "  result = getattr(ufunc, method)(*inputs, **kwargs)\n"
     ]
    },
    {
     "name": "stdout",
     "output_type": "stream",
     "text": [
      "Value increased to infinity\n",
      "Value increased to infinity\n"
     ]
    },
    {
     "name": "stderr",
     "output_type": "stream",
     "text": [
      "C:\\Users\\rmons\\School\\Anaconda\\envs\\ml\\lib\\site-packages\\pandas\\core\\arraylike.py:402: RuntimeWarning: overflow encountered in square\n",
      "  result = getattr(ufunc, method)(*inputs, **kwargs)\n"
     ]
    },
    {
     "name": "stdout",
     "output_type": "stream",
     "text": [
      "Value increased to infinity\n",
      "Value increased to infinity\n"
     ]
    },
    {
     "name": "stderr",
     "output_type": "stream",
     "text": [
      "C:\\Users\\rmons\\School\\Anaconda\\envs\\ml\\lib\\site-packages\\pandas\\core\\arraylike.py:402: RuntimeWarning: overflow encountered in square\n",
      "  result = getattr(ufunc, method)(*inputs, **kwargs)\n",
      "C:\\Users\\rmons\\School\\Anaconda\\envs\\ml\\lib\\site-packages\\pandas\\core\\arraylike.py:402: RuntimeWarning: overflow encountered in square\n",
      "  result = getattr(ufunc, method)(*inputs, **kwargs)\n"
     ]
    },
    {
     "name": "stdout",
     "output_type": "stream",
     "text": [
      "Value increased to infinity\n",
      "Value increased to infinity\n"
     ]
    },
    {
     "name": "stderr",
     "output_type": "stream",
     "text": [
      "C:\\Users\\rmons\\School\\Anaconda\\envs\\ml\\lib\\site-packages\\pandas\\core\\arraylike.py:402: RuntimeWarning: overflow encountered in square\n",
      "  result = getattr(ufunc, method)(*inputs, **kwargs)\n",
      "C:\\Users\\rmons\\School\\Anaconda\\envs\\ml\\lib\\site-packages\\pandas\\core\\arraylike.py:402: RuntimeWarning: overflow encountered in square\n",
      "  result = getattr(ufunc, method)(*inputs, **kwargs)\n"
     ]
    },
    {
     "name": "stdout",
     "output_type": "stream",
     "text": [
      "Value increased to infinity\n",
      "Value increased to infinity\n"
     ]
    },
    {
     "name": "stderr",
     "output_type": "stream",
     "text": [
      "C:\\Users\\rmons\\School\\Anaconda\\envs\\ml\\lib\\site-packages\\pandas\\core\\arraylike.py:402: RuntimeWarning: overflow encountered in square\n",
      "  result = getattr(ufunc, method)(*inputs, **kwargs)\n",
      "C:\\Users\\rmons\\School\\Anaconda\\envs\\ml\\lib\\site-packages\\pandas\\core\\arraylike.py:402: RuntimeWarning: overflow encountered in square\n",
      "  result = getattr(ufunc, method)(*inputs, **kwargs)\n"
     ]
    },
    {
     "name": "stdout",
     "output_type": "stream",
     "text": [
      "Value increased to infinity\n",
      "Value increased to infinity\n",
      "Value increased to infinity\n"
     ]
    },
    {
     "name": "stderr",
     "output_type": "stream",
     "text": [
      "C:\\Users\\rmons\\School\\Anaconda\\envs\\ml\\lib\\site-packages\\pandas\\core\\arraylike.py:402: RuntimeWarning: overflow encountered in square\n",
      "  result = getattr(ufunc, method)(*inputs, **kwargs)\n",
      "C:\\Users\\rmons\\School\\Anaconda\\envs\\ml\\lib\\site-packages\\pandas\\core\\arraylike.py:402: RuntimeWarning: overflow encountered in square\n",
      "  result = getattr(ufunc, method)(*inputs, **kwargs)\n",
      "C:\\Users\\rmons\\School\\Anaconda\\envs\\ml\\lib\\site-packages\\pandas\\core\\arraylike.py:402: RuntimeWarning: overflow encountered in square\n",
      "  result = getattr(ufunc, method)(*inputs, **kwargs)\n"
     ]
    },
    {
     "name": "stdout",
     "output_type": "stream",
     "text": [
      "Value increased to infinity\n",
      "Value increased to infinity\n",
      "Value increased to infinity\n"
     ]
    },
    {
     "name": "stderr",
     "output_type": "stream",
     "text": [
      "C:\\Users\\rmons\\School\\Anaconda\\envs\\ml\\lib\\site-packages\\pandas\\core\\arraylike.py:402: RuntimeWarning: overflow encountered in square\n",
      "  result = getattr(ufunc, method)(*inputs, **kwargs)\n",
      "C:\\Users\\rmons\\School\\Anaconda\\envs\\ml\\lib\\site-packages\\pandas\\core\\arraylike.py:402: RuntimeWarning: overflow encountered in square\n",
      "  result = getattr(ufunc, method)(*inputs, **kwargs)\n",
      "C:\\Users\\rmons\\School\\Anaconda\\envs\\ml\\lib\\site-packages\\pandas\\core\\arraylike.py:402: RuntimeWarning: overflow encountered in square\n",
      "  result = getattr(ufunc, method)(*inputs, **kwargs)\n"
     ]
    },
    {
     "name": "stdout",
     "output_type": "stream",
     "text": [
      "Value increased to infinity\n",
      "Value increased to infinity\n",
      "Value increased to infinity\n"
     ]
    },
    {
     "name": "stderr",
     "output_type": "stream",
     "text": [
      "C:\\Users\\rmons\\School\\Anaconda\\envs\\ml\\lib\\site-packages\\pandas\\core\\arraylike.py:402: RuntimeWarning: overflow encountered in square\n",
      "  result = getattr(ufunc, method)(*inputs, **kwargs)\n",
      "C:\\Users\\rmons\\School\\Anaconda\\envs\\ml\\lib\\site-packages\\pandas\\core\\arraylike.py:402: RuntimeWarning: overflow encountered in square\n",
      "  result = getattr(ufunc, method)(*inputs, **kwargs)\n",
      "C:\\Users\\rmons\\School\\Anaconda\\envs\\ml\\lib\\site-packages\\pandas\\core\\arraylike.py:402: RuntimeWarning: overflow encountered in square\n",
      "  result = getattr(ufunc, method)(*inputs, **kwargs)\n",
      "C:\\Users\\rmons\\School\\Anaconda\\envs\\ml\\lib\\site-packages\\pandas\\core\\arraylike.py:402: RuntimeWarning: overflow encountered in square\n",
      "  result = getattr(ufunc, method)(*inputs, **kwargs)\n"
     ]
    },
    {
     "name": "stdout",
     "output_type": "stream",
     "text": [
      "Value increased to infinity\n",
      "Value increased to infinity\n"
     ]
    },
    {
     "name": "stderr",
     "output_type": "stream",
     "text": [
      "C:\\Users\\rmons\\School\\Anaconda\\envs\\ml\\lib\\site-packages\\pandas\\core\\arraylike.py:402: RuntimeWarning: overflow encountered in square\n",
      "  result = getattr(ufunc, method)(*inputs, **kwargs)\n",
      "C:\\Users\\rmons\\School\\Anaconda\\envs\\ml\\lib\\site-packages\\pandas\\core\\arraylike.py:402: RuntimeWarning: overflow encountered in square\n",
      "  result = getattr(ufunc, method)(*inputs, **kwargs)\n"
     ]
    },
    {
     "name": "stdout",
     "output_type": "stream",
     "text": [
      "Value increased to infinity\n",
      "Value increased to infinity\n"
     ]
    },
    {
     "name": "stderr",
     "output_type": "stream",
     "text": [
      "C:\\Users\\rmons\\School\\Anaconda\\envs\\ml\\lib\\site-packages\\pandas\\core\\arraylike.py:402: RuntimeWarning: overflow encountered in square\n",
      "  result = getattr(ufunc, method)(*inputs, **kwargs)\n"
     ]
    },
    {
     "name": "stdout",
     "output_type": "stream",
     "text": [
      "Value increased to infinity\n"
     ]
    },
    {
     "name": "stderr",
     "output_type": "stream",
     "text": [
      "C:\\Users\\rmons\\School\\Anaconda\\envs\\ml\\lib\\site-packages\\pandas\\core\\arraylike.py:402: RuntimeWarning: overflow encountered in square\n",
      "  result = getattr(ufunc, method)(*inputs, **kwargs)\n"
     ]
    },
    {
     "name": "stdout",
     "output_type": "stream",
     "text": [
      "Value increased to infinity\n"
     ]
    },
    {
     "name": "stderr",
     "output_type": "stream",
     "text": [
      "C:\\Users\\rmons\\School\\Anaconda\\envs\\ml\\lib\\site-packages\\pandas\\core\\arraylike.py:402: RuntimeWarning: overflow encountered in square\n",
      "  result = getattr(ufunc, method)(*inputs, **kwargs)\n"
     ]
    },
    {
     "name": "stdout",
     "output_type": "stream",
     "text": [
      "Value increased to infinity\n",
      "Value increased to infinity\n",
      "Value increased to infinity\n"
     ]
    },
    {
     "name": "stderr",
     "output_type": "stream",
     "text": [
      "C:\\Users\\rmons\\School\\Anaconda\\envs\\ml\\lib\\site-packages\\pandas\\core\\arraylike.py:402: RuntimeWarning: overflow encountered in square\n",
      "  result = getattr(ufunc, method)(*inputs, **kwargs)\n",
      "C:\\Users\\rmons\\School\\Anaconda\\envs\\ml\\lib\\site-packages\\pandas\\core\\arraylike.py:402: RuntimeWarning: overflow encountered in square\n",
      "  result = getattr(ufunc, method)(*inputs, **kwargs)\n",
      "C:\\Users\\rmons\\School\\Anaconda\\envs\\ml\\lib\\site-packages\\pandas\\core\\arraylike.py:402: RuntimeWarning: overflow encountered in square\n",
      "  result = getattr(ufunc, method)(*inputs, **kwargs)\n"
     ]
    },
    {
     "name": "stdout",
     "output_type": "stream",
     "text": [
      "Value increased to infinity\n",
      "Value increased to infinity\n",
      "Value increased to infinity\n"
     ]
    },
    {
     "name": "stderr",
     "output_type": "stream",
     "text": [
      "C:\\Users\\rmons\\School\\Anaconda\\envs\\ml\\lib\\site-packages\\pandas\\core\\arraylike.py:402: RuntimeWarning: overflow encountered in square\n",
      "  result = getattr(ufunc, method)(*inputs, **kwargs)\n",
      "C:\\Users\\rmons\\School\\Anaconda\\envs\\ml\\lib\\site-packages\\pandas\\core\\arraylike.py:402: RuntimeWarning: overflow encountered in square\n",
      "  result = getattr(ufunc, method)(*inputs, **kwargs)\n",
      "C:\\Users\\rmons\\School\\Anaconda\\envs\\ml\\lib\\site-packages\\pandas\\core\\arraylike.py:402: RuntimeWarning: overflow encountered in square\n",
      "  result = getattr(ufunc, method)(*inputs, **kwargs)\n"
     ]
    },
    {
     "name": "stdout",
     "output_type": "stream",
     "text": [
      "Value increased to infinity\n",
      "Value increased to infinity\n"
     ]
    },
    {
     "name": "stderr",
     "output_type": "stream",
     "text": [
      "C:\\Users\\rmons\\School\\Anaconda\\envs\\ml\\lib\\site-packages\\pandas\\core\\arraylike.py:402: RuntimeWarning: overflow encountered in square\n",
      "  result = getattr(ufunc, method)(*inputs, **kwargs)\n",
      "C:\\Users\\rmons\\School\\Anaconda\\envs\\ml\\lib\\site-packages\\pandas\\core\\arraylike.py:402: RuntimeWarning: overflow encountered in square\n",
      "  result = getattr(ufunc, method)(*inputs, **kwargs)\n"
     ]
    },
    {
     "name": "stdout",
     "output_type": "stream",
     "text": [
      "Value increased to infinity\n"
     ]
    },
    {
     "name": "stderr",
     "output_type": "stream",
     "text": [
      "C:\\Users\\rmons\\School\\Anaconda\\envs\\ml\\lib\\site-packages\\pandas\\core\\arraylike.py:402: RuntimeWarning: overflow encountered in square\n",
      "  result = getattr(ufunc, method)(*inputs, **kwargs)\n"
     ]
    },
    {
     "name": "stdout",
     "output_type": "stream",
     "text": [
      "Value increased to infinity\n",
      "Value increased to infinity\n"
     ]
    },
    {
     "name": "stderr",
     "output_type": "stream",
     "text": [
      "C:\\Users\\rmons\\School\\Anaconda\\envs\\ml\\lib\\site-packages\\pandas\\core\\arraylike.py:402: RuntimeWarning: overflow encountered in square\n",
      "  result = getattr(ufunc, method)(*inputs, **kwargs)\n",
      "C:\\Users\\rmons\\School\\Anaconda\\envs\\ml\\lib\\site-packages\\pandas\\core\\arraylike.py:402: RuntimeWarning: overflow encountered in square\n",
      "  result = getattr(ufunc, method)(*inputs, **kwargs)\n"
     ]
    },
    {
     "name": "stdout",
     "output_type": "stream",
     "text": [
      "Value increased to infinity\n"
     ]
    },
    {
     "name": "stderr",
     "output_type": "stream",
     "text": [
      "C:\\Users\\rmons\\School\\Anaconda\\envs\\ml\\lib\\site-packages\\pandas\\core\\arraylike.py:402: RuntimeWarning: overflow encountered in square\n",
      "  result = getattr(ufunc, method)(*inputs, **kwargs)\n"
     ]
    },
    {
     "name": "stdout",
     "output_type": "stream",
     "text": [
      "Value increased to infinity\n",
      "Value increased to infinity\n",
      "Value increased to infinity\n"
     ]
    },
    {
     "name": "stderr",
     "output_type": "stream",
     "text": [
      "C:\\Users\\rmons\\School\\Anaconda\\envs\\ml\\lib\\site-packages\\pandas\\core\\arraylike.py:402: RuntimeWarning: overflow encountered in square\n",
      "  result = getattr(ufunc, method)(*inputs, **kwargs)\n",
      "C:\\Users\\rmons\\School\\Anaconda\\envs\\ml\\lib\\site-packages\\pandas\\core\\arraylike.py:402: RuntimeWarning: overflow encountered in square\n",
      "  result = getattr(ufunc, method)(*inputs, **kwargs)\n",
      "C:\\Users\\rmons\\School\\Anaconda\\envs\\ml\\lib\\site-packages\\pandas\\core\\arraylike.py:402: RuntimeWarning: overflow encountered in square\n",
      "  result = getattr(ufunc, method)(*inputs, **kwargs)\n"
     ]
    },
    {
     "name": "stdout",
     "output_type": "stream",
     "text": [
      "Value increased to infinity\n",
      "Value increased to infinity\n",
      "Value increased to infinity\n"
     ]
    },
    {
     "name": "stderr",
     "output_type": "stream",
     "text": [
      "C:\\Users\\rmons\\School\\Anaconda\\envs\\ml\\lib\\site-packages\\pandas\\core\\arraylike.py:402: RuntimeWarning: overflow encountered in square\n",
      "  result = getattr(ufunc, method)(*inputs, **kwargs)\n",
      "C:\\Users\\rmons\\School\\Anaconda\\envs\\ml\\lib\\site-packages\\pandas\\core\\arraylike.py:402: RuntimeWarning: overflow encountered in square\n",
      "  result = getattr(ufunc, method)(*inputs, **kwargs)\n",
      "C:\\Users\\rmons\\School\\Anaconda\\envs\\ml\\lib\\site-packages\\pandas\\core\\arraylike.py:402: RuntimeWarning: overflow encountered in square\n",
      "  result = getattr(ufunc, method)(*inputs, **kwargs)\n"
     ]
    },
    {
     "name": "stdout",
     "output_type": "stream",
     "text": [
      "Value increased to infinity\n"
     ]
    },
    {
     "name": "stderr",
     "output_type": "stream",
     "text": [
      "C:\\Users\\rmons\\School\\Anaconda\\envs\\ml\\lib\\site-packages\\pandas\\core\\arraylike.py:402: RuntimeWarning: overflow encountered in square\n",
      "  result = getattr(ufunc, method)(*inputs, **kwargs)\n"
     ]
    },
    {
     "name": "stdout",
     "output_type": "stream",
     "text": [
      "Value increased to infinity\n"
     ]
    },
    {
     "name": "stderr",
     "output_type": "stream",
     "text": [
      "C:\\Users\\rmons\\School\\Anaconda\\envs\\ml\\lib\\site-packages\\pandas\\core\\arraylike.py:402: RuntimeWarning: overflow encountered in square\n",
      "  result = getattr(ufunc, method)(*inputs, **kwargs)\n"
     ]
    },
    {
     "name": "stdout",
     "output_type": "stream",
     "text": [
      "Value increased to infinity\n"
     ]
    },
    {
     "name": "stderr",
     "output_type": "stream",
     "text": [
      "C:\\Users\\rmons\\School\\Anaconda\\envs\\ml\\lib\\site-packages\\pandas\\core\\arraylike.py:402: RuntimeWarning: overflow encountered in square\n",
      "  result = getattr(ufunc, method)(*inputs, **kwargs)\n"
     ]
    },
    {
     "name": "stdout",
     "output_type": "stream",
     "text": [
      "Value increased to infinity\n"
     ]
    },
    {
     "name": "stderr",
     "output_type": "stream",
     "text": [
      "C:\\Users\\rmons\\School\\Anaconda\\envs\\ml\\lib\\site-packages\\pandas\\core\\arraylike.py:402: RuntimeWarning: overflow encountered in square\n",
      "  result = getattr(ufunc, method)(*inputs, **kwargs)\n"
     ]
    },
    {
     "name": "stdout",
     "output_type": "stream",
     "text": [
      "Value increased to infinity\n"
     ]
    },
    {
     "name": "stderr",
     "output_type": "stream",
     "text": [
      "C:\\Users\\rmons\\School\\Anaconda\\envs\\ml\\lib\\site-packages\\pandas\\core\\arraylike.py:402: RuntimeWarning: overflow encountered in square\n",
      "  result = getattr(ufunc, method)(*inputs, **kwargs)\n",
      "C:\\Users\\rmons\\School\\Anaconda\\envs\\ml\\lib\\site-packages\\pandas\\core\\arraylike.py:402: RuntimeWarning: overflow encountered in square\n",
      "  result = getattr(ufunc, method)(*inputs, **kwargs)\n",
      "C:\\Users\\rmons\\School\\Anaconda\\envs\\ml\\lib\\site-packages\\pandas\\core\\arraylike.py:402: RuntimeWarning: overflow encountered in square\n",
      "  result = getattr(ufunc, method)(*inputs, **kwargs)\n"
     ]
    },
    {
     "name": "stdout",
     "output_type": "stream",
     "text": [
      "Value increased to infinity\n",
      "Value increased to infinity\n",
      "Value increased to infinity\n",
      "Value increased to infinity\n",
      "Value increased to infinity\n"
     ]
    },
    {
     "name": "stderr",
     "output_type": "stream",
     "text": [
      "C:\\Users\\rmons\\School\\Anaconda\\envs\\ml\\lib\\site-packages\\pandas\\core\\arraylike.py:402: RuntimeWarning: overflow encountered in square\n",
      "  result = getattr(ufunc, method)(*inputs, **kwargs)\n",
      "C:\\Users\\rmons\\School\\Anaconda\\envs\\ml\\lib\\site-packages\\pandas\\core\\arraylike.py:402: RuntimeWarning: overflow encountered in square\n",
      "  result = getattr(ufunc, method)(*inputs, **kwargs)\n",
      "C:\\Users\\rmons\\School\\Anaconda\\envs\\ml\\lib\\site-packages\\pandas\\core\\arraylike.py:402: RuntimeWarning: overflow encountered in square\n",
      "  result = getattr(ufunc, method)(*inputs, **kwargs)\n"
     ]
    },
    {
     "name": "stdout",
     "output_type": "stream",
     "text": [
      "Value increased to infinity\n",
      "Value increased to infinity\n",
      "Value increased to infinity\n"
     ]
    },
    {
     "name": "stderr",
     "output_type": "stream",
     "text": [
      "C:\\Users\\rmons\\School\\Anaconda\\envs\\ml\\lib\\site-packages\\pandas\\core\\arraylike.py:402: RuntimeWarning: overflow encountered in square\n",
      "  result = getattr(ufunc, method)(*inputs, **kwargs)\n",
      "C:\\Users\\rmons\\School\\Anaconda\\envs\\ml\\lib\\site-packages\\pandas\\core\\arraylike.py:402: RuntimeWarning: overflow encountered in square\n",
      "  result = getattr(ufunc, method)(*inputs, **kwargs)\n",
      "C:\\Users\\rmons\\School\\Anaconda\\envs\\ml\\lib\\site-packages\\pandas\\core\\arraylike.py:402: RuntimeWarning: overflow encountered in square\n",
      "  result = getattr(ufunc, method)(*inputs, **kwargs)\n"
     ]
    },
    {
     "name": "stdout",
     "output_type": "stream",
     "text": [
      "Value increased to infinity\n",
      "Value increased to infinity\n",
      "Value increased to infinity\n"
     ]
    },
    {
     "name": "stderr",
     "output_type": "stream",
     "text": [
      "C:\\Users\\rmons\\School\\Anaconda\\envs\\ml\\lib\\site-packages\\pandas\\core\\arraylike.py:402: RuntimeWarning: overflow encountered in square\n",
      "  result = getattr(ufunc, method)(*inputs, **kwargs)\n",
      "C:\\Users\\rmons\\School\\Anaconda\\envs\\ml\\lib\\site-packages\\pandas\\core\\arraylike.py:402: RuntimeWarning: overflow encountered in square\n",
      "  result = getattr(ufunc, method)(*inputs, **kwargs)\n",
      "C:\\Users\\rmons\\School\\Anaconda\\envs\\ml\\lib\\site-packages\\pandas\\core\\arraylike.py:402: RuntimeWarning: overflow encountered in square\n",
      "  result = getattr(ufunc, method)(*inputs, **kwargs)\n"
     ]
    },
    {
     "name": "stdout",
     "output_type": "stream",
     "text": [
      "Value increased to infinity\n",
      "Value increased to infinity\n",
      "Value increased to infinity\n"
     ]
    },
    {
     "name": "stderr",
     "output_type": "stream",
     "text": [
      "C:\\Users\\rmons\\School\\Anaconda\\envs\\ml\\lib\\site-packages\\pandas\\core\\arraylike.py:402: RuntimeWarning: overflow encountered in square\n",
      "  result = getattr(ufunc, method)(*inputs, **kwargs)\n",
      "C:\\Users\\rmons\\School\\Anaconda\\envs\\ml\\lib\\site-packages\\pandas\\core\\arraylike.py:402: RuntimeWarning: overflow encountered in square\n",
      "  result = getattr(ufunc, method)(*inputs, **kwargs)\n",
      "C:\\Users\\rmons\\School\\Anaconda\\envs\\ml\\lib\\site-packages\\pandas\\core\\arraylike.py:402: RuntimeWarning: overflow encountered in square\n",
      "  result = getattr(ufunc, method)(*inputs, **kwargs)\n"
     ]
    },
    {
     "name": "stdout",
     "output_type": "stream",
     "text": [
      "Value increased to infinity\n",
      "Value increased to infinity\n"
     ]
    },
    {
     "name": "stderr",
     "output_type": "stream",
     "text": [
      "C:\\Users\\rmons\\School\\Anaconda\\envs\\ml\\lib\\site-packages\\pandas\\core\\arraylike.py:402: RuntimeWarning: overflow encountered in square\n",
      "  result = getattr(ufunc, method)(*inputs, **kwargs)\n",
      "C:\\Users\\rmons\\School\\Anaconda\\envs\\ml\\lib\\site-packages\\pandas\\core\\arraylike.py:402: RuntimeWarning: overflow encountered in square\n",
      "  result = getattr(ufunc, method)(*inputs, **kwargs)\n"
     ]
    },
    {
     "name": "stdout",
     "output_type": "stream",
     "text": [
      "Value increased to infinity\n"
     ]
    },
    {
     "name": "stderr",
     "output_type": "stream",
     "text": [
      "C:\\Users\\rmons\\School\\Anaconda\\envs\\ml\\lib\\site-packages\\pandas\\core\\arraylike.py:402: RuntimeWarning: overflow encountered in square\n",
      "  result = getattr(ufunc, method)(*inputs, **kwargs)\n"
     ]
    },
    {
     "name": "stdout",
     "output_type": "stream",
     "text": [
      "Value increased to infinity\n"
     ]
    }
   ],
   "source": [
    "combos = test_combos(dfs[:-1], dfs[-1], combination_size=3, alpha_vals=[0.001, 0.0001, 0.00001])"
   ]
  },
  {
   "cell_type": "code",
   "execution_count": 105,
   "id": "914ccd88",
   "metadata": {},
   "outputs": [
    {
     "data": {
      "text/plain": [
       "[(3054.4387665004588,\n",
       "  array([45.3848944]),\n",
       "  0.001,\n",
       "  Index(['total_yield'], dtype='object')),\n",
       " (6575.348571806306,\n",
       "  array([6.83080472]),\n",
       "  0.0001,\n",
       "  Index(['total_yield'], dtype='object')),\n",
       " (7406.519053203893,\n",
       "  array([0.71419615]),\n",
       "  1e-05,\n",
       "  Index(['total_yield'], dtype='object')),\n",
       " (3278.119111582906,\n",
       "  array([27.57768629,  1.52490335]),\n",
       "  0.001,\n",
       "  Index(['total_yield', 'agricultural_value_added_percent_of_gdp'], dtype='object')),\n",
       " (4591.935393496022,\n",
       "  array([3.43819034, 2.39669109]),\n",
       "  0.0001,\n",
       "  Index(['total_yield', 'agricultural_value_added_percent_of_gdp'], dtype='object')),\n",
       " (4793.404671043973,\n",
       "  array([0.43118005, 2.46670393]),\n",
       "  1e-05,\n",
       "  Index(['total_yield', 'agricultural_value_added_percent_of_gdp'], dtype='object')),\n",
       " (5975.200366754301,\n",
       "  array([6.34644768, 0.28569195]),\n",
       "  0.0001,\n",
       "  Index(['total_yield', 'dam_capacity'], dtype='object')),\n",
       " (6693.109138373888,\n",
       "  array([0.66150025, 0.30166047]),\n",
       "  1e-05,\n",
       "  Index(['total_yield', 'dam_capacity'], dtype='object')),\n",
       " (2189.0381599244947,\n",
       "  array([12.48208165, 26.51472924]),\n",
       "  0.001,\n",
       "  Index(['total_yield', 'flood_occurence'], dtype='object')),\n",
       " (3466.1865769711244,\n",
       "  array([ 5.78625642, 16.33985993]),\n",
       "  0.0001,\n",
       "  Index(['total_yield', 'flood_occurence'], dtype='object')),\n",
       " (8607.650978505919,\n",
       "  array([0.8247244 , 2.37910114]),\n",
       "  1e-05,\n",
       "  Index(['total_yield', 'flood_occurence'], dtype='object')),\n",
       " (7356.466582821693,\n",
       "  array([0.69380167, 0.1149866 ]),\n",
       "  1e-05,\n",
       "  Index(['total_yield', 'total_exploitable_water_resources'], dtype='object')),\n",
       " (2758.7213916328515,\n",
       "  array([0.31737237, 0.85840418]),\n",
       "  0.0001,\n",
       "  Index(['total_yield', 'total_population_with_access_to_safe_drinking_water'], dtype='object')),\n",
       " (2760.4233700209375,\n",
       "  array([0.04050458, 0.8615136 ]),\n",
       "  1e-05,\n",
       "  Index(['total_yield', 'total_population_with_access_to_safe_drinking_water'], dtype='object')),\n",
       " (4339.172019454323,\n",
       "  array([3.33185945, 2.32088633, 0.21475799]),\n",
       "  0.0001,\n",
       "  Index(['total_yield', 'agricultural_value_added_percent_of_gdp',\n",
       "         'dam_capacity'],\n",
       "        dtype='object')),\n",
       " (4528.968465538859,\n",
       "  array([0.41429803, 2.3788402 , 0.22095069]),\n",
       "  1e-05,\n",
       "  Index(['total_yield', 'agricultural_value_added_percent_of_gdp',\n",
       "         'dam_capacity'],\n",
       "        dtype='object')),\n",
       " (2136.191992614977,\n",
       "  array([13.12000134, -0.70911186, 28.53665116]),\n",
       "  0.001,\n",
       "  Index(['total_yield', 'agricultural_value_added_percent_of_gdp',\n",
       "         'flood_occurence'],\n",
       "        dtype='object')),\n",
       " (3913.3539119196744,\n",
       "  array([3.46859173, 3.02247585, 9.37215195]),\n",
       "  0.0001,\n",
       "  Index(['total_yield', 'agricultural_value_added_percent_of_gdp',\n",
       "         'flood_occurence'],\n",
       "        dtype='object')),\n",
       " (5525.858653362134,\n",
       "  array([0.58593276, 3.75591028, 1.65937301]),\n",
       "  1e-05,\n",
       "  Index(['total_yield', 'agricultural_value_added_percent_of_gdp',\n",
       "         'flood_occurence'],\n",
       "        dtype='object')),\n",
       " (5466.744222260374,\n",
       "  array([0.53976248, 2.92829514, 0.0787363 ]),\n",
       "  1e-05,\n",
       "  Index(['total_yield', 'agricultural_value_added_percent_of_gdp',\n",
       "         'total_exploitable_water_resources'],\n",
       "        dtype='object')),\n",
       " (2634.6976509099,\n",
       "  array([0.14934524, 0.84159215, 0.7604692 ]),\n",
       "  0.0001,\n",
       "  Index(['total_yield', 'agricultural_value_added_percent_of_gdp',\n",
       "         'total_population_with_access_to_safe_drinking_water'],\n",
       "        dtype='object')),\n",
       " (2637.9843575131613,\n",
       "  array([0.02928838, 0.7134908 , 0.77737144]),\n",
       "  1e-05,\n",
       "  Index(['total_yield', 'agricultural_value_added_percent_of_gdp',\n",
       "         'total_population_with_access_to_safe_drinking_water'],\n",
       "        dtype='object')),\n",
       " (3159.8607252106253,\n",
       "  array([ 5.33306256,  0.20388508, 15.09669764]),\n",
       "  0.0001,\n",
       "  Index(['total_yield', 'dam_capacity', 'flood_occurence'], dtype='object')),\n",
       " (7551.160095176479,\n",
       "  array([0.73904518, 0.29864305, 2.13752413]),\n",
       "  1e-05,\n",
       "  Index(['total_yield', 'dam_capacity', 'flood_occurence'], dtype='object')),\n",
       " (5778.045782173884,\n",
       "  array([0.56245323, 1.11408258, 0.05803648]),\n",
       "  1e-05,\n",
       "  Index(['total_yield', 'dam_capacity', 'total_exploitable_water_resources'], dtype='object')),\n",
       " (2383.000092659908,\n",
       "  array([0.28807348, 0.10531825, 0.87488185]),\n",
       "  0.0001,\n",
       "  Index(['total_yield', 'dam_capacity',\n",
       "         'total_population_with_access_to_safe_drinking_water'],\n",
       "        dtype='object')),\n",
       " (2384.3909759209987,\n",
       "  array([0.03778527, 0.10531737, 0.8777087 ]),\n",
       "  1e-05,\n",
       "  Index(['total_yield', 'dam_capacity',\n",
       "         'total_population_with_access_to_safe_drinking_water'],\n",
       "        dtype='object')),\n",
       " (8670.845672883815,\n",
       "  array([0.80008233, 2.13762587, 0.08285855]),\n",
       "  1e-05,\n",
       "  Index(['total_yield', 'flood_occurence', 'total_exploitable_water_resources'], dtype='object')),\n",
       " (2405.187643227732,\n",
       "  array([0.13864866, 2.380072  , 0.87853398]),\n",
       "  0.0001,\n",
       "  Index(['total_yield', 'flood_occurence',\n",
       "         'total_population_with_access_to_safe_drinking_water'],\n",
       "        dtype='object')),\n",
       " (2503.84264391211,\n",
       "  array([0.02407497, 0.277469  , 0.94041952]),\n",
       "  1e-05,\n",
       "  Index(['total_yield', 'flood_occurence',\n",
       "         'total_population_with_access_to_safe_drinking_water'],\n",
       "        dtype='object')),\n",
       " (2593.830377269759,\n",
       "  array([0.03231249, 0.03016742, 0.90056119]),\n",
       "  1e-05,\n",
       "  Index(['total_yield', 'total_exploitable_water_resources',\n",
       "         'total_population_with_access_to_safe_drinking_water'],\n",
       "        dtype='object')),\n",
       " (5937.804837105492,\n",
       "  array([ 0.53379145, -0.21373167,  0.31731855]),\n",
       "  1e-05,\n",
       "  Index(['total_yield', 'total_exploitable_water_resources',\n",
       "         'total_renewable_water_resources'],\n",
       "        dtype='object'))]"
      ]
     },
     "execution_count": 105,
     "metadata": {},
     "output_type": "execute_result"
    }
   ],
   "source": [
    "valid_combos = [combo for combo in combos if combo[0] < 99999999]\n",
    "valid_combos"
   ]
  },
  {
   "cell_type": "code",
   "execution_count": 81,
   "id": "6bb6344b",
   "metadata": {},
   "outputs": [
    {
     "data": {
      "text/html": [
       "<div>\n",
       "<style scoped>\n",
       "    .dataframe tbody tr th:only-of-type {\n",
       "        vertical-align: middle;\n",
       "    }\n",
       "\n",
       "    .dataframe tbody tr th {\n",
       "        vertical-align: top;\n",
       "    }\n",
       "\n",
       "    .dataframe thead th {\n",
       "        text-align: right;\n",
       "    }\n",
       "</style>\n",
       "<table border=\"1\" class=\"dataframe\">\n",
       "  <thead>\n",
       "    <tr style=\"text-align: right;\">\n",
       "      <th></th>\n",
       "      <th>Country</th>\n",
       "      <th>Year</th>\n",
       "      <th>total_yield</th>\n",
       "      <th>gdp_per_capita</th>\n",
       "      <th>total_renewable_water_resources</th>\n",
       "    </tr>\n",
       "  </thead>\n",
       "  <tbody>\n",
       "    <tr>\n",
       "      <th>0</th>\n",
       "      <td>Afghanistan</td>\n",
       "      <td>1970</td>\n",
       "      <td>33.03</td>\n",
       "      <td>154.957138</td>\n",
       "      <td>65.33</td>\n",
       "    </tr>\n",
       "    <tr>\n",
       "      <th>1</th>\n",
       "      <td>Afghanistan</td>\n",
       "      <td>1971</td>\n",
       "      <td>33.16</td>\n",
       "      <td>157.975357</td>\n",
       "      <td>65.33</td>\n",
       "    </tr>\n",
       "    <tr>\n",
       "      <th>2</th>\n",
       "      <td>Afghanistan</td>\n",
       "      <td>1972</td>\n",
       "      <td>33.15</td>\n",
       "      <td>139.756605</td>\n",
       "      <td>65.33</td>\n",
       "    </tr>\n",
       "    <tr>\n",
       "      <th>3</th>\n",
       "      <td>Afghanistan</td>\n",
       "      <td>1973</td>\n",
       "      <td>33.57</td>\n",
       "      <td>140.616194</td>\n",
       "      <td>65.33</td>\n",
       "    </tr>\n",
       "    <tr>\n",
       "      <th>4</th>\n",
       "      <td>Afghanistan</td>\n",
       "      <td>1974</td>\n",
       "      <td>35.40</td>\n",
       "      <td>166.095029</td>\n",
       "      <td>65.33</td>\n",
       "    </tr>\n",
       "    <tr>\n",
       "      <th>...</th>\n",
       "      <td>...</td>\n",
       "      <td>...</td>\n",
       "      <td>...</td>\n",
       "      <td>...</td>\n",
       "      <td>...</td>\n",
       "    </tr>\n",
       "    <tr>\n",
       "      <th>6033</th>\n",
       "      <td>Zimbabwe</td>\n",
       "      <td>2014</td>\n",
       "      <td>122.40</td>\n",
       "      <td>1434.896596</td>\n",
       "      <td>20.00</td>\n",
       "    </tr>\n",
       "    <tr>\n",
       "      <th>6034</th>\n",
       "      <td>Zimbabwe</td>\n",
       "      <td>2015</td>\n",
       "      <td>109.41</td>\n",
       "      <td>1445.071063</td>\n",
       "      <td>20.00</td>\n",
       "    </tr>\n",
       "    <tr>\n",
       "      <th>6035</th>\n",
       "      <td>Zimbabwe</td>\n",
       "      <td>2016</td>\n",
       "      <td>111.70</td>\n",
       "      <td>1464.589686</td>\n",
       "      <td>20.00</td>\n",
       "    </tr>\n",
       "    <tr>\n",
       "      <th>6036</th>\n",
       "      <td>Zimbabwe</td>\n",
       "      <td>2017</td>\n",
       "      <td>113.47</td>\n",
       "      <td>1548.186368</td>\n",
       "      <td>20.00</td>\n",
       "    </tr>\n",
       "    <tr>\n",
       "      <th>6037</th>\n",
       "      <td>Zimbabwe</td>\n",
       "      <td>2018</td>\n",
       "      <td>114.44</td>\n",
       "      <td>1683.765768</td>\n",
       "      <td>20.00</td>\n",
       "    </tr>\n",
       "  </tbody>\n",
       "</table>\n",
       "<p>6038 rows × 5 columns</p>\n",
       "</div>"
      ],
      "text/plain": [
       "          Country  Year  total_yield  gdp_per_capita  \\\n",
       "0     Afghanistan  1970        33.03      154.957138   \n",
       "1     Afghanistan  1971        33.16      157.975357   \n",
       "2     Afghanistan  1972        33.15      139.756605   \n",
       "3     Afghanistan  1973        33.57      140.616194   \n",
       "4     Afghanistan  1974        35.40      166.095029   \n",
       "...           ...   ...          ...             ...   \n",
       "6033     Zimbabwe  2014       122.40     1434.896596   \n",
       "6034     Zimbabwe  2015       109.41     1445.071063   \n",
       "6035     Zimbabwe  2016       111.70     1464.589686   \n",
       "6036     Zimbabwe  2017       113.47     1548.186368   \n",
       "6037     Zimbabwe  2018       114.44     1683.765768   \n",
       "\n",
       "      total_renewable_water_resources  \n",
       "0                               65.33  \n",
       "1                               65.33  \n",
       "2                               65.33  \n",
       "3                               65.33  \n",
       "4                               65.33  \n",
       "...                               ...  \n",
       "6033                            20.00  \n",
       "6034                            20.00  \n",
       "6035                            20.00  \n",
       "6036                            20.00  \n",
       "6037                            20.00  \n",
       "\n",
       "[6038 rows x 5 columns]"
      ]
     },
     "execution_count": 81,
     "metadata": {},
     "output_type": "execute_result"
    }
   ],
   "source": [
    "final_df = dfs[-1].merge(dfs[4], on=[\"Country\", \"Year\"]).merge(dfs[0], on=[\"Country\", \"Year\"])\n",
    "final_df"
   ]
  },
  {
   "cell_type": "code",
   "execution_count": 80,
   "id": "c81b5479",
   "metadata": {},
   "outputs": [
    {
     "name": "stdout",
     "output_type": "stream",
     "text": [
      "Value increased to infinity\n"
     ]
    },
    {
     "name": "stderr",
     "output_type": "stream",
     "text": [
      "/Library/Frameworks/Python.framework/Versions/3.7/lib/python3.7/site-packages/pandas/core/arraylike.py:364: RuntimeWarning: overflow encountered in square\n",
      "  result = getattr(ufunc, method)(*inputs, **kwargs)\n"
     ]
    }
   ],
   "source": [
    "# Runs the linear regression with only 'agricultural_value_added_percent_of_gdp', and 'flood_occurence'\n",
    "beta, mse_list = lin_regression(final_df.drop([\"Country\", \"Year\"], axis=1), epochs=1000, alpha=0.01)"
   ]
  },
  {
   "cell_type": "code",
   "execution_count": 57,
   "id": "d6883f30",
   "metadata": {},
   "outputs": [],
   "source": [
    "pred = predict(final_df.drop([\"Country\", \"Year\", \"total_yield\"], axis=1), beta)\n",
    "true = final_df[\"total_yield\"]"
   ]
  },
  {
   "cell_type": "code",
   "execution_count": 58,
   "id": "983d4f87",
   "metadata": {},
   "outputs": [
    {
     "data": {
      "image/png": "[encoded data removed]",
      "text/plain": [
       "<Figure size 432x288 with 1 Axes>"
      ]
     },
     "metadata": {
      "needs_background": "light"
     },
     "output_type": "display_data"
    }
   ],
   "source": [
    "# Plots something for sure\n",
    "x = range(len(pred))\n",
    "y = range(100,200)\n",
    "fig = plt.figure()\n",
    "ax1 = fig.add_subplot(111)\n",
    "\n",
    "ax1.scatter(x, pred, s=10, c='b', marker=\"s\", label='predicted')\n",
    "ax1.scatter(x, true, s=10, c='r', marker=\"o\", label='true')\n",
    "plt.legend(loc='upper left')\n",
    "plt.show()"
   ]
  },
  {
   "cell_type": "code",
   "execution_count": 60,
   "id": "245df191",
   "metadata": {},
   "outputs": [
    {
     "data": {
      "text/plain": [
       "[7534.79297454455,\n",
       " 8048412673210903.0,\n",
       " 4.762997090892397e+28,\n",
       " 2.8187100002241832e+41,\n",
       " 1.668093831204757e+54,\n",
       " 9.871668349997189e+66,\n",
       " 5.841987674155866e+79,\n",
       " 3.45724945115268e+92,\n",
       " 2.0459772314091003e+105,\n",
       " 1.2107957179800222e+118,\n",
       " 7.165408530324059e+130,\n",
       " 4.240441111907529e+143,\n",
       " 2.509464847322857e+156,\n",
       " 1.4850846064730022e+169,\n",
       " 8.788631929775443e+181,\n",
       " 5.2010539238238726e+194,\n",
       " 3.077949120485567e+207,\n",
       " 1.821509818404778e+220,\n",
       " 1.0779573958719585e+233,\n",
       " 6.379280175018167e+245,\n",
       " 3.7752155796900944e+258,\n",
       " 2.2341474715200507e+271,\n",
       " 1.3221536145782632e+284,\n",
       " 7.824417156102125e+296,\n",
       " inf,\n",
       " inf,\n",
       " inf,\n",
       " inf,\n",
       " inf,\n",
       " inf,\n",
       " inf,\n",
       " inf,\n",
       " inf,\n",
       " inf,\n",
       " inf,\n",
       " inf,\n",
       " inf,\n",
       " inf,\n",
       " inf,\n",
       " inf,\n",
       " inf,\n",
       " inf,\n",
       " inf,\n",
       " inf,\n",
       " inf,\n",
       " inf,\n",
       " inf,\n",
       " inf]"
      ]
     },
     "execution_count": 60,
     "metadata": {},
     "output_type": "execute_result"
    }
   ],
   "source": [
    "mse_list"
   ]
  }
 ],
 "metadata": {
  "kernelspec": {
   "display_name": "Python 3 (ipykernel)",
   "language": "python",
   "name": "python3"
  },
  "language_info": {
   "codemirror_mode": {
    "name": "ipython",
    "version": 3
   },
   "file_extension": ".py",
   "mimetype": "text/x-python",
   "name": "python",
   "nbconvert_exporter": "python",
   "pygments_lexer": "ipython3",
   "version": "3.7.7"
  }
 },
 "nbformat": 4,
 "nbformat_minor": 5
}
