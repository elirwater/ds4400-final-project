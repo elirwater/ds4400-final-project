{
 "cells": [
  {
   "cell_type": "code",
   "execution_count": 1,
   "id": "ef7a8fde",
   "metadata": {},
   "outputs": [],
   "source": [
    "import pandas as pd\n",
    "import matplotlib.pyplot as plt\n",
    "import numpy as np\n",
    "import math\n",
    "import itertools\n",
    "import warnings\n",
    "from sklearn.preprocessing import PolynomialFeatures\n",
    "from sklearn.pipeline import make_pipeline\n",
    "from sklearn.linear_model import LinearRegression\n",
    "warnings.simplefilter(action='ignore', category=FutureWarning)\n",
    "%run data_intake.ipynb\n",
    "import os"
   ]
  },
  {
   "cell_type": "code",
   "execution_count": 2,
   "id": "b39aefac",
   "metadata": {},
   "outputs": [
    {
     "data": {
      "text/html": [
       "<div>\n",
       "<style scoped>\n",
       "    .dataframe tbody tr th:only-of-type {\n",
       "        vertical-align: middle;\n",
       "    }\n",
       "\n",
       "    .dataframe tbody tr th {\n",
       "        vertical-align: top;\n",
       "    }\n",
       "\n",
       "    .dataframe thead th {\n",
       "        text-align: right;\n",
       "    }\n",
       "</style>\n",
       "<table border=\"1\" class=\"dataframe\">\n",
       "  <thead>\n",
       "    <tr style=\"text-align: right;\">\n",
       "      <th></th>\n",
       "      <th>Country</th>\n",
       "      <th>Year</th>\n",
       "      <th>agricultural_value_added_percent_of_gdp</th>\n",
       "      <th>arable_land_area</th>\n",
       "      <th>gdp_per_capita</th>\n",
       "      <th>precipitation_index</th>\n",
       "      <th>total_exploitable_water_resources</th>\n",
       "      <th>total_internal_renewable_water_resource_per_capita</th>\n",
       "      <th>total_population</th>\n",
       "      <th>total_renewable_water_resources</th>\n",
       "      <th>total_yield</th>\n",
       "    </tr>\n",
       "  </thead>\n",
       "  <tbody>\n",
       "    <tr>\n",
       "      <th>53</th>\n",
       "      <td>Albania</td>\n",
       "      <td>2018</td>\n",
       "      <td>18.429476</td>\n",
       "      <td>611.346</td>\n",
       "      <td>5257.650696</td>\n",
       "      <td>1136.00</td>\n",
       "      <td>13.0</td>\n",
       "      <td>9331.399988</td>\n",
       "      <td>2882.740</td>\n",
       "      <td>30.2</td>\n",
       "      <td>87.14</td>\n",
       "    </tr>\n",
       "    <tr>\n",
       "      <th>54</th>\n",
       "      <td>Albania</td>\n",
       "      <td>2017</td>\n",
       "      <td>19.022127</td>\n",
       "      <td>612.000</td>\n",
       "      <td>4514.204908</td>\n",
       "      <td>1136.00</td>\n",
       "      <td>13.0</td>\n",
       "      <td>9326.776621</td>\n",
       "      <td>2884.169</td>\n",
       "      <td>30.2</td>\n",
       "      <td>69.81</td>\n",
       "    </tr>\n",
       "    <tr>\n",
       "      <th>55</th>\n",
       "      <td>Albania</td>\n",
       "      <td>2016</td>\n",
       "      <td>19.849993</td>\n",
       "      <td>620.300</td>\n",
       "      <td>4109.340457</td>\n",
       "      <td>1136.00</td>\n",
       "      <td>13.0</td>\n",
       "      <td>9319.444935</td>\n",
       "      <td>2886.438</td>\n",
       "      <td>30.2</td>\n",
       "      <td>68.46</td>\n",
       "    </tr>\n",
       "    <tr>\n",
       "      <th>56</th>\n",
       "      <td>Albania</td>\n",
       "      <td>2015</td>\n",
       "      <td>19.780225</td>\n",
       "      <td>615.100</td>\n",
       "      <td>3939.413126</td>\n",
       "      <td>1136.00</td>\n",
       "      <td>13.0</td>\n",
       "      <td>9306.306528</td>\n",
       "      <td>2890.513</td>\n",
       "      <td>30.2</td>\n",
       "      <td>71.04</td>\n",
       "    </tr>\n",
       "    <tr>\n",
       "      <th>57</th>\n",
       "      <td>Albania</td>\n",
       "      <td>2014</td>\n",
       "      <td>19.990153</td>\n",
       "      <td>615.600</td>\n",
       "      <td>4567.281443</td>\n",
       "      <td>1136.00</td>\n",
       "      <td>13.0</td>\n",
       "      <td>9287.695875</td>\n",
       "      <td>2896.305</td>\n",
       "      <td>30.2</td>\n",
       "      <td>68.50</td>\n",
       "    </tr>\n",
       "    <tr>\n",
       "      <th>...</th>\n",
       "      <td>...</td>\n",
       "      <td>...</td>\n",
       "      <td>...</td>\n",
       "      <td>...</td>\n",
       "      <td>...</td>\n",
       "      <td>...</td>\n",
       "      <td>...</td>\n",
       "      <td>...</td>\n",
       "      <td>...</td>\n",
       "      <td>...</td>\n",
       "      <td>...</td>\n",
       "    </tr>\n",
       "    <tr>\n",
       "      <th>9565</th>\n",
       "      <td>Zimbabwe</td>\n",
       "      <td>1974</td>\n",
       "      <td>13.822747</td>\n",
       "      <td>2465.000</td>\n",
       "      <td>811.510083</td>\n",
       "      <td>746.72</td>\n",
       "      <td>1.5</td>\n",
       "      <td>2014.765967</td>\n",
       "      <td>6085.074</td>\n",
       "      <td>20.0</td>\n",
       "      <td>141.67</td>\n",
       "    </tr>\n",
       "    <tr>\n",
       "      <th>9566</th>\n",
       "      <td>Zimbabwe</td>\n",
       "      <td>1973</td>\n",
       "      <td>11.305693</td>\n",
       "      <td>2415.000</td>\n",
       "      <td>698.192005</td>\n",
       "      <td>712.18</td>\n",
       "      <td>1.5</td>\n",
       "      <td>2085.840681</td>\n",
       "      <td>5877.726</td>\n",
       "      <td>20.0</td>\n",
       "      <td>112.67</td>\n",
       "    </tr>\n",
       "    <tr>\n",
       "      <th>9567</th>\n",
       "      <td>Zimbabwe</td>\n",
       "      <td>1972</td>\n",
       "      <td>13.466776</td>\n",
       "      <td>2415.000</td>\n",
       "      <td>588.037380</td>\n",
       "      <td>677.64</td>\n",
       "      <td>1.5</td>\n",
       "      <td>2160.767062</td>\n",
       "      <td>5673.911</td>\n",
       "      <td>20.0</td>\n",
       "      <td>125.86</td>\n",
       "    </tr>\n",
       "    <tr>\n",
       "      <th>9568</th>\n",
       "      <td>Zimbabwe</td>\n",
       "      <td>1971</td>\n",
       "      <td>13.129246</td>\n",
       "      <td>2385.000</td>\n",
       "      <td>493.287110</td>\n",
       "      <td>643.10</td>\n",
       "      <td>1.5</td>\n",
       "      <td>2238.459064</td>\n",
       "      <td>5476.982</td>\n",
       "      <td>20.0</td>\n",
       "      <td>132.97</td>\n",
       "    </tr>\n",
       "    <tr>\n",
       "      <th>9569</th>\n",
       "      <td>Zimbabwe</td>\n",
       "      <td>1970</td>\n",
       "      <td>11.579776</td>\n",
       "      <td>2335.000</td>\n",
       "      <td>441.744085</td>\n",
       "      <td>645.68</td>\n",
       "      <td>1.5</td>\n",
       "      <td>2317.885740</td>\n",
       "      <td>5289.303</td>\n",
       "      <td>20.0</td>\n",
       "      <td>123.17</td>\n",
       "    </tr>\n",
       "  </tbody>\n",
       "</table>\n",
       "<p>1920 rows × 11 columns</p>\n",
       "</div>"
      ],
      "text/plain": [
       "       Country  Year  agricultural_value_added_percent_of_gdp  \\\n",
       "53     Albania  2018                                18.429476   \n",
       "54     Albania  2017                                19.022127   \n",
       "55     Albania  2016                                19.849993   \n",
       "56     Albania  2015                                19.780225   \n",
       "57     Albania  2014                                19.990153   \n",
       "...        ...   ...                                      ...   \n",
       "9565  Zimbabwe  1974                                13.822747   \n",
       "9566  Zimbabwe  1973                                11.305693   \n",
       "9567  Zimbabwe  1972                                13.466776   \n",
       "9568  Zimbabwe  1971                                13.129246   \n",
       "9569  Zimbabwe  1970                                11.579776   \n",
       "\n",
       "      arable_land_area  gdp_per_capita  precipitation_index  \\\n",
       "53             611.346     5257.650696              1136.00   \n",
       "54             612.000     4514.204908              1136.00   \n",
       "55             620.300     4109.340457              1136.00   \n",
       "56             615.100     3939.413126              1136.00   \n",
       "57             615.600     4567.281443              1136.00   \n",
       "...                ...             ...                  ...   \n",
       "9565          2465.000      811.510083               746.72   \n",
       "9566          2415.000      698.192005               712.18   \n",
       "9567          2415.000      588.037380               677.64   \n",
       "9568          2385.000      493.287110               643.10   \n",
       "9569          2335.000      441.744085               645.68   \n",
       "\n",
       "      total_exploitable_water_resources  \\\n",
       "53                                 13.0   \n",
       "54                                 13.0   \n",
       "55                                 13.0   \n",
       "56                                 13.0   \n",
       "57                                 13.0   \n",
       "...                                 ...   \n",
       "9565                                1.5   \n",
       "9566                                1.5   \n",
       "9567                                1.5   \n",
       "9568                                1.5   \n",
       "9569                                1.5   \n",
       "\n",
       "      total_internal_renewable_water_resource_per_capita  total_population  \\\n",
       "53                                          9331.399988           2882.740   \n",
       "54                                          9326.776621           2884.169   \n",
       "55                                          9319.444935           2886.438   \n",
       "56                                          9306.306528           2890.513   \n",
       "57                                          9287.695875           2896.305   \n",
       "...                                                 ...                ...   \n",
       "9565                                        2014.765967           6085.074   \n",
       "9566                                        2085.840681           5877.726   \n",
       "9567                                        2160.767062           5673.911   \n",
       "9568                                        2238.459064           5476.982   \n",
       "9569                                        2317.885740           5289.303   \n",
       "\n",
       "      total_renewable_water_resources  total_yield  \n",
       "53                               30.2        87.14  \n",
       "54                               30.2        69.81  \n",
       "55                               30.2        68.46  \n",
       "56                               30.2        71.04  \n",
       "57                               30.2        68.50  \n",
       "...                               ...          ...  \n",
       "9565                             20.0       141.67  \n",
       "9566                             20.0       112.67  \n",
       "9567                             20.0       125.86  \n",
       "9568                             20.0       132.97  \n",
       "9569                             20.0       123.17  \n",
       "\n",
       "[1920 rows x 11 columns]"
      ]
     },
     "execution_count": 2,
     "metadata": {},
     "output_type": "execute_result"
    }
   ],
   "source": [
    "aquastat_file_names = [fn for fn in os.listdir(\"data/\") if \".xlsx\" in fn]\n",
    "\n",
    "aquastat_crop_yield = pipeline(aquastat_file_names, \"Attainable_yields.csv\", \"value\")\n",
    "\n",
    "aquastat_crop_yield"
   ]
  },
  {
   "cell_type": "code",
   "execution_count": 3,
   "id": "2a3506ed",
   "metadata": {},
   "outputs": [],
   "source": [
    "# descends the model by a single step\n",
    "def descend(true_y, pred_y, x, b, alpha=0.01):\n",
    "    return b - alpha*np.sum(np.subtract(pred_y, true_y)*x)/true_y.size"
   ]
  },
  {
   "cell_type": "code",
   "execution_count": 4,
   "id": "f37b4ef1",
   "metadata": {},
   "outputs": [],
   "source": [
    "# Returns a list of predictions for total yield when given X values and b values\n",
    "def predict(X, b):\n",
    "    return np.add(np.matmul(X.loc[:, X.columns != 'b0'],b[1:]), b[0])"
   ]
  },
  {
   "cell_type": "code",
   "execution_count": 5,
   "id": "3275735b",
   "metadata": {},
   "outputs": [],
   "source": [
    "def mse(true, pred):\n",
    "    return np.square(np.subtract(true,pred)).mean()"
   ]
  },
  {
   "cell_type": "code",
   "execution_count": 6,
   "id": "f261c798",
   "metadata": {},
   "outputs": [],
   "source": [
    "def lin_regression(data, alpha=0.00001, epochs=1000, stats=True, y_col='total_yield', print_=False):\n",
    "    # generates initial w values\n",
    "    b = np.zeros(len(data.axes[1]))\n",
    "    #b = random.rand(len(data.axes[1]))\n",
    "    \n",
    "    # removes outcome from data, and inserts a dummy column for w0\n",
    "    fdata = data.loc[:, data.columns != y_col]\n",
    "    fdata.insert(0, 'b0', np.ones(len(data)))\n",
    "    \n",
    "    if stats:\n",
    "        mse_list = []\n",
    "    \n",
    "    for i in range(epochs):\n",
    "\n",
    "        pred = predict(fdata, b)\n",
    "        \n",
    "        if print_:\n",
    "            print(b, pred)\n",
    "        \n",
    "        # Ends early if the value increases too much\n",
    "        if math.isnan(pred[0]) or math.isinf(pred[0]):\n",
    "            print(\"Value increased to infinity\")\n",
    "            if stats:\n",
    "                return b, mse_list\n",
    "            else:\n",
    "                return b\n",
    "        \n",
    "        if stats:\n",
    "            # Calculates mpe and acc for each epoch\n",
    "            mse_list.append(mse(data[y_col], pred))\n",
    "        \n",
    "        index = 0\n",
    "        for col in fdata:\n",
    "            b[index] = descend(data[y_col], pred, fdata[col], b[index], alpha=alpha)\n",
    "            index +=1\n",
    "    \n",
    "    if stats:\n",
    "        return b, mse_list\n",
    "    else:\n",
    "        return b"
   ]
  },
  {
   "cell_type": "code",
   "execution_count": 7,
   "id": "3b2aeb17",
   "metadata": {},
   "outputs": [],
   "source": [
    "def pipeline_separate(aquastat_filenames, crop_yield_filename, aquastat_feature):\n",
    "    \"\"\"\n",
    "    Runs the aquastat and crop yield pipeline\n",
    "    \"\"\"\n",
    "    shared_attributes = [\"Country\", \"Year\"]\n",
    "    crop_df = crop_yield_specialized_preprocessing(convert_to_pandas(crop_yield_filename))\n",
    "    dfs = []\n",
    "    for fn in aquastat_filenames:\n",
    "        temp_df = convert_to_pandas(fn)\n",
    "        strip_temp_df = strip_df(temp_df, shared_attributes + [aquastat_feature])\n",
    "        renamed_temp_df = aquastat_feature_rename(strip_temp_df, fn, aquastat_feature)\n",
    "        dfs.append(strip_temp_df)\n",
    "    \n",
    "    dfs.append(crop_df)\n",
    "    \n",
    "    return dfs"
   ]
  },
  {
   "cell_type": "code",
   "execution_count": 8,
   "id": "0eceb6bb",
   "metadata": {},
   "outputs": [],
   "source": [
    "dfs = pipeline_separate(aquastat_file_names, \"Attainable_yields.csv\", \"value\")"
   ]
  },
  {
   "cell_type": "code",
   "execution_count": 9,
   "id": "71ce6275",
   "metadata": {},
   "outputs": [],
   "source": [
    "def test_combos(dfs, yield_df, combination_size=2, alpha_vals=[0.001, 0.0001]):\n",
    "    results = []\n",
    "    for size in range(combination_size):\n",
    "        combs = itertools.combinations(dfs, size)\n",
    "    \n",
    "        # Iterates through the list of combination\n",
    "        for comb in combs:\n",
    "            data = yield_df\n",
    "        \n",
    "            # Merges all the dataframes in the combination into 1\n",
    "            for df in comb:\n",
    "                data = data.merge(df, on=[\"Country\", \"Year\"])\n",
    "            \n",
    "            data = data.drop([\"Country\", \"Year\"], axis=1)\n",
    "        \n",
    "            # Runs linear regression using the given alpha levels\n",
    "            for alpha in alpha_vals:\n",
    "                beta, mse_list = lin_regression(data, epochs=1000, alpha=alpha)\n",
    "                mse_val = mse_list[-1]\n",
    "            \n",
    "                # Ensures mse_val is a number\n",
    "                if math.isnan(mse_val) or math.isinf(mse_val):\n",
    "                    mse_val = 99999999\n",
    "                \n",
    "                results.append((mse_val, beta, alpha, data.axes[1]))\n",
    "            \n",
    "            \n",
    "    return results"
   ]
  },
  {
   "cell_type": "code",
   "execution_count": 10,
   "id": "3934e441",
   "metadata": {},
   "outputs": [
    {
     "name": "stderr",
     "output_type": "stream",
     "text": [
      "C:\\Users\\rmons\\School\\Anaconda\\envs\\ml\\lib\\site-packages\\pandas\\core\\arraylike.py:402: RuntimeWarning: overflow encountered in square\n",
      "  result = getattr(ufunc, method)(*inputs, **kwargs)\n",
      "C:\\Users\\rmons\\School\\Anaconda\\envs\\ml\\lib\\site-packages\\pandas\\core\\arraylike.py:402: RuntimeWarning: overflow encountered in square\n",
      "  result = getattr(ufunc, method)(*inputs, **kwargs)\n",
      "C:\\Users\\rmons\\School\\Anaconda\\envs\\ml\\lib\\site-packages\\pandas\\core\\arraylike.py:402: RuntimeWarning: overflow encountered in square\n",
      "  result = getattr(ufunc, method)(*inputs, **kwargs)\n"
     ]
    },
    {
     "name": "stdout",
     "output_type": "stream",
     "text": [
      "Value increased to infinity\n",
      "Value increased to infinity\n",
      "Value increased to infinity\n"
     ]
    },
    {
     "name": "stderr",
     "output_type": "stream",
     "text": [
      "C:\\Users\\rmons\\School\\Anaconda\\envs\\ml\\lib\\site-packages\\pandas\\core\\arraylike.py:402: RuntimeWarning: overflow encountered in square\n",
      "  result = getattr(ufunc, method)(*inputs, **kwargs)\n",
      "C:\\Users\\rmons\\School\\Anaconda\\envs\\ml\\lib\\site-packages\\pandas\\core\\arraylike.py:402: RuntimeWarning: overflow encountered in square\n",
      "  result = getattr(ufunc, method)(*inputs, **kwargs)\n",
      "C:\\Users\\rmons\\School\\Anaconda\\envs\\ml\\lib\\site-packages\\pandas\\core\\arraylike.py:402: RuntimeWarning: overflow encountered in square\n",
      "  result = getattr(ufunc, method)(*inputs, **kwargs)\n"
     ]
    },
    {
     "name": "stdout",
     "output_type": "stream",
     "text": [
      "Value increased to infinity\n",
      "Value increased to infinity\n",
      "Value increased to infinity\n"
     ]
    },
    {
     "name": "stderr",
     "output_type": "stream",
     "text": [
      "C:\\Users\\rmons\\School\\Anaconda\\envs\\ml\\lib\\site-packages\\pandas\\core\\arraylike.py:402: RuntimeWarning: overflow encountered in square\n",
      "  result = getattr(ufunc, method)(*inputs, **kwargs)\n",
      "C:\\Users\\rmons\\School\\Anaconda\\envs\\ml\\lib\\site-packages\\pandas\\core\\arraylike.py:402: RuntimeWarning: overflow encountered in square\n",
      "  result = getattr(ufunc, method)(*inputs, **kwargs)\n"
     ]
    },
    {
     "name": "stdout",
     "output_type": "stream",
     "text": [
      "Value increased to infinity\n",
      "Value increased to infinity\n"
     ]
    },
    {
     "name": "stderr",
     "output_type": "stream",
     "text": [
      "C:\\Users\\rmons\\School\\Anaconda\\envs\\ml\\lib\\site-packages\\pandas\\core\\arraylike.py:402: RuntimeWarning: overflow encountered in square\n",
      "  result = getattr(ufunc, method)(*inputs, **kwargs)\n",
      "C:\\Users\\rmons\\School\\Anaconda\\envs\\ml\\lib\\site-packages\\pandas\\core\\arraylike.py:402: RuntimeWarning: overflow encountered in square\n",
      "  result = getattr(ufunc, method)(*inputs, **kwargs)\n"
     ]
    },
    {
     "name": "stdout",
     "output_type": "stream",
     "text": [
      "Value increased to infinity\n",
      "Value increased to infinity\n"
     ]
    },
    {
     "name": "stderr",
     "output_type": "stream",
     "text": [
      "C:\\Users\\rmons\\School\\Anaconda\\envs\\ml\\lib\\site-packages\\pandas\\core\\arraylike.py:402: RuntimeWarning: overflow encountered in square\n",
      "  result = getattr(ufunc, method)(*inputs, **kwargs)\n"
     ]
    },
    {
     "name": "stdout",
     "output_type": "stream",
     "text": [
      "Value increased to infinity\n"
     ]
    },
    {
     "name": "stderr",
     "output_type": "stream",
     "text": [
      "C:\\Users\\rmons\\School\\Anaconda\\envs\\ml\\lib\\site-packages\\pandas\\core\\arraylike.py:402: RuntimeWarning: overflow encountered in square\n",
      "  result = getattr(ufunc, method)(*inputs, **kwargs)\n"
     ]
    },
    {
     "name": "stdout",
     "output_type": "stream",
     "text": [
      "Value increased to infinity\n"
     ]
    },
    {
     "name": "stderr",
     "output_type": "stream",
     "text": [
      "C:\\Users\\rmons\\School\\Anaconda\\envs\\ml\\lib\\site-packages\\pandas\\core\\arraylike.py:402: RuntimeWarning: overflow encountered in square\n",
      "  result = getattr(ufunc, method)(*inputs, **kwargs)\n"
     ]
    },
    {
     "name": "stdout",
     "output_type": "stream",
     "text": [
      "Value increased to infinity\n"
     ]
    },
    {
     "name": "stderr",
     "output_type": "stream",
     "text": [
      "C:\\Users\\rmons\\School\\Anaconda\\envs\\ml\\lib\\site-packages\\pandas\\core\\arraylike.py:402: RuntimeWarning: overflow encountered in square\n",
      "  result = getattr(ufunc, method)(*inputs, **kwargs)\n",
      "C:\\Users\\rmons\\School\\Anaconda\\envs\\ml\\lib\\site-packages\\pandas\\core\\arraylike.py:402: RuntimeWarning: overflow encountered in square\n",
      "  result = getattr(ufunc, method)(*inputs, **kwargs)\n",
      "C:\\Users\\rmons\\School\\Anaconda\\envs\\ml\\lib\\site-packages\\pandas\\core\\arraylike.py:402: RuntimeWarning: overflow encountered in square\n",
      "  result = getattr(ufunc, method)(*inputs, **kwargs)\n"
     ]
    },
    {
     "name": "stdout",
     "output_type": "stream",
     "text": [
      "Value increased to infinity\n",
      "Value increased to infinity\n",
      "Value increased to infinity\n"
     ]
    },
    {
     "name": "stderr",
     "output_type": "stream",
     "text": [
      "C:\\Users\\rmons\\School\\Anaconda\\envs\\ml\\lib\\site-packages\\pandas\\core\\arraylike.py:402: RuntimeWarning: overflow encountered in square\n",
      "  result = getattr(ufunc, method)(*inputs, **kwargs)\n",
      "C:\\Users\\rmons\\School\\Anaconda\\envs\\ml\\lib\\site-packages\\pandas\\core\\arraylike.py:402: RuntimeWarning: overflow encountered in square\n",
      "  result = getattr(ufunc, method)(*inputs, **kwargs)\n",
      "C:\\Users\\rmons\\School\\Anaconda\\envs\\ml\\lib\\site-packages\\pandas\\core\\arraylike.py:402: RuntimeWarning: overflow encountered in square\n",
      "  result = getattr(ufunc, method)(*inputs, **kwargs)\n"
     ]
    },
    {
     "name": "stdout",
     "output_type": "stream",
     "text": [
      "Value increased to infinity\n",
      "Value increased to infinity\n",
      "Value increased to infinity\n",
      "Value increased to infinity\n"
     ]
    },
    {
     "name": "stderr",
     "output_type": "stream",
     "text": [
      "C:\\Users\\rmons\\School\\Anaconda\\envs\\ml\\lib\\site-packages\\pandas\\core\\arraylike.py:402: RuntimeWarning: overflow encountered in square\n",
      "  result = getattr(ufunc, method)(*inputs, **kwargs)\n",
      "C:\\Users\\rmons\\School\\Anaconda\\envs\\ml\\lib\\site-packages\\pandas\\core\\arraylike.py:402: RuntimeWarning: overflow encountered in square\n",
      "  result = getattr(ufunc, method)(*inputs, **kwargs)\n",
      "C:\\Users\\rmons\\School\\Anaconda\\envs\\ml\\lib\\site-packages\\pandas\\core\\arraylike.py:402: RuntimeWarning: overflow encountered in square\n",
      "  result = getattr(ufunc, method)(*inputs, **kwargs)\n"
     ]
    },
    {
     "name": "stdout",
     "output_type": "stream",
     "text": [
      "Value increased to infinity\n",
      "Value increased to infinity\n"
     ]
    },
    {
     "name": "stderr",
     "output_type": "stream",
     "text": [
      "C:\\Users\\rmons\\School\\Anaconda\\envs\\ml\\lib\\site-packages\\pandas\\core\\arraylike.py:402: RuntimeWarning: overflow encountered in square\n",
      "  result = getattr(ufunc, method)(*inputs, **kwargs)\n"
     ]
    },
    {
     "name": "stdout",
     "output_type": "stream",
     "text": [
      "Value increased to infinity\n"
     ]
    },
    {
     "name": "stderr",
     "output_type": "stream",
     "text": [
      "C:\\Users\\rmons\\School\\Anaconda\\envs\\ml\\lib\\site-packages\\pandas\\core\\arraylike.py:402: RuntimeWarning: overflow encountered in square\n",
      "  result = getattr(ufunc, method)(*inputs, **kwargs)\n"
     ]
    },
    {
     "name": "stdout",
     "output_type": "stream",
     "text": [
      "Value increased to infinity\n"
     ]
    },
    {
     "name": "stderr",
     "output_type": "stream",
     "text": [
      "C:\\Users\\rmons\\School\\Anaconda\\envs\\ml\\lib\\site-packages\\pandas\\core\\arraylike.py:402: RuntimeWarning: overflow encountered in square\n",
      "  result = getattr(ufunc, method)(*inputs, **kwargs)\n",
      "C:\\Users\\rmons\\School\\Anaconda\\envs\\ml\\lib\\site-packages\\pandas\\core\\arraylike.py:402: RuntimeWarning: overflow encountered in square\n",
      "  result = getattr(ufunc, method)(*inputs, **kwargs)\n",
      "C:\\Users\\rmons\\School\\Anaconda\\envs\\ml\\lib\\site-packages\\pandas\\core\\arraylike.py:402: RuntimeWarning: overflow encountered in square\n",
      "  result = getattr(ufunc, method)(*inputs, **kwargs)\n"
     ]
    },
    {
     "name": "stdout",
     "output_type": "stream",
     "text": [
      "Value increased to infinity\n",
      "Value increased to infinity\n",
      "Value increased to infinity\n",
      "Value increased to infinity\n"
     ]
    },
    {
     "name": "stderr",
     "output_type": "stream",
     "text": [
      "C:\\Users\\rmons\\School\\Anaconda\\envs\\ml\\lib\\site-packages\\pandas\\core\\arraylike.py:402: RuntimeWarning: overflow encountered in square\n",
      "  result = getattr(ufunc, method)(*inputs, **kwargs)\n",
      "C:\\Users\\rmons\\School\\Anaconda\\envs\\ml\\lib\\site-packages\\pandas\\core\\arraylike.py:402: RuntimeWarning: overflow encountered in square\n",
      "  result = getattr(ufunc, method)(*inputs, **kwargs)\n",
      "C:\\Users\\rmons\\School\\Anaconda\\envs\\ml\\lib\\site-packages\\pandas\\core\\arraylike.py:402: RuntimeWarning: overflow encountered in square\n",
      "  result = getattr(ufunc, method)(*inputs, **kwargs)\n"
     ]
    },
    {
     "name": "stdout",
     "output_type": "stream",
     "text": [
      "Value increased to infinity\n",
      "Value increased to infinity\n"
     ]
    },
    {
     "name": "stderr",
     "output_type": "stream",
     "text": [
      "C:\\Users\\rmons\\School\\Anaconda\\envs\\ml\\lib\\site-packages\\pandas\\core\\arraylike.py:402: RuntimeWarning: overflow encountered in square\n",
      "  result = getattr(ufunc, method)(*inputs, **kwargs)\n",
      "C:\\Users\\rmons\\School\\Anaconda\\envs\\ml\\lib\\site-packages\\pandas\\core\\arraylike.py:402: RuntimeWarning: overflow encountered in square\n",
      "  result = getattr(ufunc, method)(*inputs, **kwargs)\n"
     ]
    },
    {
     "name": "stdout",
     "output_type": "stream",
     "text": [
      "Value increased to infinity\n",
      "Value increased to infinity\n"
     ]
    },
    {
     "name": "stderr",
     "output_type": "stream",
     "text": [
      "C:\\Users\\rmons\\School\\Anaconda\\envs\\ml\\lib\\site-packages\\pandas\\core\\arraylike.py:402: RuntimeWarning: overflow encountered in square\n",
      "  result = getattr(ufunc, method)(*inputs, **kwargs)\n",
      "C:\\Users\\rmons\\School\\Anaconda\\envs\\ml\\lib\\site-packages\\pandas\\core\\arraylike.py:402: RuntimeWarning: overflow encountered in square\n",
      "  result = getattr(ufunc, method)(*inputs, **kwargs)\n"
     ]
    },
    {
     "name": "stdout",
     "output_type": "stream",
     "text": [
      "Value increased to infinity\n",
      "Value increased to infinity\n"
     ]
    },
    {
     "name": "stderr",
     "output_type": "stream",
     "text": [
      "C:\\Users\\rmons\\School\\Anaconda\\envs\\ml\\lib\\site-packages\\pandas\\core\\arraylike.py:402: RuntimeWarning: overflow encountered in square\n",
      "  result = getattr(ufunc, method)(*inputs, **kwargs)\n"
     ]
    },
    {
     "name": "stdout",
     "output_type": "stream",
     "text": [
      "Value increased to infinity\n"
     ]
    },
    {
     "name": "stderr",
     "output_type": "stream",
     "text": [
      "C:\\Users\\rmons\\School\\Anaconda\\envs\\ml\\lib\\site-packages\\pandas\\core\\arraylike.py:402: RuntimeWarning: overflow encountered in square\n",
      "  result = getattr(ufunc, method)(*inputs, **kwargs)\n"
     ]
    },
    {
     "name": "stdout",
     "output_type": "stream",
     "text": [
      "Value increased to infinity\n"
     ]
    },
    {
     "name": "stderr",
     "output_type": "stream",
     "text": [
      "C:\\Users\\rmons\\School\\Anaconda\\envs\\ml\\lib\\site-packages\\pandas\\core\\arraylike.py:402: RuntimeWarning: overflow encountered in square\n",
      "  result = getattr(ufunc, method)(*inputs, **kwargs)\n"
     ]
    },
    {
     "name": "stdout",
     "output_type": "stream",
     "text": [
      "Value increased to infinity\n"
     ]
    },
    {
     "name": "stderr",
     "output_type": "stream",
     "text": [
      "C:\\Users\\rmons\\School\\Anaconda\\envs\\ml\\lib\\site-packages\\pandas\\core\\arraylike.py:402: RuntimeWarning: overflow encountered in square\n",
      "  result = getattr(ufunc, method)(*inputs, **kwargs)\n",
      "C:\\Users\\rmons\\School\\Anaconda\\envs\\ml\\lib\\site-packages\\pandas\\core\\arraylike.py:402: RuntimeWarning: overflow encountered in square\n",
      "  result = getattr(ufunc, method)(*inputs, **kwargs)\n",
      "C:\\Users\\rmons\\School\\Anaconda\\envs\\ml\\lib\\site-packages\\pandas\\core\\arraylike.py:402: RuntimeWarning: overflow encountered in square\n",
      "  result = getattr(ufunc, method)(*inputs, **kwargs)\n"
     ]
    },
    {
     "name": "stdout",
     "output_type": "stream",
     "text": [
      "Value increased to infinity\n",
      "Value increased to infinity\n",
      "Value increased to infinity\n"
     ]
    },
    {
     "name": "stderr",
     "output_type": "stream",
     "text": [
      "C:\\Users\\rmons\\School\\Anaconda\\envs\\ml\\lib\\site-packages\\pandas\\core\\arraylike.py:402: RuntimeWarning: overflow encountered in square\n",
      "  result = getattr(ufunc, method)(*inputs, **kwargs)\n",
      "C:\\Users\\rmons\\School\\Anaconda\\envs\\ml\\lib\\site-packages\\pandas\\core\\arraylike.py:402: RuntimeWarning: overflow encountered in square\n",
      "  result = getattr(ufunc, method)(*inputs, **kwargs)\n",
      "C:\\Users\\rmons\\School\\Anaconda\\envs\\ml\\lib\\site-packages\\pandas\\core\\arraylike.py:402: RuntimeWarning: overflow encountered in square\n",
      "  result = getattr(ufunc, method)(*inputs, **kwargs)\n"
     ]
    },
    {
     "name": "stdout",
     "output_type": "stream",
     "text": [
      "Value increased to infinity\n",
      "Value increased to infinity\n",
      "Value increased to infinity\n"
     ]
    },
    {
     "name": "stderr",
     "output_type": "stream",
     "text": [
      "C:\\Users\\rmons\\School\\Anaconda\\envs\\ml\\lib\\site-packages\\pandas\\core\\arraylike.py:402: RuntimeWarning: overflow encountered in square\n",
      "  result = getattr(ufunc, method)(*inputs, **kwargs)\n",
      "C:\\Users\\rmons\\School\\Anaconda\\envs\\ml\\lib\\site-packages\\pandas\\core\\arraylike.py:402: RuntimeWarning: overflow encountered in square\n",
      "  result = getattr(ufunc, method)(*inputs, **kwargs)\n"
     ]
    },
    {
     "name": "stdout",
     "output_type": "stream",
     "text": [
      "Value increased to infinity\n",
      "Value increased to infinity\n"
     ]
    },
    {
     "name": "stderr",
     "output_type": "stream",
     "text": [
      "C:\\Users\\rmons\\School\\Anaconda\\envs\\ml\\lib\\site-packages\\pandas\\core\\arraylike.py:402: RuntimeWarning: overflow encountered in square\n",
      "  result = getattr(ufunc, method)(*inputs, **kwargs)\n",
      "C:\\Users\\rmons\\School\\Anaconda\\envs\\ml\\lib\\site-packages\\pandas\\core\\arraylike.py:402: RuntimeWarning: overflow encountered in square\n",
      "  result = getattr(ufunc, method)(*inputs, **kwargs)\n"
     ]
    },
    {
     "name": "stdout",
     "output_type": "stream",
     "text": [
      "Value increased to infinity\n",
      "Value increased to infinity\n"
     ]
    },
    {
     "name": "stderr",
     "output_type": "stream",
     "text": [
      "C:\\Users\\rmons\\School\\Anaconda\\envs\\ml\\lib\\site-packages\\pandas\\core\\arraylike.py:402: RuntimeWarning: overflow encountered in square\n",
      "  result = getattr(ufunc, method)(*inputs, **kwargs)\n"
     ]
    },
    {
     "name": "stdout",
     "output_type": "stream",
     "text": [
      "Value increased to infinity\n"
     ]
    },
    {
     "name": "stderr",
     "output_type": "stream",
     "text": [
      "C:\\Users\\rmons\\School\\Anaconda\\envs\\ml\\lib\\site-packages\\pandas\\core\\arraylike.py:402: RuntimeWarning: overflow encountered in square\n",
      "  result = getattr(ufunc, method)(*inputs, **kwargs)\n",
      "C:\\Users\\rmons\\School\\Anaconda\\envs\\ml\\lib\\site-packages\\pandas\\core\\arraylike.py:402: RuntimeWarning: overflow encountered in square\n",
      "  result = getattr(ufunc, method)(*inputs, **kwargs)\n",
      "C:\\Users\\rmons\\School\\Anaconda\\envs\\ml\\lib\\site-packages\\pandas\\core\\arraylike.py:402: RuntimeWarning: overflow encountered in square\n",
      "  result = getattr(ufunc, method)(*inputs, **kwargs)\n"
     ]
    },
    {
     "name": "stdout",
     "output_type": "stream",
     "text": [
      "Value increased to infinity\n",
      "Value increased to infinity\n",
      "Value increased to infinity\n",
      "Value increased to infinity\n"
     ]
    },
    {
     "name": "stderr",
     "output_type": "stream",
     "text": [
      "C:\\Users\\rmons\\School\\Anaconda\\envs\\ml\\lib\\site-packages\\pandas\\core\\arraylike.py:402: RuntimeWarning: overflow encountered in square\n",
      "  result = getattr(ufunc, method)(*inputs, **kwargs)\n",
      "C:\\Users\\rmons\\School\\Anaconda\\envs\\ml\\lib\\site-packages\\pandas\\core\\arraylike.py:402: RuntimeWarning: overflow encountered in square\n",
      "  result = getattr(ufunc, method)(*inputs, **kwargs)\n",
      "C:\\Users\\rmons\\School\\Anaconda\\envs\\ml\\lib\\site-packages\\pandas\\core\\arraylike.py:402: RuntimeWarning: overflow encountered in square\n",
      "  result = getattr(ufunc, method)(*inputs, **kwargs)\n"
     ]
    },
    {
     "name": "stdout",
     "output_type": "stream",
     "text": [
      "Value increased to infinity\n",
      "Value increased to infinity\n",
      "Value increased to infinity\n"
     ]
    },
    {
     "name": "stderr",
     "output_type": "stream",
     "text": [
      "C:\\Users\\rmons\\School\\Anaconda\\envs\\ml\\lib\\site-packages\\pandas\\core\\arraylike.py:402: RuntimeWarning: overflow encountered in square\n",
      "  result = getattr(ufunc, method)(*inputs, **kwargs)\n",
      "C:\\Users\\rmons\\School\\Anaconda\\envs\\ml\\lib\\site-packages\\pandas\\core\\arraylike.py:402: RuntimeWarning: overflow encountered in square\n",
      "  result = getattr(ufunc, method)(*inputs, **kwargs)\n"
     ]
    },
    {
     "name": "stdout",
     "output_type": "stream",
     "text": [
      "Value increased to infinity\n",
      "Value increased to infinity\n",
      "Value increased to infinity\n"
     ]
    },
    {
     "name": "stderr",
     "output_type": "stream",
     "text": [
      "C:\\Users\\rmons\\School\\Anaconda\\envs\\ml\\lib\\site-packages\\pandas\\core\\arraylike.py:402: RuntimeWarning: overflow encountered in square\n",
      "  result = getattr(ufunc, method)(*inputs, **kwargs)\n",
      "C:\\Users\\rmons\\School\\Anaconda\\envs\\ml\\lib\\site-packages\\pandas\\core\\arraylike.py:402: RuntimeWarning: overflow encountered in square\n",
      "  result = getattr(ufunc, method)(*inputs, **kwargs)\n",
      "C:\\Users\\rmons\\School\\Anaconda\\envs\\ml\\lib\\site-packages\\pandas\\core\\arraylike.py:402: RuntimeWarning: overflow encountered in square\n",
      "  result = getattr(ufunc, method)(*inputs, **kwargs)\n"
     ]
    },
    {
     "name": "stdout",
     "output_type": "stream",
     "text": [
      "Value increased to infinity\n",
      "Value increased to infinity\n"
     ]
    },
    {
     "name": "stderr",
     "output_type": "stream",
     "text": [
      "C:\\Users\\rmons\\School\\Anaconda\\envs\\ml\\lib\\site-packages\\pandas\\core\\arraylike.py:402: RuntimeWarning: overflow encountered in square\n",
      "  result = getattr(ufunc, method)(*inputs, **kwargs)\n",
      "C:\\Users\\rmons\\School\\Anaconda\\envs\\ml\\lib\\site-packages\\pandas\\core\\arraylike.py:402: RuntimeWarning: overflow encountered in square\n",
      "  result = getattr(ufunc, method)(*inputs, **kwargs)\n",
      "C:\\Users\\rmons\\School\\Anaconda\\envs\\ml\\lib\\site-packages\\pandas\\core\\arraylike.py:402: RuntimeWarning: overflow encountered in square\n",
      "  result = getattr(ufunc, method)(*inputs, **kwargs)\n"
     ]
    },
    {
     "name": "stdout",
     "output_type": "stream",
     "text": [
      "Value increased to infinity\n",
      "Value increased to infinity\n",
      "Value increased to infinity\n"
     ]
    },
    {
     "name": "stderr",
     "output_type": "stream",
     "text": [
      "C:\\Users\\rmons\\School\\Anaconda\\envs\\ml\\lib\\site-packages\\pandas\\core\\arraylike.py:402: RuntimeWarning: overflow encountered in square\n",
      "  result = getattr(ufunc, method)(*inputs, **kwargs)\n",
      "C:\\Users\\rmons\\School\\Anaconda\\envs\\ml\\lib\\site-packages\\pandas\\core\\arraylike.py:402: RuntimeWarning: overflow encountered in square\n",
      "  result = getattr(ufunc, method)(*inputs, **kwargs)\n",
      "C:\\Users\\rmons\\School\\Anaconda\\envs\\ml\\lib\\site-packages\\pandas\\core\\arraylike.py:402: RuntimeWarning: overflow encountered in square\n",
      "  result = getattr(ufunc, method)(*inputs, **kwargs)\n"
     ]
    },
    {
     "name": "stdout",
     "output_type": "stream",
     "text": [
      "Value increased to infinity\n",
      "Value increased to infinity\n",
      "Value increased to infinity\n",
      "Value increased to infinity\n"
     ]
    },
    {
     "name": "stderr",
     "output_type": "stream",
     "text": [
      "C:\\Users\\rmons\\School\\Anaconda\\envs\\ml\\lib\\site-packages\\pandas\\core\\arraylike.py:402: RuntimeWarning: overflow encountered in square\n",
      "  result = getattr(ufunc, method)(*inputs, **kwargs)\n",
      "C:\\Users\\rmons\\School\\Anaconda\\envs\\ml\\lib\\site-packages\\pandas\\core\\arraylike.py:402: RuntimeWarning: overflow encountered in square\n",
      "  result = getattr(ufunc, method)(*inputs, **kwargs)\n",
      "C:\\Users\\rmons\\School\\Anaconda\\envs\\ml\\lib\\site-packages\\pandas\\core\\arraylike.py:402: RuntimeWarning: overflow encountered in square\n",
      "  result = getattr(ufunc, method)(*inputs, **kwargs)\n"
     ]
    },
    {
     "name": "stdout",
     "output_type": "stream",
     "text": [
      "Value increased to infinity\n",
      "Value increased to infinity\n",
      "Value increased to infinity\n"
     ]
    },
    {
     "name": "stderr",
     "output_type": "stream",
     "text": [
      "C:\\Users\\rmons\\School\\Anaconda\\envs\\ml\\lib\\site-packages\\pandas\\core\\arraylike.py:402: RuntimeWarning: overflow encountered in square\n",
      "  result = getattr(ufunc, method)(*inputs, **kwargs)\n",
      "C:\\Users\\rmons\\School\\Anaconda\\envs\\ml\\lib\\site-packages\\pandas\\core\\arraylike.py:402: RuntimeWarning: overflow encountered in square\n",
      "  result = getattr(ufunc, method)(*inputs, **kwargs)\n",
      "C:\\Users\\rmons\\School\\Anaconda\\envs\\ml\\lib\\site-packages\\pandas\\core\\arraylike.py:402: RuntimeWarning: overflow encountered in square\n",
      "  result = getattr(ufunc, method)(*inputs, **kwargs)\n"
     ]
    },
    {
     "name": "stdout",
     "output_type": "stream",
     "text": [
      "Value increased to infinity\n",
      "Value increased to infinity\n"
     ]
    },
    {
     "name": "stderr",
     "output_type": "stream",
     "text": [
      "C:\\Users\\rmons\\School\\Anaconda\\envs\\ml\\lib\\site-packages\\pandas\\core\\arraylike.py:402: RuntimeWarning: overflow encountered in square\n",
      "  result = getattr(ufunc, method)(*inputs, **kwargs)\n",
      "C:\\Users\\rmons\\School\\Anaconda\\envs\\ml\\lib\\site-packages\\pandas\\core\\arraylike.py:402: RuntimeWarning: overflow encountered in square\n",
      "  result = getattr(ufunc, method)(*inputs, **kwargs)\n"
     ]
    },
    {
     "name": "stdout",
     "output_type": "stream",
     "text": [
      "Value increased to infinity\n",
      "Value increased to infinity\n"
     ]
    },
    {
     "name": "stderr",
     "output_type": "stream",
     "text": [
      "C:\\Users\\rmons\\School\\Anaconda\\envs\\ml\\lib\\site-packages\\pandas\\core\\arraylike.py:402: RuntimeWarning: overflow encountered in square\n",
      "  result = getattr(ufunc, method)(*inputs, **kwargs)\n",
      "C:\\Users\\rmons\\School\\Anaconda\\envs\\ml\\lib\\site-packages\\pandas\\core\\arraylike.py:402: RuntimeWarning: overflow encountered in square\n",
      "  result = getattr(ufunc, method)(*inputs, **kwargs)\n"
     ]
    },
    {
     "name": "stdout",
     "output_type": "stream",
     "text": [
      "Value increased to infinity\n",
      "Value increased to infinity\n"
     ]
    },
    {
     "name": "stderr",
     "output_type": "stream",
     "text": [
      "C:\\Users\\rmons\\School\\Anaconda\\envs\\ml\\lib\\site-packages\\pandas\\core\\arraylike.py:402: RuntimeWarning: overflow encountered in square\n",
      "  result = getattr(ufunc, method)(*inputs, **kwargs)\n",
      "C:\\Users\\rmons\\School\\Anaconda\\envs\\ml\\lib\\site-packages\\pandas\\core\\arraylike.py:402: RuntimeWarning: overflow encountered in square\n",
      "  result = getattr(ufunc, method)(*inputs, **kwargs)\n",
      "C:\\Users\\rmons\\School\\Anaconda\\envs\\ml\\lib\\site-packages\\pandas\\core\\arraylike.py:402: RuntimeWarning: overflow encountered in square\n",
      "  result = getattr(ufunc, method)(*inputs, **kwargs)\n"
     ]
    },
    {
     "name": "stdout",
     "output_type": "stream",
     "text": [
      "Value increased to infinity\n",
      "Value increased to infinity\n",
      "Value increased to infinity\n"
     ]
    },
    {
     "name": "stderr",
     "output_type": "stream",
     "text": [
      "C:\\Users\\rmons\\School\\Anaconda\\envs\\ml\\lib\\site-packages\\pandas\\core\\arraylike.py:402: RuntimeWarning: overflow encountered in square\n",
      "  result = getattr(ufunc, method)(*inputs, **kwargs)\n",
      "C:\\Users\\rmons\\School\\Anaconda\\envs\\ml\\lib\\site-packages\\pandas\\core\\arraylike.py:402: RuntimeWarning: overflow encountered in square\n",
      "  result = getattr(ufunc, method)(*inputs, **kwargs)\n"
     ]
    },
    {
     "name": "stdout",
     "output_type": "stream",
     "text": [
      "Value increased to infinity\n",
      "Value increased to infinity\n",
      "Value increased to infinity\n"
     ]
    },
    {
     "name": "stderr",
     "output_type": "stream",
     "text": [
      "C:\\Users\\rmons\\School\\Anaconda\\envs\\ml\\lib\\site-packages\\pandas\\core\\arraylike.py:402: RuntimeWarning: overflow encountered in square\n",
      "  result = getattr(ufunc, method)(*inputs, **kwargs)\n",
      "C:\\Users\\rmons\\School\\Anaconda\\envs\\ml\\lib\\site-packages\\pandas\\core\\arraylike.py:402: RuntimeWarning: overflow encountered in square\n",
      "  result = getattr(ufunc, method)(*inputs, **kwargs)\n",
      "C:\\Users\\rmons\\School\\Anaconda\\envs\\ml\\lib\\site-packages\\pandas\\core\\arraylike.py:402: RuntimeWarning: overflow encountered in square\n",
      "  result = getattr(ufunc, method)(*inputs, **kwargs)\n"
     ]
    },
    {
     "name": "stdout",
     "output_type": "stream",
     "text": [
      "Value increased to infinity\n",
      "Value increased to infinity\n",
      "Value increased to infinity\n"
     ]
    },
    {
     "name": "stderr",
     "output_type": "stream",
     "text": [
      "C:\\Users\\rmons\\School\\Anaconda\\envs\\ml\\lib\\site-packages\\pandas\\core\\arraylike.py:402: RuntimeWarning: overflow encountered in square\n",
      "  result = getattr(ufunc, method)(*inputs, **kwargs)\n",
      "C:\\Users\\rmons\\School\\Anaconda\\envs\\ml\\lib\\site-packages\\pandas\\core\\arraylike.py:402: RuntimeWarning: overflow encountered in square\n",
      "  result = getattr(ufunc, method)(*inputs, **kwargs)\n",
      "C:\\Users\\rmons\\School\\Anaconda\\envs\\ml\\lib\\site-packages\\pandas\\core\\arraylike.py:402: RuntimeWarning: overflow encountered in square\n",
      "  result = getattr(ufunc, method)(*inputs, **kwargs)\n"
     ]
    },
    {
     "name": "stdout",
     "output_type": "stream",
     "text": [
      "Value increased to infinity\n",
      "Value increased to infinity\n",
      "Value increased to infinity\n"
     ]
    },
    {
     "name": "stderr",
     "output_type": "stream",
     "text": [
      "C:\\Users\\rmons\\School\\Anaconda\\envs\\ml\\lib\\site-packages\\pandas\\core\\arraylike.py:402: RuntimeWarning: overflow encountered in square\n",
      "  result = getattr(ufunc, method)(*inputs, **kwargs)\n",
      "C:\\Users\\rmons\\School\\Anaconda\\envs\\ml\\lib\\site-packages\\pandas\\core\\arraylike.py:402: RuntimeWarning: overflow encountered in square\n",
      "  result = getattr(ufunc, method)(*inputs, **kwargs)\n",
      "C:\\Users\\rmons\\School\\Anaconda\\envs\\ml\\lib\\site-packages\\pandas\\core\\arraylike.py:402: RuntimeWarning: overflow encountered in square\n",
      "  result = getattr(ufunc, method)(*inputs, **kwargs)\n"
     ]
    },
    {
     "name": "stdout",
     "output_type": "stream",
     "text": [
      "Value increased to infinity\n",
      "Value increased to infinity\n"
     ]
    },
    {
     "name": "stderr",
     "output_type": "stream",
     "text": [
      "C:\\Users\\rmons\\School\\Anaconda\\envs\\ml\\lib\\site-packages\\pandas\\core\\arraylike.py:402: RuntimeWarning: overflow encountered in square\n",
      "  result = getattr(ufunc, method)(*inputs, **kwargs)\n",
      "C:\\Users\\rmons\\School\\Anaconda\\envs\\ml\\lib\\site-packages\\pandas\\core\\arraylike.py:402: RuntimeWarning: overflow encountered in square\n",
      "  result = getattr(ufunc, method)(*inputs, **kwargs)\n"
     ]
    },
    {
     "name": "stdout",
     "output_type": "stream",
     "text": [
      "Value increased to infinity\n",
      "Value increased to infinity\n"
     ]
    },
    {
     "name": "stderr",
     "output_type": "stream",
     "text": [
      "C:\\Users\\rmons\\School\\Anaconda\\envs\\ml\\lib\\site-packages\\pandas\\core\\arraylike.py:402: RuntimeWarning: overflow encountered in square\n",
      "  result = getattr(ufunc, method)(*inputs, **kwargs)\n",
      "C:\\Users\\rmons\\School\\Anaconda\\envs\\ml\\lib\\site-packages\\pandas\\core\\arraylike.py:402: RuntimeWarning: overflow encountered in square\n",
      "  result = getattr(ufunc, method)(*inputs, **kwargs)\n"
     ]
    },
    {
     "name": "stdout",
     "output_type": "stream",
     "text": [
      "Value increased to infinity\n",
      "Value increased to infinity\n"
     ]
    },
    {
     "name": "stderr",
     "output_type": "stream",
     "text": [
      "C:\\Users\\rmons\\School\\Anaconda\\envs\\ml\\lib\\site-packages\\pandas\\core\\arraylike.py:402: RuntimeWarning: overflow encountered in square\n",
      "  result = getattr(ufunc, method)(*inputs, **kwargs)\n",
      "C:\\Users\\rmons\\School\\Anaconda\\envs\\ml\\lib\\site-packages\\pandas\\core\\arraylike.py:402: RuntimeWarning: overflow encountered in square\n",
      "  result = getattr(ufunc, method)(*inputs, **kwargs)\n"
     ]
    },
    {
     "name": "stdout",
     "output_type": "stream",
     "text": [
      "Value increased to infinity\n"
     ]
    },
    {
     "name": "stderr",
     "output_type": "stream",
     "text": [
      "C:\\Users\\rmons\\School\\Anaconda\\envs\\ml\\lib\\site-packages\\pandas\\core\\arraylike.py:402: RuntimeWarning: overflow encountered in square\n",
      "  result = getattr(ufunc, method)(*inputs, **kwargs)\n",
      "C:\\Users\\rmons\\School\\Anaconda\\envs\\ml\\lib\\site-packages\\pandas\\core\\arraylike.py:402: RuntimeWarning: overflow encountered in square\n",
      "  result = getattr(ufunc, method)(*inputs, **kwargs)\n",
      "C:\\Users\\rmons\\School\\Anaconda\\envs\\ml\\lib\\site-packages\\pandas\\core\\arraylike.py:402: RuntimeWarning: overflow encountered in square\n",
      "  result = getattr(ufunc, method)(*inputs, **kwargs)\n"
     ]
    },
    {
     "name": "stdout",
     "output_type": "stream",
     "text": [
      "Value increased to infinity\n",
      "Value increased to infinity\n",
      "Value increased to infinity\n"
     ]
    },
    {
     "name": "stderr",
     "output_type": "stream",
     "text": [
      "C:\\Users\\rmons\\School\\Anaconda\\envs\\ml\\lib\\site-packages\\pandas\\core\\arraylike.py:402: RuntimeWarning: overflow encountered in square\n",
      "  result = getattr(ufunc, method)(*inputs, **kwargs)\n",
      "C:\\Users\\rmons\\School\\Anaconda\\envs\\ml\\lib\\site-packages\\pandas\\core\\arraylike.py:402: RuntimeWarning: overflow encountered in square\n",
      "  result = getattr(ufunc, method)(*inputs, **kwargs)\n",
      "C:\\Users\\rmons\\School\\Anaconda\\envs\\ml\\lib\\site-packages\\pandas\\core\\arraylike.py:402: RuntimeWarning: overflow encountered in square\n",
      "  result = getattr(ufunc, method)(*inputs, **kwargs)\n",
      "C:\\Users\\rmons\\School\\Anaconda\\envs\\ml\\lib\\site-packages\\pandas\\core\\arraylike.py:402: RuntimeWarning: overflow encountered in square\n",
      "  result = getattr(ufunc, method)(*inputs, **kwargs)\n"
     ]
    },
    {
     "name": "stdout",
     "output_type": "stream",
     "text": [
      "Value increased to infinity\n",
      "Value increased to infinity\n",
      "Value increased to infinity\n",
      "Value increased to infinity\n",
      "Value increased to infinity\n"
     ]
    },
    {
     "name": "stderr",
     "output_type": "stream",
     "text": [
      "C:\\Users\\rmons\\School\\Anaconda\\envs\\ml\\lib\\site-packages\\pandas\\core\\arraylike.py:402: RuntimeWarning: overflow encountered in square\n",
      "  result = getattr(ufunc, method)(*inputs, **kwargs)\n",
      "C:\\Users\\rmons\\School\\Anaconda\\envs\\ml\\lib\\site-packages\\pandas\\core\\arraylike.py:402: RuntimeWarning: overflow encountered in square\n",
      "  result = getattr(ufunc, method)(*inputs, **kwargs)\n"
     ]
    },
    {
     "name": "stdout",
     "output_type": "stream",
     "text": [
      "Value increased to infinity\n",
      "Value increased to infinity\n"
     ]
    },
    {
     "name": "stderr",
     "output_type": "stream",
     "text": [
      "C:\\Users\\rmons\\School\\Anaconda\\envs\\ml\\lib\\site-packages\\pandas\\core\\arraylike.py:402: RuntimeWarning: overflow encountered in square\n",
      "  result = getattr(ufunc, method)(*inputs, **kwargs)\n",
      "C:\\Users\\rmons\\School\\Anaconda\\envs\\ml\\lib\\site-packages\\pandas\\core\\arraylike.py:402: RuntimeWarning: overflow encountered in square\n",
      "  result = getattr(ufunc, method)(*inputs, **kwargs)\n"
     ]
    },
    {
     "name": "stdout",
     "output_type": "stream",
     "text": [
      "Value increased to infinity\n"
     ]
    },
    {
     "name": "stderr",
     "output_type": "stream",
     "text": [
      "C:\\Users\\rmons\\School\\Anaconda\\envs\\ml\\lib\\site-packages\\pandas\\core\\arraylike.py:402: RuntimeWarning: overflow encountered in square\n",
      "  result = getattr(ufunc, method)(*inputs, **kwargs)\n",
      "C:\\Users\\rmons\\School\\Anaconda\\envs\\ml\\lib\\site-packages\\pandas\\core\\arraylike.py:402: RuntimeWarning: overflow encountered in square\n",
      "  result = getattr(ufunc, method)(*inputs, **kwargs)\n",
      "C:\\Users\\rmons\\School\\Anaconda\\envs\\ml\\lib\\site-packages\\pandas\\core\\arraylike.py:402: RuntimeWarning: overflow encountered in square\n",
      "  result = getattr(ufunc, method)(*inputs, **kwargs)\n",
      "C:\\Users\\rmons\\School\\Anaconda\\envs\\ml\\lib\\site-packages\\pandas\\core\\arraylike.py:402: RuntimeWarning: overflow encountered in square\n",
      "  result = getattr(ufunc, method)(*inputs, **kwargs)\n"
     ]
    },
    {
     "name": "stdout",
     "output_type": "stream",
     "text": [
      "Value increased to infinity\n",
      "Value increased to infinity\n",
      "Value increased to infinity\n",
      "Value increased to infinity\n",
      "Value increased to infinity\n",
      "Value increased to infinity\n",
      "Value increased to infinity\n"
     ]
    },
    {
     "name": "stderr",
     "output_type": "stream",
     "text": [
      "C:\\Users\\rmons\\School\\Anaconda\\envs\\ml\\lib\\site-packages\\pandas\\core\\arraylike.py:402: RuntimeWarning: overflow encountered in square\n",
      "  result = getattr(ufunc, method)(*inputs, **kwargs)\n",
      "C:\\Users\\rmons\\School\\Anaconda\\envs\\ml\\lib\\site-packages\\pandas\\core\\arraylike.py:402: RuntimeWarning: overflow encountered in square\n",
      "  result = getattr(ufunc, method)(*inputs, **kwargs)\n",
      "C:\\Users\\rmons\\School\\Anaconda\\envs\\ml\\lib\\site-packages\\pandas\\core\\arraylike.py:402: RuntimeWarning: overflow encountered in square\n",
      "  result = getattr(ufunc, method)(*inputs, **kwargs)\n",
      "C:\\Users\\rmons\\School\\Anaconda\\envs\\ml\\lib\\site-packages\\pandas\\core\\arraylike.py:402: RuntimeWarning: overflow encountered in square\n",
      "  result = getattr(ufunc, method)(*inputs, **kwargs)\n",
      "C:\\Users\\rmons\\School\\Anaconda\\envs\\ml\\lib\\site-packages\\pandas\\core\\arraylike.py:402: RuntimeWarning: overflow encountered in square\n",
      "  result = getattr(ufunc, method)(*inputs, **kwargs)\n"
     ]
    },
    {
     "name": "stdout",
     "output_type": "stream",
     "text": [
      "Value increased to infinity\n",
      "Value increased to infinity\n"
     ]
    },
    {
     "name": "stderr",
     "output_type": "stream",
     "text": [
      "C:\\Users\\rmons\\School\\Anaconda\\envs\\ml\\lib\\site-packages\\pandas\\core\\arraylike.py:402: RuntimeWarning: overflow encountered in square\n",
      "  result = getattr(ufunc, method)(*inputs, **kwargs)\n"
     ]
    },
    {
     "name": "stdout",
     "output_type": "stream",
     "text": [
      "Value increased to infinity\n"
     ]
    },
    {
     "name": "stderr",
     "output_type": "stream",
     "text": [
      "C:\\Users\\rmons\\School\\Anaconda\\envs\\ml\\lib\\site-packages\\pandas\\core\\arraylike.py:402: RuntimeWarning: overflow encountered in square\n",
      "  result = getattr(ufunc, method)(*inputs, **kwargs)\n",
      "C:\\Users\\rmons\\School\\Anaconda\\envs\\ml\\lib\\site-packages\\pandas\\core\\arraylike.py:402: RuntimeWarning: overflow encountered in square\n",
      "  result = getattr(ufunc, method)(*inputs, **kwargs)\n",
      "C:\\Users\\rmons\\School\\Anaconda\\envs\\ml\\lib\\site-packages\\pandas\\core\\arraylike.py:402: RuntimeWarning: overflow encountered in square\n",
      "  result = getattr(ufunc, method)(*inputs, **kwargs)\n"
     ]
    },
    {
     "name": "stdout",
     "output_type": "stream",
     "text": [
      "Value increased to infinity\n",
      "Value increased to infinity\n",
      "Value increased to infinity\n"
     ]
    },
    {
     "name": "stderr",
     "output_type": "stream",
     "text": [
      "C:\\Users\\rmons\\School\\Anaconda\\envs\\ml\\lib\\site-packages\\pandas\\core\\arraylike.py:402: RuntimeWarning: overflow encountered in square\n",
      "  result = getattr(ufunc, method)(*inputs, **kwargs)\n",
      "C:\\Users\\rmons\\School\\Anaconda\\envs\\ml\\lib\\site-packages\\pandas\\core\\arraylike.py:402: RuntimeWarning: overflow encountered in square\n",
      "  result = getattr(ufunc, method)(*inputs, **kwargs)\n",
      "C:\\Users\\rmons\\School\\Anaconda\\envs\\ml\\lib\\site-packages\\pandas\\core\\arraylike.py:402: RuntimeWarning: overflow encountered in square\n",
      "  result = getattr(ufunc, method)(*inputs, **kwargs)\n"
     ]
    },
    {
     "name": "stdout",
     "output_type": "stream",
     "text": [
      "Value increased to infinity\n",
      "Value increased to infinity\n",
      "Value increased to infinity\n",
      "Value increased to infinity\n"
     ]
    },
    {
     "name": "stderr",
     "output_type": "stream",
     "text": [
      "C:\\Users\\rmons\\School\\Anaconda\\envs\\ml\\lib\\site-packages\\pandas\\core\\arraylike.py:402: RuntimeWarning: overflow encountered in square\n",
      "  result = getattr(ufunc, method)(*inputs, **kwargs)\n",
      "C:\\Users\\rmons\\School\\Anaconda\\envs\\ml\\lib\\site-packages\\pandas\\core\\arraylike.py:402: RuntimeWarning: overflow encountered in square\n",
      "  result = getattr(ufunc, method)(*inputs, **kwargs)\n",
      "C:\\Users\\rmons\\School\\Anaconda\\envs\\ml\\lib\\site-packages\\pandas\\core\\arraylike.py:402: RuntimeWarning: overflow encountered in square\n",
      "  result = getattr(ufunc, method)(*inputs, **kwargs)\n"
     ]
    },
    {
     "name": "stdout",
     "output_type": "stream",
     "text": [
      "Value increased to infinity\n",
      "Value increased to infinity\n",
      "Value increased to infinity\n",
      "Value increased to infinity\n",
      "Value increased to infinity\n"
     ]
    },
    {
     "name": "stderr",
     "output_type": "stream",
     "text": [
      "C:\\Users\\rmons\\School\\Anaconda\\envs\\ml\\lib\\site-packages\\pandas\\core\\arraylike.py:402: RuntimeWarning: overflow encountered in square\n",
      "  result = getattr(ufunc, method)(*inputs, **kwargs)\n",
      "C:\\Users\\rmons\\School\\Anaconda\\envs\\ml\\lib\\site-packages\\pandas\\core\\arraylike.py:402: RuntimeWarning: overflow encountered in square\n",
      "  result = getattr(ufunc, method)(*inputs, **kwargs)\n",
      "C:\\Users\\rmons\\School\\Anaconda\\envs\\ml\\lib\\site-packages\\pandas\\core\\arraylike.py:402: RuntimeWarning: overflow encountered in square\n",
      "  result = getattr(ufunc, method)(*inputs, **kwargs)\n"
     ]
    }
   ],
   "source": [
    "combos = test_combos(dfs[:-1], dfs[-1], combination_size=3, alpha_vals=[0.001, 0.0001, 0.00001, 0.000001])"
   ]
  },
  {
   "cell_type": "code",
   "execution_count": 11,
   "id": "914ccd88",
   "metadata": {},
   "outputs": [
    {
     "data": {
      "text/plain": [
       "[(3054.4387665004588,\n",
       "  array([45.3848944]),\n",
       "  0.001,\n",
       "  Index(['total_yield'], dtype='object')),\n",
       " (6575.348571806306,\n",
       "  array([6.83080472]),\n",
       "  0.0001,\n",
       "  Index(['total_yield'], dtype='object')),\n",
       " (7406.519053203892,\n",
       "  array([0.71419615]),\n",
       "  1e-05,\n",
       "  Index(['total_yield'], dtype='object')),\n",
       " (7498.150334485239,\n",
       "  array([0.07174111]),\n",
       "  1e-06,\n",
       "  Index(['total_yield'], dtype='object')),\n",
       " (3278.119111582906,\n",
       "  array([27.57768629,  1.52490335]),\n",
       "  0.001,\n",
       "  Index(['total_yield', 'agricultural_value_added_percent_of_gdp'], dtype='object')),\n",
       " (4591.935393496021,\n",
       "  array([3.43819034, 2.39669109]),\n",
       "  0.0001,\n",
       "  Index(['total_yield', 'agricultural_value_added_percent_of_gdp'], dtype='object')),\n",
       " (4793.404671043973,\n",
       "  array([0.43118005, 2.46670393]),\n",
       "  1e-05,\n",
       "  Index(['total_yield', 'agricultural_value_added_percent_of_gdp'], dtype='object')),\n",
       " (5963.968002533865,\n",
       "  array([0.06524753, 0.85748051]),\n",
       "  1e-06,\n",
       "  Index(['total_yield', 'agricultural_value_added_percent_of_gdp'], dtype='object')),\n",
       " (2848.218997640033,\n",
       "  array([0.01879157, 0.05175008]),\n",
       "  1e-06,\n",
       "  Index(['total_yield', 'precipitation_index'], dtype='object')),\n",
       " (7356.466582821694,\n",
       "  array([0.69380167, 0.1149866 ]),\n",
       "  1e-05,\n",
       "  Index(['total_yield', 'total_exploitable_water_resources'], dtype='object')),\n",
       " (7442.914194713128,\n",
       "  array([0.06978325, 0.11567666]),\n",
       "  1e-06,\n",
       "  Index(['total_yield', 'total_exploitable_water_resources'], dtype='object')),\n",
       " (5928.289020103616,\n",
       "  array([0.05855794, 0.0365398 ]),\n",
       "  1e-06,\n",
       "  Index(['total_yield', 'total_renewable_water_resources'], dtype='object')),\n",
       " (2890.1865689942824,\n",
       "  array([0.01896122, 0.09283011, 0.05121848]),\n",
       "  1e-06,\n",
       "  Index(['total_yield', 'agricultural_value_added_percent_of_gdp',\n",
       "         'precipitation_index'],\n",
       "        dtype='object')),\n",
       " (5466.744222260374,\n",
       "  array([0.53976248, 2.92829514, 0.0787363 ]),\n",
       "  1e-05,\n",
       "  Index(['total_yield', 'agricultural_value_added_percent_of_gdp',\n",
       "         'total_exploitable_water_resources'],\n",
       "        dtype='object')),\n",
       " (7007.465090417088,\n",
       "  array([0.06871538, 0.60059078, 0.10606896]),\n",
       "  1e-06,\n",
       "  Index(['total_yield', 'agricultural_value_added_percent_of_gdp',\n",
       "         'total_exploitable_water_resources'],\n",
       "        dtype='object')),\n",
       " (5090.006369177857,\n",
       "  array([0.05471391, 0.71367502, 0.03265355]),\n",
       "  1e-06,\n",
       "  Index(['total_yield', 'agricultural_value_added_percent_of_gdp',\n",
       "         'total_renewable_water_resources'],\n",
       "        dtype='object')),\n",
       " (3198.8207145709484,\n",
       "  array([ 0.01754529,  0.08730546, -0.04331722]),\n",
       "  1e-06,\n",
       "  Index(['total_yield', 'precipitation_index',\n",
       "         'total_exploitable_water_resources'],\n",
       "        dtype='object')),\n",
       " (5937.804837105492,\n",
       "  array([ 0.53379145, -0.21373167,  0.31731855]),\n",
       "  1e-05,\n",
       "  Index(['total_yield', 'total_exploitable_water_resources',\n",
       "         'total_renewable_water_resources'],\n",
       "        dtype='object')),\n",
       " (5988.682394935903,\n",
       "  array([ 0.05507907, -0.21456351,  0.31867199]),\n",
       "  1e-06,\n",
       "  Index(['total_yield', 'total_exploitable_water_resources',\n",
       "         'total_renewable_water_resources'],\n",
       "        dtype='object'))]"
      ]
     },
     "execution_count": 11,
     "metadata": {},
     "output_type": "execute_result"
    }
   ],
   "source": [
    "valid_combos = [combo for combo in combos if combo[0] < 99999999]\n",
    "valid_combos"
   ]
  },
  {
   "cell_type": "code",
   "execution_count": 19,
   "id": "6bb6344b",
   "metadata": {},
   "outputs": [],
   "source": [
    "final_df = dfs[-1].merge(dfs[0], on=[\"Country\", \"Year\"]).merge(dfs[3], on=[\"Country\", \"Year\"])"
   ]
  },
  {
   "cell_type": "code",
   "execution_count": 20,
   "id": "c81b5479",
   "metadata": {},
   "outputs": [],
   "source": [
    "# Runs the linear regression with only agricultural_value_added_percent_of_gdp and flood_occurence \n",
    "beta, mse_list = lin_regression(final_df.drop([\"Country\", \"Year\"], axis=1), epochs=1000, alpha=0.000001)"
   ]
  },
  {
   "cell_type": "code",
   "execution_count": 21,
   "id": "d6883f30",
   "metadata": {},
   "outputs": [],
   "source": [
    "pred = predict(final_df.drop([\"Country\", \"Year\", \"total_yield\"], axis=1), beta)\n",
    "true = final_df[\"total_yield\"]"
   ]
  },
  {
   "cell_type": "code",
   "execution_count": 27,
   "id": "983d4f87",
   "metadata": {},
   "outputs": [
    {
     "data": {
      "image/png": "[encoded data removed]",
      "text/plain": [
       "<Figure size 640x480 with 1 Axes>"
      ]
     },
     "metadata": {},
     "output_type": "display_data"
    }
   ],
   "source": [
    "# Plots something for sure\n",
    "X = range(len(pred))\n",
    "y = final_df[\"total_yield\"]\n",
    "fig = plt.figure()\n",
    "ax1 = fig.add_subplot(111)\n",
    "\n",
    "ax1.scatter(X, pred, s=5, c='b', marker=\"o\", label='predicted')\n",
    "ax1.scatter(X, true, s=5, c='r', marker=\"o\", label='true')\n",
    "plt.legend(loc='upper left')\n",
    "plt.show()"
   ]
  },
  {
   "cell_type": "code",
   "execution_count": 28,
   "id": "245df191",
   "metadata": {},
   "outputs": [
    {
     "data": {
      "text/html": [
       "<style>#sk-container-id-1 {color: black;background-color: white;}#sk-container-id-1 pre{padding: 0;}#sk-container-id-1 div.sk-toggleable {background-color: white;}#sk-container-id-1 label.sk-toggleable__label {cursor: pointer;display: block;width: 100%;margin-bottom: 0;padding: 0.3em;box-sizing: border-box;text-align: center;}#sk-container-id-1 label.sk-toggleable__label-arrow:before {content: \"▸\";float: left;margin-right: 0.25em;color: #696969;}#sk-container-id-1 label.sk-toggleable__label-arrow:hover:before {color: black;}#sk-container-id-1 div.sk-estimator:hover label.sk-toggleable__label-arrow:before {color: black;}#sk-container-id-1 div.sk-toggleable__content {max-height: 0;max-width: 0;overflow: hidden;text-align: left;background-color: #f0f8ff;}#sk-container-id-1 div.sk-toggleable__content pre {margin: 0.2em;color: black;border-radius: 0.25em;background-color: #f0f8ff;}#sk-container-id-1 input.sk-toggleable__control:checked~div.sk-toggleable__content {max-height: 200px;max-width: 100%;overflow: auto;}#sk-container-id-1 input.sk-toggleable__control:checked~label.sk-toggleable__label-arrow:before {content: \"▾\";}#sk-container-id-1 div.sk-estimator input.sk-toggleable__control:checked~label.sk-toggleable__label {background-color: #d4ebff;}#sk-container-id-1 div.sk-label input.sk-toggleable__control:checked~label.sk-toggleable__label {background-color: #d4ebff;}#sk-container-id-1 input.sk-hidden--visually {border: 0;clip: rect(1px 1px 1px 1px);clip: rect(1px, 1px, 1px, 1px);height: 1px;margin: -1px;overflow: hidden;padding: 0;position: absolute;width: 1px;}#sk-container-id-1 div.sk-estimator {font-family: monospace;background-color: #f0f8ff;border: 1px dotted black;border-radius: 0.25em;box-sizing: border-box;margin-bottom: 0.5em;}#sk-container-id-1 div.sk-estimator:hover {background-color: #d4ebff;}#sk-container-id-1 div.sk-parallel-item::after {content: \"\";width: 100%;border-bottom: 1px solid gray;flex-grow: 1;}#sk-container-id-1 div.sk-label:hover label.sk-toggleable__label {background-color: #d4ebff;}#sk-container-id-1 div.sk-serial::before {content: \"\";position: absolute;border-left: 1px solid gray;box-sizing: border-box;top: 0;bottom: 0;left: 50%;z-index: 0;}#sk-container-id-1 div.sk-serial {display: flex;flex-direction: column;align-items: center;background-color: white;padding-right: 0.2em;padding-left: 0.2em;position: relative;}#sk-container-id-1 div.sk-item {position: relative;z-index: 1;}#sk-container-id-1 div.sk-parallel {display: flex;align-items: stretch;justify-content: center;background-color: white;position: relative;}#sk-container-id-1 div.sk-item::before, #sk-container-id-1 div.sk-parallel-item::before {content: \"\";position: absolute;border-left: 1px solid gray;box-sizing: border-box;top: 0;bottom: 0;left: 50%;z-index: -1;}#sk-container-id-1 div.sk-parallel-item {display: flex;flex-direction: column;z-index: 1;position: relative;background-color: white;}#sk-container-id-1 div.sk-parallel-item:first-child::after {align-self: flex-end;width: 50%;}#sk-container-id-1 div.sk-parallel-item:last-child::after {align-self: flex-start;width: 50%;}#sk-container-id-1 div.sk-parallel-item:only-child::after {width: 0;}#sk-container-id-1 div.sk-dashed-wrapped {border: 1px dashed gray;margin: 0 0.4em 0.5em 0.4em;box-sizing: border-box;padding-bottom: 0.4em;background-color: white;}#sk-container-id-1 div.sk-label label {font-family: monospace;font-weight: bold;display: inline-block;line-height: 1.2em;}#sk-container-id-1 div.sk-label-container {text-align: center;}#sk-container-id-1 div.sk-container {/* jupyter's `normalize.less` sets `[hidden] { display: none; }` but bootstrap.min.css set `[hidden] { display: none !important; }` so we also need the `!important` here to be able to override the default hidden behavior on the sphinx rendered scikit-learn.org. See: https://github.com/scikit-learn/scikit-learn/issues/21755 */display: inline-block !important;position: relative;}#sk-container-id-1 div.sk-text-repr-fallback {display: none;}</style><div id=\"sk-container-id-1\" class=\"sk-top-container\"><div class=\"sk-text-repr-fallback\"><pre>Pipeline(steps=[(&#x27;polynomialfeatures&#x27;, PolynomialFeatures(degree=5)),\n",
       "                (&#x27;linearregression&#x27;, LinearRegression())])</pre><b>In a Jupyter environment, please rerun this cell to show the HTML representation or trust the notebook. <br />On GitHub, the HTML representation is unable to render, please try loading this page with nbviewer.org.</b></div><div class=\"sk-container\" hidden><div class=\"sk-item sk-dashed-wrapped\"><div class=\"sk-label-container\"><div class=\"sk-label sk-toggleable\"><input class=\"sk-toggleable__control sk-hidden--visually\" id=\"sk-estimator-id-1\" type=\"checkbox\" ><label for=\"sk-estimator-id-1\" class=\"sk-toggleable__label sk-toggleable__label-arrow\">Pipeline</label><div class=\"sk-toggleable__content\"><pre>Pipeline(steps=[(&#x27;polynomialfeatures&#x27;, PolynomialFeatures(degree=5)),\n",
       "                (&#x27;linearregression&#x27;, LinearRegression())])</pre></div></div></div><div class=\"sk-serial\"><div class=\"sk-item\"><div class=\"sk-estimator sk-toggleable\"><input class=\"sk-toggleable__control sk-hidden--visually\" id=\"sk-estimator-id-2\" type=\"checkbox\" ><label for=\"sk-estimator-id-2\" class=\"sk-toggleable__label sk-toggleable__label-arrow\">PolynomialFeatures</label><div class=\"sk-toggleable__content\"><pre>PolynomialFeatures(degree=5)</pre></div></div></div><div class=\"sk-item\"><div class=\"sk-estimator sk-toggleable\"><input class=\"sk-toggleable__control sk-hidden--visually\" id=\"sk-estimator-id-3\" type=\"checkbox\" ><label for=\"sk-estimator-id-3\" class=\"sk-toggleable__label sk-toggleable__label-arrow\">LinearRegression</label><div class=\"sk-toggleable__content\"><pre>LinearRegression()</pre></div></div></div></div></div></div></div>"
      ],
      "text/plain": [
       "Pipeline(steps=[('polynomialfeatures', PolynomialFeatures(degree=5)),\n",
       "                ('linearregression', LinearRegression())])"
      ]
     },
     "execution_count": 28,
     "metadata": {},
     "output_type": "execute_result"
    }
   ],
   "source": [
    "polyreg=make_pipeline(PolynomialFeatures(5),LinearRegression())\n",
    "polyreg.fit(final_df.drop([\"Country\", \"Year\", \"total_yield\"], axis=1),final_df[\"total_yield\"])"
   ]
  },
  {
   "cell_type": "code",
   "execution_count": 29,
   "id": "be47fcf8",
   "metadata": {},
   "outputs": [
    {
     "data": {
      "image/png": "[encoded data removed]",
      "text/plain": [
       "<Figure size 640x480 with 1 Axes>"
      ]
     },
     "metadata": {},
     "output_type": "display_data"
    }
   ],
   "source": [
    "plt.figure()\n",
    "plt.scatter(final_df[\"total_yield\"],polyreg.predict(final_df.drop([\"Country\", \"Year\", \"total_yield\"], axis=1)))\n",
    "plt.title(\"Polynomial regression with degree \"+str(5))\n",
    "plt.show()"
   ]
  },
  {
   "cell_type": "code",
   "execution_count": 30,
   "id": "7cc8258b",
   "metadata": {},
   "outputs": [
    {
     "data": {
      "image/png": "[encoded data removed]",
      "text/plain": [
       "<Figure size 640x480 with 1 Axes>"
      ]
     },
     "metadata": {},
     "output_type": "display_data"
    }
   ],
   "source": [
    "# Plots something for sure\n",
    "x = range(len(pred))\n",
    "y = range(100,200)\n",
    "fig = plt.figure()\n",
    "ax1 = fig.add_subplot(111)\n",
    "\n",
    "ax1.scatter(x, polyreg.predict(final_df.drop([\"Country\", \"Year\", \"total_yield\"], axis=1)), s=10, c='b', marker=\"s\", label='predicted')\n",
    "ax1.scatter(x, final_df[\"total_yield\"], s=10, c='r', marker=\"o\", label='true')\n",
    "plt.legend(loc='upper left')\n",
    "plt.show()"
   ]
  },
  {
   "cell_type": "code",
   "execution_count": null,
   "id": "c167e51b",
   "metadata": {},
   "outputs": [],
   "source": []
  }
 ],
 "metadata": {
  "kernelspec": {
   "display_name": "Python 3 (ipykernel)",
   "language": "python",
   "name": "python3"
  },
  "language_info": {
   "codemirror_mode": {
    "name": "ipython",
    "version": 3
   },
   "file_extension": ".py",
   "mimetype": "text/x-python",
   "name": "python",
   "nbconvert_exporter": "python",
   "pygments_lexer": "ipython3",
   "version": "3.9.15"
  }
 },
 "nbformat": 4,
 "nbformat_minor": 5
}
