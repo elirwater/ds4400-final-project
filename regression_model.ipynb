{
 "cells": [
  {
   "cell_type": "code",
   "execution_count": 37,
   "id": "ef7a8fde",
   "metadata": {},
   "outputs": [],
   "source": [
    "import pandas as pd\n",
    "import matplotlib.pyplot as plt\n",
    "import numpy as np\n",
    "import math\n",
    "import itertools\n",
    "import warnings\n",
    "warnings.simplefilter(action='ignore', category=FutureWarning)\n",
    "%run data_intake.ipynb\n",
    "import os"
   ]
  },
  {
   "cell_type": "code",
   "execution_count": 2,
   "id": "b39aefac",
   "metadata": {},
   "outputs": [
    {
     "data": {
      "text/html": [
       "<div>\n",
       "<style scoped>\n",
       "    .dataframe tbody tr th:only-of-type {\n",
       "        vertical-align: middle;\n",
       "    }\n",
       "\n",
       "    .dataframe tbody tr th {\n",
       "        vertical-align: top;\n",
       "    }\n",
       "\n",
       "    .dataframe thead th {\n",
       "        text-align: right;\n",
       "    }\n",
       "</style>\n",
       "<table border=\"1\" class=\"dataframe\">\n",
       "  <thead>\n",
       "    <tr style=\"text-align: right;\">\n",
       "      <th></th>\n",
       "      <th>Country</th>\n",
       "      <th>Year</th>\n",
       "      <th>agricultural_value_added_percent_of_gdp</th>\n",
       "      <th>arable_land_area</th>\n",
       "      <th>area_salinized_by_irrigation</th>\n",
       "      <th>dam_capacity</th>\n",
       "      <th>flood_occurence</th>\n",
       "      <th>gdp_per_capita</th>\n",
       "      <th>precipitation_index</th>\n",
       "      <th>total_exploitable_water_resources</th>\n",
       "      <th>total_internal_renewable_water_resource_per_capita</th>\n",
       "      <th>total_population</th>\n",
       "      <th>total_population_with_access_to_safe_drinking_water</th>\n",
       "      <th>total_renewable_water_resources</th>\n",
       "      <th>total_yield</th>\n",
       "    </tr>\n",
       "  </thead>\n",
       "  <tbody>\n",
       "    <tr>\n",
       "      <th>0</th>\n",
       "      <td>Albania</td>\n",
       "      <td>2018</td>\n",
       "      <td>18.429476</td>\n",
       "      <td>611.346</td>\n",
       "      <td>0.000000</td>\n",
       "      <td>4.030000</td>\n",
       "      <td>2.7</td>\n",
       "      <td>5257.650696</td>\n",
       "      <td>1136.0</td>\n",
       "      <td>13.000</td>\n",
       "      <td>9331.399988</td>\n",
       "      <td>2882.740</td>\n",
       "      <td>95.1</td>\n",
       "      <td>30.200</td>\n",
       "      <td>87.14</td>\n",
       "    </tr>\n",
       "    <tr>\n",
       "      <th>1</th>\n",
       "      <td>Albania</td>\n",
       "      <td>2017</td>\n",
       "      <td>19.022127</td>\n",
       "      <td>612.000</td>\n",
       "      <td>0.000000</td>\n",
       "      <td>4.030000</td>\n",
       "      <td>2.7</td>\n",
       "      <td>4514.204908</td>\n",
       "      <td>1136.0</td>\n",
       "      <td>13.000</td>\n",
       "      <td>9326.776621</td>\n",
       "      <td>2884.169</td>\n",
       "      <td>95.1</td>\n",
       "      <td>30.200</td>\n",
       "      <td>69.81</td>\n",
       "    </tr>\n",
       "    <tr>\n",
       "      <th>2</th>\n",
       "      <td>Albania</td>\n",
       "      <td>2016</td>\n",
       "      <td>19.849993</td>\n",
       "      <td>620.300</td>\n",
       "      <td>0.480000</td>\n",
       "      <td>4.030000</td>\n",
       "      <td>2.7</td>\n",
       "      <td>4109.340457</td>\n",
       "      <td>1136.0</td>\n",
       "      <td>13.000</td>\n",
       "      <td>9319.444935</td>\n",
       "      <td>2886.438</td>\n",
       "      <td>95.1</td>\n",
       "      <td>30.200</td>\n",
       "      <td>68.46</td>\n",
       "    </tr>\n",
       "    <tr>\n",
       "      <th>3</th>\n",
       "      <td>Albania</td>\n",
       "      <td>2015</td>\n",
       "      <td>19.780225</td>\n",
       "      <td>615.100</td>\n",
       "      <td>0.960000</td>\n",
       "      <td>4.030000</td>\n",
       "      <td>2.7</td>\n",
       "      <td>3939.413126</td>\n",
       "      <td>1136.0</td>\n",
       "      <td>13.000</td>\n",
       "      <td>9306.306528</td>\n",
       "      <td>2890.513</td>\n",
       "      <td>95.1</td>\n",
       "      <td>30.200</td>\n",
       "      <td>71.04</td>\n",
       "    </tr>\n",
       "    <tr>\n",
       "      <th>4</th>\n",
       "      <td>Albania</td>\n",
       "      <td>2014</td>\n",
       "      <td>19.990153</td>\n",
       "      <td>615.600</td>\n",
       "      <td>1.440000</td>\n",
       "      <td>4.030000</td>\n",
       "      <td>2.7</td>\n",
       "      <td>4567.281443</td>\n",
       "      <td>1136.0</td>\n",
       "      <td>13.000</td>\n",
       "      <td>9287.695875</td>\n",
       "      <td>2896.305</td>\n",
       "      <td>95.1</td>\n",
       "      <td>30.200</td>\n",
       "      <td>68.50</td>\n",
       "    </tr>\n",
       "    <tr>\n",
       "      <th>...</th>\n",
       "      <td>...</td>\n",
       "      <td>...</td>\n",
       "      <td>...</td>\n",
       "      <td>...</td>\n",
       "      <td>...</td>\n",
       "      <td>...</td>\n",
       "      <td>...</td>\n",
       "      <td>...</td>\n",
       "      <td>...</td>\n",
       "      <td>...</td>\n",
       "      <td>...</td>\n",
       "      <td>...</td>\n",
       "      <td>...</td>\n",
       "      <td>...</td>\n",
       "      <td>...</td>\n",
       "    </tr>\n",
       "    <tr>\n",
       "      <th>107</th>\n",
       "      <td>Tunisia</td>\n",
       "      <td>2017</td>\n",
       "      <td>9.685052</td>\n",
       "      <td>2607.000</td>\n",
       "      <td>193.294118</td>\n",
       "      <td>2.691378</td>\n",
       "      <td>2.6</td>\n",
       "      <td>3481.203612</td>\n",
       "      <td>326.1</td>\n",
       "      <td>3.625</td>\n",
       "      <td>366.906102</td>\n",
       "      <td>11433.443</td>\n",
       "      <td>97.7</td>\n",
       "      <td>4.615</td>\n",
       "      <td>90.76</td>\n",
       "    </tr>\n",
       "    <tr>\n",
       "      <th>108</th>\n",
       "      <td>Tunisia</td>\n",
       "      <td>2016</td>\n",
       "      <td>9.391980</td>\n",
       "      <td>2564.000</td>\n",
       "      <td>186.588235</td>\n",
       "      <td>2.691378</td>\n",
       "      <td>2.6</td>\n",
       "      <td>3697.880363</td>\n",
       "      <td>326.1</td>\n",
       "      <td>3.625</td>\n",
       "      <td>371.109378</td>\n",
       "      <td>11303.945</td>\n",
       "      <td>97.7</td>\n",
       "      <td>4.615</td>\n",
       "      <td>85.10</td>\n",
       "    </tr>\n",
       "    <tr>\n",
       "      <th>109</th>\n",
       "      <td>Tunisia</td>\n",
       "      <td>2015</td>\n",
       "      <td>10.282704</td>\n",
       "      <td>2570.000</td>\n",
       "      <td>179.882353</td>\n",
       "      <td>2.691378</td>\n",
       "      <td>2.6</td>\n",
       "      <td>3861.643875</td>\n",
       "      <td>326.1</td>\n",
       "      <td>3.625</td>\n",
       "      <td>375.225325</td>\n",
       "      <td>11179.949</td>\n",
       "      <td>97.7</td>\n",
       "      <td>4.615</td>\n",
       "      <td>83.86</td>\n",
       "    </tr>\n",
       "    <tr>\n",
       "      <th>110</th>\n",
       "      <td>Tunisia</td>\n",
       "      <td>2014</td>\n",
       "      <td>9.153284</td>\n",
       "      <td>2588.000</td>\n",
       "      <td>173.176471</td>\n",
       "      <td>2.691378</td>\n",
       "      <td>2.6</td>\n",
       "      <td>4305.543424</td>\n",
       "      <td>326.1</td>\n",
       "      <td>3.625</td>\n",
       "      <td>379.185012</td>\n",
       "      <td>11063.201</td>\n",
       "      <td>97.7</td>\n",
       "      <td>4.615</td>\n",
       "      <td>74.09</td>\n",
       "    </tr>\n",
       "    <tr>\n",
       "      <th>111</th>\n",
       "      <td>Tunisia</td>\n",
       "      <td>2013</td>\n",
       "      <td>8.890290</td>\n",
       "      <td>2853.000</td>\n",
       "      <td>166.470588</td>\n",
       "      <td>2.691378</td>\n",
       "      <td>2.6</td>\n",
       "      <td>4222.812667</td>\n",
       "      <td>326.1</td>\n",
       "      <td>3.625</td>\n",
       "      <td>383.001805</td>\n",
       "      <td>10952.951</td>\n",
       "      <td>97.3</td>\n",
       "      <td>4.615</td>\n",
       "      <td>77.60</td>\n",
       "    </tr>\n",
       "  </tbody>\n",
       "</table>\n",
       "<p>112 rows × 15 columns</p>\n",
       "</div>"
      ],
      "text/plain": [
       "     Country  Year  agricultural_value_added_percent_of_gdp  arable_land_area  \\\n",
       "0    Albania  2018                                18.429476           611.346   \n",
       "1    Albania  2017                                19.022127           612.000   \n",
       "2    Albania  2016                                19.849993           620.300   \n",
       "3    Albania  2015                                19.780225           615.100   \n",
       "4    Albania  2014                                19.990153           615.600   \n",
       "..       ...   ...                                      ...               ...   \n",
       "107  Tunisia  2017                                 9.685052          2607.000   \n",
       "108  Tunisia  2016                                 9.391980          2564.000   \n",
       "109  Tunisia  2015                                10.282704          2570.000   \n",
       "110  Tunisia  2014                                 9.153284          2588.000   \n",
       "111  Tunisia  2013                                 8.890290          2853.000   \n",
       "\n",
       "     area_salinized_by_irrigation  dam_capacity  flood_occurence  \\\n",
       "0                        0.000000      4.030000              2.7   \n",
       "1                        0.000000      4.030000              2.7   \n",
       "2                        0.480000      4.030000              2.7   \n",
       "3                        0.960000      4.030000              2.7   \n",
       "4                        1.440000      4.030000              2.7   \n",
       "..                            ...           ...              ...   \n",
       "107                    193.294118      2.691378              2.6   \n",
       "108                    186.588235      2.691378              2.6   \n",
       "109                    179.882353      2.691378              2.6   \n",
       "110                    173.176471      2.691378              2.6   \n",
       "111                    166.470588      2.691378              2.6   \n",
       "\n",
       "     gdp_per_capita  precipitation_index  total_exploitable_water_resources  \\\n",
       "0       5257.650696               1136.0                             13.000   \n",
       "1       4514.204908               1136.0                             13.000   \n",
       "2       4109.340457               1136.0                             13.000   \n",
       "3       3939.413126               1136.0                             13.000   \n",
       "4       4567.281443               1136.0                             13.000   \n",
       "..              ...                  ...                                ...   \n",
       "107     3481.203612                326.1                              3.625   \n",
       "108     3697.880363                326.1                              3.625   \n",
       "109     3861.643875                326.1                              3.625   \n",
       "110     4305.543424                326.1                              3.625   \n",
       "111     4222.812667                326.1                              3.625   \n",
       "\n",
       "     total_internal_renewable_water_resource_per_capita  total_population  \\\n",
       "0                                          9331.399988           2882.740   \n",
       "1                                          9326.776621           2884.169   \n",
       "2                                          9319.444935           2886.438   \n",
       "3                                          9306.306528           2890.513   \n",
       "4                                          9287.695875           2896.305   \n",
       "..                                                 ...                ...   \n",
       "107                                         366.906102          11433.443   \n",
       "108                                         371.109378          11303.945   \n",
       "109                                         375.225325          11179.949   \n",
       "110                                         379.185012          11063.201   \n",
       "111                                         383.001805          10952.951   \n",
       "\n",
       "     total_population_with_access_to_safe_drinking_water  \\\n",
       "0                                                 95.1     \n",
       "1                                                 95.1     \n",
       "2                                                 95.1     \n",
       "3                                                 95.1     \n",
       "4                                                 95.1     \n",
       "..                                                 ...     \n",
       "107                                               97.7     \n",
       "108                                               97.7     \n",
       "109                                               97.7     \n",
       "110                                               97.7     \n",
       "111                                               97.3     \n",
       "\n",
       "     total_renewable_water_resources  total_yield  \n",
       "0                             30.200        87.14  \n",
       "1                             30.200        69.81  \n",
       "2                             30.200        68.46  \n",
       "3                             30.200        71.04  \n",
       "4                             30.200        68.50  \n",
       "..                               ...          ...  \n",
       "107                            4.615        90.76  \n",
       "108                            4.615        85.10  \n",
       "109                            4.615        83.86  \n",
       "110                            4.615        74.09  \n",
       "111                            4.615        77.60  \n",
       "\n",
       "[112 rows x 15 columns]"
      ]
     },
     "execution_count": 2,
     "metadata": {},
     "output_type": "execute_result"
    }
   ],
   "source": [
    "aquastat_file_names = [fn for fn in os.listdir(\"data/\") if \".xlsx\" in fn]\n",
    "\n",
    "aquastat_crop_yield = pipeline(aquastat_file_names, \"Attainable_yields.csv\", \"value\")\n",
    "\n",
    "aquastat_crop_yield"
   ]
  },
  {
   "cell_type": "code",
   "execution_count": 3,
   "id": "2a3506ed",
   "metadata": {},
   "outputs": [],
   "source": [
    "# descends the model by a single step\n",
    "def descend(true_y, pred_y, x, b, alpha=0.01):\n",
    "    return b - alpha*np.sum(np.subtract(pred_y, true_y)*x)/true_y.size"
   ]
  },
  {
   "cell_type": "code",
   "execution_count": 4,
   "id": "f37b4ef1",
   "metadata": {},
   "outputs": [],
   "source": [
    "# Returns a list of predictions for total yield when given X values and b values\n",
    "def predict(X, b):\n",
    "    return np.add(np.matmul(X.loc[:, X.columns != 'b0'],b[1:]), b[0])"
   ]
  },
  {
   "cell_type": "code",
   "execution_count": 5,
   "id": "3275735b",
   "metadata": {},
   "outputs": [],
   "source": [
    "def mse(true, pred):\n",
    "    return np.square(np.subtract(true,pred)).mean()"
   ]
  },
  {
   "cell_type": "code",
   "execution_count": 106,
   "id": "f261c798",
   "metadata": {},
   "outputs": [],
   "source": [
    "def lin_regression(data, alpha=0.00001, epochs=1000, stats=True, y_col='total_yield', print_=False):\n",
    "    # generates initial w values\n",
    "    b = np.zeros(len(data.axes[1]))\n",
    "    #b = random.rand(len(data.axes[1]))\n",
    "    \n",
    "    # removes outcome from data, and inserts a dummy column for w0\n",
    "    fdata = data.loc[:, data.columns != y_col]\n",
    "    fdata.insert(0, 'b0', np.ones(len(data)))\n",
    "    \n",
    "    if stats:\n",
    "        mse_list = []\n",
    "    \n",
    "    for i in range(epochs):\n",
    "\n",
    "        pred = predict(fdata, b)\n",
    "        \n",
    "        if print_:\n",
    "            print(b, pred)\n",
    "        \n",
    "        # Ends early if the value increases too much\n",
    "        if math.isnan(pred[0]) or math.isinf(pred[0]):\n",
    "            print(\"Value increased to infinity\")\n",
    "            if stats:\n",
    "                return b, mse_list\n",
    "            else:\n",
    "                return b\n",
    "        \n",
    "        if stats:\n",
    "            # Calculates mpe and acc for each epoch\n",
    "            mse_list.append(mse(data[y_col], pred))\n",
    "        \n",
    "        index = 0\n",
    "        for col in fdata:\n",
    "            b[index] = descend(data[y_col], pred, fdata[col], b[index], alpha=alpha)\n",
    "            index +=1\n",
    "    \n",
    "    if stats:\n",
    "        return b, mse_list\n",
    "    else:\n",
    "        return b"
   ]
  },
  {
   "cell_type": "code",
   "execution_count": 30,
   "id": "3b2aeb17",
   "metadata": {},
   "outputs": [],
   "source": [
    "def pipeline_separate(aquastat_filenames, crop_yield_filename, aquastat_feature):\n",
    "    \"\"\"\n",
    "    Runs the aquastat and crop yield pipeline\n",
    "    \"\"\"\n",
    "    shared_attributes = [\"Country\", \"Year\"]\n",
    "    crop_df = crop_yield_specialized_preprocessing(convert_to_pandas(crop_yield_filename))\n",
    "    dfs = []\n",
    "    for fn in aquastat_filenames:\n",
    "        temp_df = convert_to_pandas(fn)\n",
    "        strip_temp_df = strip_df(temp_df, shared_attributes + [aquastat_feature])\n",
    "        renamed_temp_df = aquastat_feature_rename(strip_temp_df, fn, aquastat_feature)\n",
    "        dfs.append(strip_temp_df)\n",
    "    \n",
    "    dfs.append(crop_df)\n",
    "    \n",
    "    return dfs"
   ]
  },
  {
   "cell_type": "code",
   "execution_count": 31,
   "id": "0eceb6bb",
   "metadata": {},
   "outputs": [],
   "source": [
    "dfs = pipeline_separate(aquastat_file_names, \"Attainable_yields.csv\", \"value\")"
   ]
  },
  {
   "cell_type": "code",
   "execution_count": 101,
   "id": "71ce6275",
   "metadata": {},
   "outputs": [],
   "source": [
    "def test_combos(dfs, yield_df, combination_size=2, alpha_vals=[0.001, 0.0001]):\n",
    "    results = []\n",
    "    for size in range(combination_size):\n",
    "        combs = itertools.combinations(dfs, size)\n",
    "    \n",
    "        # Iterates through the list of combination\n",
    "        for comb in combs:\n",
    "            data = yield_df\n",
    "        \n",
    "            # Merges all the dataframes in the combination into 1\n",
    "            for df in comb:\n",
    "                data = data.merge(df, on=[\"Country\", \"Year\"])\n",
    "            \n",
    "            data = data.drop([\"Country\", \"Year\"], axis=1)\n",
    "        \n",
    "            # Runs linear regression using the given alpha levels\n",
    "            for alpha in alpha_vals:\n",
    "                beta, mse_list = lin_regression(data, epochs=1000, alpha=alpha)\n",
    "                mse_val = mse_list[-1]\n",
    "            \n",
    "                # Ensures mse_val is a number\n",
    "                if math.isnan(mse_val) or math.isinf(mse_val):\n",
    "                    mse_val = 99999999\n",
    "                \n",
    "                results.append((mse_val, beta, alpha, data.axes[1]))\n",
    "            \n",
    "            \n",
    "    return results"
   ]
  },
  {
   "cell_type": "code",
   "execution_count": 102,
   "id": "3934e441",
   "metadata": {},
   "outputs": [
    {
     "name": "stderr",
     "output_type": "stream",
     "text": [
      "C:\\Users\\rmons\\School\\Anaconda\\envs\\ml\\lib\\site-packages\\pandas\\core\\arraylike.py:402: RuntimeWarning: overflow encountered in square\n",
      "  result = getattr(ufunc, method)(*inputs, **kwargs)\n",
      "C:\\Users\\rmons\\School\\Anaconda\\envs\\ml\\lib\\site-packages\\pandas\\core\\arraylike.py:402: RuntimeWarning: overflow encountered in square\n",
      "  result = getattr(ufunc, method)(*inputs, **kwargs)\n"
     ]
    },
    {
     "name": "stdout",
     "output_type": "stream",
     "text": [
      "Value increased to infinity\n",
      "Value increased to infinity\n"
     ]
    },
    {
     "name": "stderr",
     "output_type": "stream",
     "text": [
      "C:\\Users\\rmons\\School\\Anaconda\\envs\\ml\\lib\\site-packages\\pandas\\core\\arraylike.py:402: RuntimeWarning: overflow encountered in square\n",
      "  result = getattr(ufunc, method)(*inputs, **kwargs)\n",
      "C:\\Users\\rmons\\School\\Anaconda\\envs\\ml\\lib\\site-packages\\pandas\\core\\arraylike.py:402: RuntimeWarning: overflow encountered in square\n",
      "  result = getattr(ufunc, method)(*inputs, **kwargs)\n"
     ]
    },
    {
     "name": "stdout",
     "output_type": "stream",
     "text": [
      "Value increased to infinity\n",
      "Value increased to infinity\n"
     ]
    },
    {
     "name": "stderr",
     "output_type": "stream",
     "text": [
      "C:\\Users\\rmons\\School\\Anaconda\\envs\\ml\\lib\\site-packages\\pandas\\core\\arraylike.py:402: RuntimeWarning: overflow encountered in square\n",
      "  result = getattr(ufunc, method)(*inputs, **kwargs)\n",
      "C:\\Users\\rmons\\School\\Anaconda\\envs\\ml\\lib\\site-packages\\pandas\\core\\arraylike.py:402: RuntimeWarning: overflow encountered in square\n",
      "  result = getattr(ufunc, method)(*inputs, **kwargs)\n"
     ]
    },
    {
     "name": "stdout",
     "output_type": "stream",
     "text": [
      "Value increased to infinity\n",
      "Value increased to infinity\n"
     ]
    },
    {
     "name": "stderr",
     "output_type": "stream",
     "text": [
      "C:\\Users\\rmons\\School\\Anaconda\\envs\\ml\\lib\\site-packages\\pandas\\core\\arraylike.py:402: RuntimeWarning: overflow encountered in square\n",
      "  result = getattr(ufunc, method)(*inputs, **kwargs)\n"
     ]
    },
    {
     "name": "stdout",
     "output_type": "stream",
     "text": [
      "Value increased to infinity\n"
     ]
    },
    {
     "name": "stderr",
     "output_type": "stream",
     "text": [
      "C:\\Users\\rmons\\School\\Anaconda\\envs\\ml\\lib\\site-packages\\pandas\\core\\arraylike.py:402: RuntimeWarning: overflow encountered in square\n",
      "  result = getattr(ufunc, method)(*inputs, **kwargs)\n",
      "C:\\Users\\rmons\\School\\Anaconda\\envs\\ml\\lib\\site-packages\\pandas\\core\\arraylike.py:402: RuntimeWarning: overflow encountered in square\n",
      "  result = getattr(ufunc, method)(*inputs, **kwargs)\n"
     ]
    },
    {
     "name": "stdout",
     "output_type": "stream",
     "text": [
      "Value increased to infinity\n",
      "Value increased to infinity\n"
     ]
    },
    {
     "name": "stderr",
     "output_type": "stream",
     "text": [
      "C:\\Users\\rmons\\School\\Anaconda\\envs\\ml\\lib\\site-packages\\pandas\\core\\arraylike.py:402: RuntimeWarning: overflow encountered in square\n",
      "  result = getattr(ufunc, method)(*inputs, **kwargs)\n",
      "C:\\Users\\rmons\\School\\Anaconda\\envs\\ml\\lib\\site-packages\\pandas\\core\\arraylike.py:402: RuntimeWarning: overflow encountered in square\n",
      "  result = getattr(ufunc, method)(*inputs, **kwargs)\n"
     ]
    },
    {
     "name": "stdout",
     "output_type": "stream",
     "text": [
      "Value increased to infinity\n",
      "Value increased to infinity\n"
     ]
    },
    {
     "name": "stderr",
     "output_type": "stream",
     "text": [
      "C:\\Users\\rmons\\School\\Anaconda\\envs\\ml\\lib\\site-packages\\pandas\\core\\arraylike.py:402: RuntimeWarning: overflow encountered in square\n",
      "  result = getattr(ufunc, method)(*inputs, **kwargs)\n"
     ]
    },
    {
     "name": "stdout",
     "output_type": "stream",
     "text": [
      "Value increased to infinity\n"
     ]
    },
    {
     "name": "stderr",
     "output_type": "stream",
     "text": [
      "C:\\Users\\rmons\\School\\Anaconda\\envs\\ml\\lib\\site-packages\\pandas\\core\\arraylike.py:402: RuntimeWarning: overflow encountered in square\n",
      "  result = getattr(ufunc, method)(*inputs, **kwargs)\n"
     ]
    },
    {
     "name": "stdout",
     "output_type": "stream",
     "text": [
      "Value increased to infinity\n"
     ]
    },
    {
     "name": "stderr",
     "output_type": "stream",
     "text": [
      "C:\\Users\\rmons\\School\\Anaconda\\envs\\ml\\lib\\site-packages\\pandas\\core\\arraylike.py:402: RuntimeWarning: overflow encountered in square\n",
      "  result = getattr(ufunc, method)(*inputs, **kwargs)\n"
     ]
    },
    {
     "name": "stdout",
     "output_type": "stream",
     "text": [
      "Value increased to infinity\n"
     ]
    },
    {
     "name": "stderr",
     "output_type": "stream",
     "text": [
      "C:\\Users\\rmons\\School\\Anaconda\\envs\\ml\\lib\\site-packages\\pandas\\core\\arraylike.py:402: RuntimeWarning: overflow encountered in square\n",
      "  result = getattr(ufunc, method)(*inputs, **kwargs)\n"
     ]
    },
    {
     "name": "stdout",
     "output_type": "stream",
     "text": [
      "Value increased to infinity\n"
     ]
    },
    {
     "name": "stderr",
     "output_type": "stream",
     "text": [
      "C:\\Users\\rmons\\School\\Anaconda\\envs\\ml\\lib\\site-packages\\pandas\\core\\arraylike.py:402: RuntimeWarning: overflow encountered in square\n",
      "  result = getattr(ufunc, method)(*inputs, **kwargs)\n",
      "C:\\Users\\rmons\\School\\Anaconda\\envs\\ml\\lib\\site-packages\\pandas\\core\\arraylike.py:402: RuntimeWarning: overflow encountered in square\n",
      "  result = getattr(ufunc, method)(*inputs, **kwargs)\n",
      "C:\\Users\\rmons\\School\\Anaconda\\envs\\ml\\lib\\site-packages\\pandas\\core\\arraylike.py:402: RuntimeWarning: overflow encountered in square\n",
      "  result = getattr(ufunc, method)(*inputs, **kwargs)\n"
     ]
    },
    {
     "name": "stdout",
     "output_type": "stream",
     "text": [
      "Value increased to infinity\n",
      "Value increased to infinity\n",
      "Value increased to infinity\n"
     ]
    },
    {
     "name": "stderr",
     "output_type": "stream",
     "text": [
      "C:\\Users\\rmons\\School\\Anaconda\\envs\\ml\\lib\\site-packages\\pandas\\core\\arraylike.py:402: RuntimeWarning: overflow encountered in square\n",
      "  result = getattr(ufunc, method)(*inputs, **kwargs)\n",
      "C:\\Users\\rmons\\School\\Anaconda\\envs\\ml\\lib\\site-packages\\pandas\\core\\arraylike.py:402: RuntimeWarning: overflow encountered in square\n",
      "  result = getattr(ufunc, method)(*inputs, **kwargs)\n",
      "C:\\Users\\rmons\\School\\Anaconda\\envs\\ml\\lib\\site-packages\\pandas\\core\\arraylike.py:402: RuntimeWarning: overflow encountered in square\n",
      "  result = getattr(ufunc, method)(*inputs, **kwargs)\n"
     ]
    },
    {
     "name": "stdout",
     "output_type": "stream",
     "text": [
      "Value increased to infinity\n",
      "Value increased to infinity\n",
      "Value increased to infinity\n"
     ]
    },
    {
     "name": "stderr",
     "output_type": "stream",
     "text": [
      "C:\\Users\\rmons\\School\\Anaconda\\envs\\ml\\lib\\site-packages\\pandas\\core\\arraylike.py:402: RuntimeWarning: overflow encountered in square\n",
      "  result = getattr(ufunc, method)(*inputs, **kwargs)\n"
     ]
    },
    {
     "name": "stdout",
     "output_type": "stream",
     "text": [
      "Value increased to infinity\n"
     ]
    },
    {
     "name": "stderr",
     "output_type": "stream",
     "text": [
      "C:\\Users\\rmons\\School\\Anaconda\\envs\\ml\\lib\\site-packages\\pandas\\core\\arraylike.py:402: RuntimeWarning: overflow encountered in square\n",
      "  result = getattr(ufunc, method)(*inputs, **kwargs)\n",
      "C:\\Users\\rmons\\School\\Anaconda\\envs\\ml\\lib\\site-packages\\pandas\\core\\arraylike.py:402: RuntimeWarning: overflow encountered in square\n",
      "  result = getattr(ufunc, method)(*inputs, **kwargs)\n"
     ]
    },
    {
     "name": "stdout",
     "output_type": "stream",
     "text": [
      "Value increased to infinity\n",
      "Value increased to infinity\n"
     ]
    },
    {
     "name": "stderr",
     "output_type": "stream",
     "text": [
      "C:\\Users\\rmons\\School\\Anaconda\\envs\\ml\\lib\\site-packages\\pandas\\core\\arraylike.py:402: RuntimeWarning: overflow encountered in square\n",
      "  result = getattr(ufunc, method)(*inputs, **kwargs)\n"
     ]
    },
    {
     "name": "stdout",
     "output_type": "stream",
     "text": [
      "Value increased to infinity\n",
      "Value increased to infinity\n"
     ]
    },
    {
     "name": "stderr",
     "output_type": "stream",
     "text": [
      "C:\\Users\\rmons\\School\\Anaconda\\envs\\ml\\lib\\site-packages\\pandas\\core\\arraylike.py:402: RuntimeWarning: overflow encountered in square\n",
      "  result = getattr(ufunc, method)(*inputs, **kwargs)\n",
      "C:\\Users\\rmons\\School\\Anaconda\\envs\\ml\\lib\\site-packages\\pandas\\core\\arraylike.py:402: RuntimeWarning: overflow encountered in square\n",
      "  result = getattr(ufunc, method)(*inputs, **kwargs)\n"
     ]
    },
    {
     "name": "stdout",
     "output_type": "stream",
     "text": [
      "Value increased to infinity\n",
      "Value increased to infinity\n"
     ]
    },
    {
     "name": "stderr",
     "output_type": "stream",
     "text": [
      "C:\\Users\\rmons\\School\\Anaconda\\envs\\ml\\lib\\site-packages\\pandas\\core\\arraylike.py:402: RuntimeWarning: overflow encountered in square\n",
      "  result = getattr(ufunc, method)(*inputs, **kwargs)\n",
      "C:\\Users\\rmons\\School\\Anaconda\\envs\\ml\\lib\\site-packages\\pandas\\core\\arraylike.py:402: RuntimeWarning: overflow encountered in square\n",
      "  result = getattr(ufunc, method)(*inputs, **kwargs)\n"
     ]
    },
    {
     "name": "stdout",
     "output_type": "stream",
     "text": [
      "Value increased to infinity\n",
      "Value increased to infinity\n"
     ]
    },
    {
     "name": "stderr",
     "output_type": "stream",
     "text": [
      "C:\\Users\\rmons\\School\\Anaconda\\envs\\ml\\lib\\site-packages\\pandas\\core\\arraylike.py:402: RuntimeWarning: overflow encountered in square\n",
      "  result = getattr(ufunc, method)(*inputs, **kwargs)\n",
      "C:\\Users\\rmons\\School\\Anaconda\\envs\\ml\\lib\\site-packages\\pandas\\core\\arraylike.py:402: RuntimeWarning: overflow encountered in square\n",
      "  result = getattr(ufunc, method)(*inputs, **kwargs)\n"
     ]
    },
    {
     "name": "stdout",
     "output_type": "stream",
     "text": [
      "Value increased to infinity\n"
     ]
    },
    {
     "name": "stderr",
     "output_type": "stream",
     "text": [
      "C:\\Users\\rmons\\School\\Anaconda\\envs\\ml\\lib\\site-packages\\pandas\\core\\arraylike.py:402: RuntimeWarning: overflow encountered in square\n",
      "  result = getattr(ufunc, method)(*inputs, **kwargs)\n"
     ]
    },
    {
     "name": "stdout",
     "output_type": "stream",
     "text": [
      "Value increased to infinity\n"
     ]
    },
    {
     "name": "stderr",
     "output_type": "stream",
     "text": [
      "C:\\Users\\rmons\\School\\Anaconda\\envs\\ml\\lib\\site-packages\\pandas\\core\\arraylike.py:402: RuntimeWarning: overflow encountered in square\n",
      "  result = getattr(ufunc, method)(*inputs, **kwargs)\n",
      "C:\\Users\\rmons\\School\\Anaconda\\envs\\ml\\lib\\site-packages\\pandas\\core\\arraylike.py:402: RuntimeWarning: overflow encountered in square\n",
      "  result = getattr(ufunc, method)(*inputs, **kwargs)\n"
     ]
    },
    {
     "name": "stdout",
     "output_type": "stream",
     "text": [
      "Value increased to infinity\n",
      "Value increased to infinity\n"
     ]
    },
    {
     "name": "stderr",
     "output_type": "stream",
     "text": [
      "C:\\Users\\rmons\\School\\Anaconda\\envs\\ml\\lib\\site-packages\\pandas\\core\\arraylike.py:402: RuntimeWarning: overflow encountered in square\n",
      "  result = getattr(ufunc, method)(*inputs, **kwargs)\n",
      "C:\\Users\\rmons\\School\\Anaconda\\envs\\ml\\lib\\site-packages\\pandas\\core\\arraylike.py:402: RuntimeWarning: overflow encountered in square\n",
      "  result = getattr(ufunc, method)(*inputs, **kwargs)\n"
     ]
    },
    {
     "name": "stdout",
     "output_type": "stream",
     "text": [
      "Value increased to infinity\n",
      "Value increased to infinity\n"
     ]
    },
    {
     "name": "stderr",
     "output_type": "stream",
     "text": [
      "C:\\Users\\rmons\\School\\Anaconda\\envs\\ml\\lib\\site-packages\\pandas\\core\\arraylike.py:402: RuntimeWarning: overflow encountered in square\n",
      "  result = getattr(ufunc, method)(*inputs, **kwargs)\n"
     ]
    },
    {
     "name": "stdout",
     "output_type": "stream",
     "text": [
      "Value increased to infinity\n"
     ]
    },
    {
     "name": "stderr",
     "output_type": "stream",
     "text": [
      "C:\\Users\\rmons\\School\\Anaconda\\envs\\ml\\lib\\site-packages\\pandas\\core\\arraylike.py:402: RuntimeWarning: overflow encountered in square\n",
      "  result = getattr(ufunc, method)(*inputs, **kwargs)\n"
     ]
    },
    {
     "name": "stdout",
     "output_type": "stream",
     "text": [
      "Value increased to infinity\n"
     ]
    },
    {
     "name": "stderr",
     "output_type": "stream",
     "text": [
      "C:\\Users\\rmons\\School\\Anaconda\\envs\\ml\\lib\\site-packages\\pandas\\core\\arraylike.py:402: RuntimeWarning: overflow encountered in square\n",
      "  result = getattr(ufunc, method)(*inputs, **kwargs)\n"
     ]
    },
    {
     "name": "stdout",
     "output_type": "stream",
     "text": [
      "Value increased to infinity\n"
     ]
    },
    {
     "name": "stderr",
     "output_type": "stream",
     "text": [
      "C:\\Users\\rmons\\School\\Anaconda\\envs\\ml\\lib\\site-packages\\pandas\\core\\arraylike.py:402: RuntimeWarning: overflow encountered in square\n",
      "  result = getattr(ufunc, method)(*inputs, **kwargs)\n"
     ]
    },
    {
     "name": "stdout",
     "output_type": "stream",
     "text": [
      "Value increased to infinity\n"
     ]
    },
    {
     "name": "stderr",
     "output_type": "stream",
     "text": [
      "C:\\Users\\rmons\\School\\Anaconda\\envs\\ml\\lib\\site-packages\\pandas\\core\\arraylike.py:402: RuntimeWarning: overflow encountered in square\n",
      "  result = getattr(ufunc, method)(*inputs, **kwargs)\n",
      "C:\\Users\\rmons\\School\\Anaconda\\envs\\ml\\lib\\site-packages\\pandas\\core\\arraylike.py:402: RuntimeWarning: overflow encountered in square\n",
      "  result = getattr(ufunc, method)(*inputs, **kwargs)\n",
      "C:\\Users\\rmons\\School\\Anaconda\\envs\\ml\\lib\\site-packages\\pandas\\core\\arraylike.py:402: RuntimeWarning: overflow encountered in square\n",
      "  result = getattr(ufunc, method)(*inputs, **kwargs)\n"
     ]
    },
    {
     "name": "stdout",
     "output_type": "stream",
     "text": [
      "Value increased to infinity\n",
      "Value increased to infinity\n",
      "Value increased to infinity\n"
     ]
    },
    {
     "name": "stderr",
     "output_type": "stream",
     "text": [
      "C:\\Users\\rmons\\School\\Anaconda\\envs\\ml\\lib\\site-packages\\pandas\\core\\arraylike.py:402: RuntimeWarning: overflow encountered in square\n",
      "  result = getattr(ufunc, method)(*inputs, **kwargs)\n",
      "C:\\Users\\rmons\\School\\Anaconda\\envs\\ml\\lib\\site-packages\\pandas\\core\\arraylike.py:402: RuntimeWarning: overflow encountered in square\n",
      "  result = getattr(ufunc, method)(*inputs, **kwargs)\n",
      "C:\\Users\\rmons\\School\\Anaconda\\envs\\ml\\lib\\site-packages\\pandas\\core\\arraylike.py:402: RuntimeWarning: overflow encountered in square\n",
      "  result = getattr(ufunc, method)(*inputs, **kwargs)\n"
     ]
    },
    {
     "name": "stdout",
     "output_type": "stream",
     "text": [
      "Value increased to infinity\n",
      "Value increased to infinity\n",
      "Value increased to infinity\n"
     ]
    },
    {
     "name": "stderr",
     "output_type": "stream",
     "text": [
      "C:\\Users\\rmons\\School\\Anaconda\\envs\\ml\\lib\\site-packages\\pandas\\core\\arraylike.py:402: RuntimeWarning: overflow encountered in square\n",
      "  result = getattr(ufunc, method)(*inputs, **kwargs)\n"
     ]
    },
    {
     "name": "stdout",
     "output_type": "stream",
     "text": [
      "Value increased to infinity\n"
     ]
    },
    {
     "name": "stderr",
     "output_type": "stream",
     "text": [
      "C:\\Users\\rmons\\School\\Anaconda\\envs\\ml\\lib\\site-packages\\pandas\\core\\arraylike.py:402: RuntimeWarning: overflow encountered in square\n",
      "  result = getattr(ufunc, method)(*inputs, **kwargs)\n",
      "C:\\Users\\rmons\\School\\Anaconda\\envs\\ml\\lib\\site-packages\\pandas\\core\\arraylike.py:402: RuntimeWarning: overflow encountered in square\n",
      "  result = getattr(ufunc, method)(*inputs, **kwargs)\n"
     ]
    },
    {
     "name": "stdout",
     "output_type": "stream",
     "text": [
      "Value increased to infinity\n",
      "Value increased to infinity\n"
     ]
    },
    {
     "name": "stderr",
     "output_type": "stream",
     "text": [
      "C:\\Users\\rmons\\School\\Anaconda\\envs\\ml\\lib\\site-packages\\pandas\\core\\arraylike.py:402: RuntimeWarning: overflow encountered in square\n",
      "  result = getattr(ufunc, method)(*inputs, **kwargs)\n"
     ]
    },
    {
     "name": "stdout",
     "output_type": "stream",
     "text": [
      "Value increased to infinity\n",
      "Value increased to infinity\n",
      "Value increased to infinity\n"
     ]
    },
    {
     "name": "stderr",
     "output_type": "stream",
     "text": [
      "C:\\Users\\rmons\\School\\Anaconda\\envs\\ml\\lib\\site-packages\\pandas\\core\\arraylike.py:402: RuntimeWarning: overflow encountered in square\n",
      "  result = getattr(ufunc, method)(*inputs, **kwargs)\n",
      "C:\\Users\\rmons\\School\\Anaconda\\envs\\ml\\lib\\site-packages\\pandas\\core\\arraylike.py:402: RuntimeWarning: overflow encountered in square\n",
      "  result = getattr(ufunc, method)(*inputs, **kwargs)\n",
      "C:\\Users\\rmons\\School\\Anaconda\\envs\\ml\\lib\\site-packages\\pandas\\core\\arraylike.py:402: RuntimeWarning: overflow encountered in square\n",
      "  result = getattr(ufunc, method)(*inputs, **kwargs)\n"
     ]
    },
    {
     "name": "stdout",
     "output_type": "stream",
     "text": [
      "Value increased to infinity\n",
      "Value increased to infinity\n"
     ]
    },
    {
     "name": "stderr",
     "output_type": "stream",
     "text": [
      "C:\\Users\\rmons\\School\\Anaconda\\envs\\ml\\lib\\site-packages\\pandas\\core\\arraylike.py:402: RuntimeWarning: overflow encountered in square\n",
      "  result = getattr(ufunc, method)(*inputs, **kwargs)\n",
      "C:\\Users\\rmons\\School\\Anaconda\\envs\\ml\\lib\\site-packages\\pandas\\core\\arraylike.py:402: RuntimeWarning: overflow encountered in square\n",
      "  result = getattr(ufunc, method)(*inputs, **kwargs)\n"
     ]
    },
    {
     "name": "stdout",
     "output_type": "stream",
     "text": [
      "Value increased to infinity\n",
      "Value increased to infinity\n"
     ]
    },
    {
     "name": "stderr",
     "output_type": "stream",
     "text": [
      "C:\\Users\\rmons\\School\\Anaconda\\envs\\ml\\lib\\site-packages\\pandas\\core\\arraylike.py:402: RuntimeWarning: overflow encountered in square\n",
      "  result = getattr(ufunc, method)(*inputs, **kwargs)\n",
      "C:\\Users\\rmons\\School\\Anaconda\\envs\\ml\\lib\\site-packages\\pandas\\core\\arraylike.py:402: RuntimeWarning: overflow encountered in square\n",
      "  result = getattr(ufunc, method)(*inputs, **kwargs)\n"
     ]
    },
    {
     "name": "stdout",
     "output_type": "stream",
     "text": [
      "Value increased to infinity\n",
      "Value increased to infinity\n"
     ]
    },
    {
     "name": "stderr",
     "output_type": "stream",
     "text": [
      "C:\\Users\\rmons\\School\\Anaconda\\envs\\ml\\lib\\site-packages\\pandas\\core\\arraylike.py:402: RuntimeWarning: overflow encountered in square\n",
      "  result = getattr(ufunc, method)(*inputs, **kwargs)\n",
      "C:\\Users\\rmons\\School\\Anaconda\\envs\\ml\\lib\\site-packages\\pandas\\core\\arraylike.py:402: RuntimeWarning: overflow encountered in square\n",
      "  result = getattr(ufunc, method)(*inputs, **kwargs)\n"
     ]
    },
    {
     "name": "stdout",
     "output_type": "stream",
     "text": [
      "Value increased to infinity\n",
      "Value increased to infinity\n"
     ]
    },
    {
     "name": "stderr",
     "output_type": "stream",
     "text": [
      "C:\\Users\\rmons\\School\\Anaconda\\envs\\ml\\lib\\site-packages\\pandas\\core\\arraylike.py:402: RuntimeWarning: overflow encountered in square\n",
      "  result = getattr(ufunc, method)(*inputs, **kwargs)\n",
      "C:\\Users\\rmons\\School\\Anaconda\\envs\\ml\\lib\\site-packages\\pandas\\core\\arraylike.py:402: RuntimeWarning: overflow encountered in square\n",
      "  result = getattr(ufunc, method)(*inputs, **kwargs)\n"
     ]
    },
    {
     "name": "stdout",
     "output_type": "stream",
     "text": [
      "Value increased to infinity\n",
      "Value increased to infinity\n"
     ]
    },
    {
     "name": "stderr",
     "output_type": "stream",
     "text": [
      "C:\\Users\\rmons\\School\\Anaconda\\envs\\ml\\lib\\site-packages\\pandas\\core\\arraylike.py:402: RuntimeWarning: overflow encountered in square\n",
      "  result = getattr(ufunc, method)(*inputs, **kwargs)\n",
      "C:\\Users\\rmons\\School\\Anaconda\\envs\\ml\\lib\\site-packages\\pandas\\core\\arraylike.py:402: RuntimeWarning: overflow encountered in square\n",
      "  result = getattr(ufunc, method)(*inputs, **kwargs)\n"
     ]
    },
    {
     "name": "stdout",
     "output_type": "stream",
     "text": [
      "Value increased to infinity\n",
      "Value increased to infinity\n"
     ]
    },
    {
     "name": "stderr",
     "output_type": "stream",
     "text": [
      "C:\\Users\\rmons\\School\\Anaconda\\envs\\ml\\lib\\site-packages\\pandas\\core\\arraylike.py:402: RuntimeWarning: overflow encountered in square\n",
      "  result = getattr(ufunc, method)(*inputs, **kwargs)\n",
      "C:\\Users\\rmons\\School\\Anaconda\\envs\\ml\\lib\\site-packages\\pandas\\core\\arraylike.py:402: RuntimeWarning: overflow encountered in square\n",
      "  result = getattr(ufunc, method)(*inputs, **kwargs)\n"
     ]
    },
    {
     "name": "stdout",
     "output_type": "stream",
     "text": [
      "Value increased to infinity\n",
      "Value increased to infinity\n",
      "Value increased to infinity\n"
     ]
    },
    {
     "name": "stderr",
     "output_type": "stream",
     "text": [
      "C:\\Users\\rmons\\School\\Anaconda\\envs\\ml\\lib\\site-packages\\pandas\\core\\arraylike.py:402: RuntimeWarning: overflow encountered in square\n",
      "  result = getattr(ufunc, method)(*inputs, **kwargs)\n",
      "C:\\Users\\rmons\\School\\Anaconda\\envs\\ml\\lib\\site-packages\\pandas\\core\\arraylike.py:402: RuntimeWarning: overflow encountered in square\n",
      "  result = getattr(ufunc, method)(*inputs, **kwargs)\n",
      "C:\\Users\\rmons\\School\\Anaconda\\envs\\ml\\lib\\site-packages\\pandas\\core\\arraylike.py:402: RuntimeWarning: overflow encountered in square\n",
      "  result = getattr(ufunc, method)(*inputs, **kwargs)\n",
      "C:\\Users\\rmons\\School\\Anaconda\\envs\\ml\\lib\\site-packages\\pandas\\core\\arraylike.py:402: RuntimeWarning: overflow encountered in square\n",
      "  result = getattr(ufunc, method)(*inputs, **kwargs)\n"
     ]
    },
    {
     "name": "stdout",
     "output_type": "stream",
     "text": [
      "Value increased to infinity\n",
      "Value increased to infinity\n",
      "Value increased to infinity\n"
     ]
    },
    {
     "name": "stderr",
     "output_type": "stream",
     "text": [
      "C:\\Users\\rmons\\School\\Anaconda\\envs\\ml\\lib\\site-packages\\pandas\\core\\arraylike.py:402: RuntimeWarning: overflow encountered in square\n",
      "  result = getattr(ufunc, method)(*inputs, **kwargs)\n",
      "C:\\Users\\rmons\\School\\Anaconda\\envs\\ml\\lib\\site-packages\\pandas\\core\\arraylike.py:402: RuntimeWarning: overflow encountered in square\n",
      "  result = getattr(ufunc, method)(*inputs, **kwargs)\n",
      "C:\\Users\\rmons\\School\\Anaconda\\envs\\ml\\lib\\site-packages\\pandas\\core\\arraylike.py:402: RuntimeWarning: overflow encountered in square\n",
      "  result = getattr(ufunc, method)(*inputs, **kwargs)\n"
     ]
    },
    {
     "name": "stdout",
     "output_type": "stream",
     "text": [
      "Value increased to infinity\n",
      "Value increased to infinity\n",
      "Value increased to infinity\n"
     ]
    },
    {
     "name": "stderr",
     "output_type": "stream",
     "text": [
      "C:\\Users\\rmons\\School\\Anaconda\\envs\\ml\\lib\\site-packages\\pandas\\core\\arraylike.py:402: RuntimeWarning: overflow encountered in square\n",
      "  result = getattr(ufunc, method)(*inputs, **kwargs)\n",
      "C:\\Users\\rmons\\School\\Anaconda\\envs\\ml\\lib\\site-packages\\pandas\\core\\arraylike.py:402: RuntimeWarning: overflow encountered in square\n",
      "  result = getattr(ufunc, method)(*inputs, **kwargs)\n",
      "C:\\Users\\rmons\\School\\Anaconda\\envs\\ml\\lib\\site-packages\\pandas\\core\\arraylike.py:402: RuntimeWarning: overflow encountered in square\n",
      "  result = getattr(ufunc, method)(*inputs, **kwargs)\n"
     ]
    },
    {
     "name": "stdout",
     "output_type": "stream",
     "text": [
      "Value increased to infinity\n",
      "Value increased to infinity\n",
      "Value increased to infinity\n"
     ]
    },
    {
     "name": "stderr",
     "output_type": "stream",
     "text": [
      "C:\\Users\\rmons\\School\\Anaconda\\envs\\ml\\lib\\site-packages\\pandas\\core\\arraylike.py:402: RuntimeWarning: overflow encountered in square\n",
      "  result = getattr(ufunc, method)(*inputs, **kwargs)\n",
      "C:\\Users\\rmons\\School\\Anaconda\\envs\\ml\\lib\\site-packages\\pandas\\core\\arraylike.py:402: RuntimeWarning: overflow encountered in square\n",
      "  result = getattr(ufunc, method)(*inputs, **kwargs)\n"
     ]
    },
    {
     "name": "stdout",
     "output_type": "stream",
     "text": [
      "Value increased to infinity\n",
      "Value increased to infinity\n"
     ]
    },
    {
     "name": "stderr",
     "output_type": "stream",
     "text": [
      "C:\\Users\\rmons\\School\\Anaconda\\envs\\ml\\lib\\site-packages\\pandas\\core\\arraylike.py:402: RuntimeWarning: overflow encountered in square\n",
      "  result = getattr(ufunc, method)(*inputs, **kwargs)\n",
      "C:\\Users\\rmons\\School\\Anaconda\\envs\\ml\\lib\\site-packages\\pandas\\core\\arraylike.py:402: RuntimeWarning: overflow encountered in square\n",
      "  result = getattr(ufunc, method)(*inputs, **kwargs)\n"
     ]
    },
    {
     "name": "stdout",
     "output_type": "stream",
     "text": [
      "Value increased to infinity\n",
      "Value increased to infinity\n"
     ]
    },
    {
     "name": "stderr",
     "output_type": "stream",
     "text": [
      "C:\\Users\\rmons\\School\\Anaconda\\envs\\ml\\lib\\site-packages\\pandas\\core\\arraylike.py:402: RuntimeWarning: overflow encountered in square\n",
      "  result = getattr(ufunc, method)(*inputs, **kwargs)\n",
      "C:\\Users\\rmons\\School\\Anaconda\\envs\\ml\\lib\\site-packages\\pandas\\core\\arraylike.py:402: RuntimeWarning: overflow encountered in square\n",
      "  result = getattr(ufunc, method)(*inputs, **kwargs)\n"
     ]
    },
    {
     "name": "stdout",
     "output_type": "stream",
     "text": [
      "Value increased to infinity\n",
      "Value increased to infinity\n"
     ]
    },
    {
     "name": "stderr",
     "output_type": "stream",
     "text": [
      "C:\\Users\\rmons\\School\\Anaconda\\envs\\ml\\lib\\site-packages\\pandas\\core\\arraylike.py:402: RuntimeWarning: overflow encountered in square\n",
      "  result = getattr(ufunc, method)(*inputs, **kwargs)\n",
      "C:\\Users\\rmons\\School\\Anaconda\\envs\\ml\\lib\\site-packages\\pandas\\core\\arraylike.py:402: RuntimeWarning: overflow encountered in square\n",
      "  result = getattr(ufunc, method)(*inputs, **kwargs)\n"
     ]
    },
    {
     "name": "stdout",
     "output_type": "stream",
     "text": [
      "Value increased to infinity\n",
      "Value increased to infinity\n"
     ]
    },
    {
     "name": "stderr",
     "output_type": "stream",
     "text": [
      "C:\\Users\\rmons\\School\\Anaconda\\envs\\ml\\lib\\site-packages\\pandas\\core\\arraylike.py:402: RuntimeWarning: overflow encountered in square\n",
      "  result = getattr(ufunc, method)(*inputs, **kwargs)\n",
      "C:\\Users\\rmons\\School\\Anaconda\\envs\\ml\\lib\\site-packages\\pandas\\core\\arraylike.py:402: RuntimeWarning: overflow encountered in square\n",
      "  result = getattr(ufunc, method)(*inputs, **kwargs)\n"
     ]
    },
    {
     "name": "stdout",
     "output_type": "stream",
     "text": [
      "Value increased to infinity\n"
     ]
    },
    {
     "name": "stderr",
     "output_type": "stream",
     "text": [
      "C:\\Users\\rmons\\School\\Anaconda\\envs\\ml\\lib\\site-packages\\pandas\\core\\arraylike.py:402: RuntimeWarning: overflow encountered in square\n",
      "  result = getattr(ufunc, method)(*inputs, **kwargs)\n",
      "C:\\Users\\rmons\\School\\Anaconda\\envs\\ml\\lib\\site-packages\\pandas\\core\\arraylike.py:402: RuntimeWarning: overflow encountered in square\n",
      "  result = getattr(ufunc, method)(*inputs, **kwargs)\n"
     ]
    },
    {
     "name": "stdout",
     "output_type": "stream",
     "text": [
      "Value increased to infinity\n",
      "Value increased to infinity\n",
      "Value increased to infinity\n"
     ]
    },
    {
     "name": "stderr",
     "output_type": "stream",
     "text": [
      "C:\\Users\\rmons\\School\\Anaconda\\envs\\ml\\lib\\site-packages\\pandas\\core\\arraylike.py:402: RuntimeWarning: overflow encountered in square\n",
      "  result = getattr(ufunc, method)(*inputs, **kwargs)\n",
      "C:\\Users\\rmons\\School\\Anaconda\\envs\\ml\\lib\\site-packages\\pandas\\core\\arraylike.py:402: RuntimeWarning: overflow encountered in square\n",
      "  result = getattr(ufunc, method)(*inputs, **kwargs)\n"
     ]
    },
    {
     "name": "stdout",
     "output_type": "stream",
     "text": [
      "Value increased to infinity\n",
      "Value increased to infinity\n"
     ]
    },
    {
     "name": "stderr",
     "output_type": "stream",
     "text": [
      "C:\\Users\\rmons\\School\\Anaconda\\envs\\ml\\lib\\site-packages\\pandas\\core\\arraylike.py:402: RuntimeWarning: overflow encountered in square\n",
      "  result = getattr(ufunc, method)(*inputs, **kwargs)\n",
      "C:\\Users\\rmons\\School\\Anaconda\\envs\\ml\\lib\\site-packages\\pandas\\core\\arraylike.py:402: RuntimeWarning: overflow encountered in square\n",
      "  result = getattr(ufunc, method)(*inputs, **kwargs)\n"
     ]
    },
    {
     "name": "stdout",
     "output_type": "stream",
     "text": [
      "Value increased to infinity\n"
     ]
    },
    {
     "name": "stderr",
     "output_type": "stream",
     "text": [
      "C:\\Users\\rmons\\School\\Anaconda\\envs\\ml\\lib\\site-packages\\pandas\\core\\arraylike.py:402: RuntimeWarning: overflow encountered in square\n",
      "  result = getattr(ufunc, method)(*inputs, **kwargs)\n"
     ]
    },
    {
     "name": "stdout",
     "output_type": "stream",
     "text": [
      "Value increased to infinity\n",
      "Value increased to infinity\n"
     ]
    },
    {
     "name": "stderr",
     "output_type": "stream",
     "text": [
      "C:\\Users\\rmons\\School\\Anaconda\\envs\\ml\\lib\\site-packages\\pandas\\core\\arraylike.py:402: RuntimeWarning: overflow encountered in square\n",
      "  result = getattr(ufunc, method)(*inputs, **kwargs)\n",
      "C:\\Users\\rmons\\School\\Anaconda\\envs\\ml\\lib\\site-packages\\pandas\\core\\arraylike.py:402: RuntimeWarning: overflow encountered in square\n",
      "  result = getattr(ufunc, method)(*inputs, **kwargs)\n"
     ]
    },
    {
     "name": "stdout",
     "output_type": "stream",
     "text": [
      "Value increased to infinity\n"
     ]
    },
    {
     "name": "stderr",
     "output_type": "stream",
     "text": [
      "C:\\Users\\rmons\\School\\Anaconda\\envs\\ml\\lib\\site-packages\\pandas\\core\\arraylike.py:402: RuntimeWarning: overflow encountered in square\n",
      "  result = getattr(ufunc, method)(*inputs, **kwargs)\n"
     ]
    },
    {
     "name": "stdout",
     "output_type": "stream",
     "text": [
      "Value increased to infinity\n",
      "Value increased to infinity\n",
      "Value increased to infinity\n"
     ]
    },
    {
     "name": "stderr",
     "output_type": "stream",
     "text": [
      "C:\\Users\\rmons\\School\\Anaconda\\envs\\ml\\lib\\site-packages\\pandas\\core\\arraylike.py:402: RuntimeWarning: overflow encountered in square\n",
      "  result = getattr(ufunc, method)(*inputs, **kwargs)\n",
      "C:\\Users\\rmons\\School\\Anaconda\\envs\\ml\\lib\\site-packages\\pandas\\core\\arraylike.py:402: RuntimeWarning: overflow encountered in square\n",
      "  result = getattr(ufunc, method)(*inputs, **kwargs)\n",
      "C:\\Users\\rmons\\School\\Anaconda\\envs\\ml\\lib\\site-packages\\pandas\\core\\arraylike.py:402: RuntimeWarning: overflow encountered in square\n",
      "  result = getattr(ufunc, method)(*inputs, **kwargs)\n"
     ]
    },
    {
     "name": "stdout",
     "output_type": "stream",
     "text": [
      "Value increased to infinity\n",
      "Value increased to infinity\n",
      "Value increased to infinity\n"
     ]
    },
    {
     "name": "stderr",
     "output_type": "stream",
     "text": [
      "C:\\Users\\rmons\\School\\Anaconda\\envs\\ml\\lib\\site-packages\\pandas\\core\\arraylike.py:402: RuntimeWarning: overflow encountered in square\n",
      "  result = getattr(ufunc, method)(*inputs, **kwargs)\n",
      "C:\\Users\\rmons\\School\\Anaconda\\envs\\ml\\lib\\site-packages\\pandas\\core\\arraylike.py:402: RuntimeWarning: overflow encountered in square\n",
      "  result = getattr(ufunc, method)(*inputs, **kwargs)\n",
      "C:\\Users\\rmons\\School\\Anaconda\\envs\\ml\\lib\\site-packages\\pandas\\core\\arraylike.py:402: RuntimeWarning: overflow encountered in square\n",
      "  result = getattr(ufunc, method)(*inputs, **kwargs)\n"
     ]
    },
    {
     "name": "stdout",
     "output_type": "stream",
     "text": [
      "Value increased to infinity\n",
      "Value increased to infinity\n"
     ]
    },
    {
     "name": "stderr",
     "output_type": "stream",
     "text": [
      "C:\\Users\\rmons\\School\\Anaconda\\envs\\ml\\lib\\site-packages\\pandas\\core\\arraylike.py:402: RuntimeWarning: overflow encountered in square\n",
      "  result = getattr(ufunc, method)(*inputs, **kwargs)\n",
      "C:\\Users\\rmons\\School\\Anaconda\\envs\\ml\\lib\\site-packages\\pandas\\core\\arraylike.py:402: RuntimeWarning: overflow encountered in square\n",
      "  result = getattr(ufunc, method)(*inputs, **kwargs)\n"
     ]
    },
    {
     "name": "stdout",
     "output_type": "stream",
     "text": [
      "Value increased to infinity\n"
     ]
    },
    {
     "name": "stderr",
     "output_type": "stream",
     "text": [
      "C:\\Users\\rmons\\School\\Anaconda\\envs\\ml\\lib\\site-packages\\pandas\\core\\arraylike.py:402: RuntimeWarning: overflow encountered in square\n",
      "  result = getattr(ufunc, method)(*inputs, **kwargs)\n"
     ]
    },
    {
     "name": "stdout",
     "output_type": "stream",
     "text": [
      "Value increased to infinity\n"
     ]
    },
    {
     "name": "stderr",
     "output_type": "stream",
     "text": [
      "C:\\Users\\rmons\\School\\Anaconda\\envs\\ml\\lib\\site-packages\\pandas\\core\\arraylike.py:402: RuntimeWarning: overflow encountered in square\n",
      "  result = getattr(ufunc, method)(*inputs, **kwargs)\n"
     ]
    },
    {
     "name": "stdout",
     "output_type": "stream",
     "text": [
      "Value increased to infinity\n"
     ]
    },
    {
     "name": "stderr",
     "output_type": "stream",
     "text": [
      "C:\\Users\\rmons\\School\\Anaconda\\envs\\ml\\lib\\site-packages\\pandas\\core\\arraylike.py:402: RuntimeWarning: overflow encountered in square\n",
      "  result = getattr(ufunc, method)(*inputs, **kwargs)\n"
     ]
    },
    {
     "name": "stdout",
     "output_type": "stream",
     "text": [
      "Value increased to infinity\n"
     ]
    },
    {
     "name": "stderr",
     "output_type": "stream",
     "text": [
      "C:\\Users\\rmons\\School\\Anaconda\\envs\\ml\\lib\\site-packages\\pandas\\core\\arraylike.py:402: RuntimeWarning: overflow encountered in square\n",
      "  result = getattr(ufunc, method)(*inputs, **kwargs)\n"
     ]
    },
    {
     "name": "stdout",
     "output_type": "stream",
     "text": [
      "Value increased to infinity\n"
     ]
    },
    {
     "name": "stderr",
     "output_type": "stream",
     "text": [
      "C:\\Users\\rmons\\School\\Anaconda\\envs\\ml\\lib\\site-packages\\pandas\\core\\arraylike.py:402: RuntimeWarning: overflow encountered in square\n",
      "  result = getattr(ufunc, method)(*inputs, **kwargs)\n"
     ]
    },
    {
     "name": "stdout",
     "output_type": "stream",
     "text": [
      "Value increased to infinity\n"
     ]
    },
    {
     "name": "stderr",
     "output_type": "stream",
     "text": [
      "C:\\Users\\rmons\\School\\Anaconda\\envs\\ml\\lib\\site-packages\\pandas\\core\\arraylike.py:402: RuntimeWarning: overflow encountered in square\n",
      "  result = getattr(ufunc, method)(*inputs, **kwargs)\n",
      "C:\\Users\\rmons\\School\\Anaconda\\envs\\ml\\lib\\site-packages\\pandas\\core\\arraylike.py:402: RuntimeWarning: overflow encountered in square\n",
      "  result = getattr(ufunc, method)(*inputs, **kwargs)\n"
     ]
    },
    {
     "name": "stdout",
     "output_type": "stream",
     "text": [
      "Value increased to infinity\n",
      "Value increased to infinity\n"
     ]
    },
    {
     "name": "stderr",
     "output_type": "stream",
     "text": [
      "C:\\Users\\rmons\\School\\Anaconda\\envs\\ml\\lib\\site-packages\\pandas\\core\\arraylike.py:402: RuntimeWarning: overflow encountered in square\n",
      "  result = getattr(ufunc, method)(*inputs, **kwargs)\n",
      "C:\\Users\\rmons\\School\\Anaconda\\envs\\ml\\lib\\site-packages\\pandas\\core\\arraylike.py:402: RuntimeWarning: overflow encountered in square\n",
      "  result = getattr(ufunc, method)(*inputs, **kwargs)\n"
     ]
    },
    {
     "name": "stdout",
     "output_type": "stream",
     "text": [
      "Value increased to infinity\n",
      "Value increased to infinity\n"
     ]
    },
    {
     "name": "stderr",
     "output_type": "stream",
     "text": [
      "C:\\Users\\rmons\\School\\Anaconda\\envs\\ml\\lib\\site-packages\\pandas\\core\\arraylike.py:402: RuntimeWarning: overflow encountered in square\n",
      "  result = getattr(ufunc, method)(*inputs, **kwargs)\n"
     ]
    },
    {
     "name": "stdout",
     "output_type": "stream",
     "text": [
      "Value increased to infinity\n"
     ]
    },
    {
     "name": "stderr",
     "output_type": "stream",
     "text": [
      "C:\\Users\\rmons\\School\\Anaconda\\envs\\ml\\lib\\site-packages\\pandas\\core\\arraylike.py:402: RuntimeWarning: overflow encountered in square\n",
      "  result = getattr(ufunc, method)(*inputs, **kwargs)\n"
     ]
    },
    {
     "name": "stdout",
     "output_type": "stream",
     "text": [
      "Value increased to infinity\n"
     ]
    },
    {
     "name": "stderr",
     "output_type": "stream",
     "text": [
      "C:\\Users\\rmons\\School\\Anaconda\\envs\\ml\\lib\\site-packages\\pandas\\core\\arraylike.py:402: RuntimeWarning: overflow encountered in square\n",
      "  result = getattr(ufunc, method)(*inputs, **kwargs)\n"
     ]
    },
    {
     "name": "stdout",
     "output_type": "stream",
     "text": [
      "Value increased to infinity\n"
     ]
    },
    {
     "name": "stderr",
     "output_type": "stream",
     "text": [
      "C:\\Users\\rmons\\School\\Anaconda\\envs\\ml\\lib\\site-packages\\pandas\\core\\arraylike.py:402: RuntimeWarning: overflow encountered in square\n",
      "  result = getattr(ufunc, method)(*inputs, **kwargs)\n"
     ]
    },
    {
     "name": "stdout",
     "output_type": "stream",
     "text": [
      "Value increased to infinity\n"
     ]
    },
    {
     "name": "stderr",
     "output_type": "stream",
     "text": [
      "C:\\Users\\rmons\\School\\Anaconda\\envs\\ml\\lib\\site-packages\\pandas\\core\\arraylike.py:402: RuntimeWarning: overflow encountered in square\n",
      "  result = getattr(ufunc, method)(*inputs, **kwargs)\n",
      "C:\\Users\\rmons\\School\\Anaconda\\envs\\ml\\lib\\site-packages\\pandas\\core\\arraylike.py:402: RuntimeWarning: overflow encountered in square\n",
      "  result = getattr(ufunc, method)(*inputs, **kwargs)\n",
      "C:\\Users\\rmons\\School\\Anaconda\\envs\\ml\\lib\\site-packages\\pandas\\core\\arraylike.py:402: RuntimeWarning: overflow encountered in square\n",
      "  result = getattr(ufunc, method)(*inputs, **kwargs)\n"
     ]
    },
    {
     "name": "stdout",
     "output_type": "stream",
     "text": [
      "Value increased to infinity\n",
      "Value increased to infinity\n",
      "Value increased to infinity\n"
     ]
    },
    {
     "name": "stderr",
     "output_type": "stream",
     "text": [
      "C:\\Users\\rmons\\School\\Anaconda\\envs\\ml\\lib\\site-packages\\pandas\\core\\arraylike.py:402: RuntimeWarning: overflow encountered in square\n",
      "  result = getattr(ufunc, method)(*inputs, **kwargs)\n",
      "C:\\Users\\rmons\\School\\Anaconda\\envs\\ml\\lib\\site-packages\\pandas\\core\\arraylike.py:402: RuntimeWarning: overflow encountered in square\n",
      "  result = getattr(ufunc, method)(*inputs, **kwargs)\n",
      "C:\\Users\\rmons\\School\\Anaconda\\envs\\ml\\lib\\site-packages\\pandas\\core\\arraylike.py:402: RuntimeWarning: overflow encountered in square\n",
      "  result = getattr(ufunc, method)(*inputs, **kwargs)\n"
     ]
    },
    {
     "name": "stdout",
     "output_type": "stream",
     "text": [
      "Value increased to infinity\n",
      "Value increased to infinity\n",
      "Value increased to infinity\n"
     ]
    },
    {
     "name": "stderr",
     "output_type": "stream",
     "text": [
      "C:\\Users\\rmons\\School\\Anaconda\\envs\\ml\\lib\\site-packages\\pandas\\core\\arraylike.py:402: RuntimeWarning: overflow encountered in square\n",
      "  result = getattr(ufunc, method)(*inputs, **kwargs)\n"
     ]
    },
    {
     "name": "stdout",
     "output_type": "stream",
     "text": [
      "Value increased to infinity\n"
     ]
    },
    {
     "name": "stderr",
     "output_type": "stream",
     "text": [
      "C:\\Users\\rmons\\School\\Anaconda\\envs\\ml\\lib\\site-packages\\pandas\\core\\arraylike.py:402: RuntimeWarning: overflow encountered in square\n",
      "  result = getattr(ufunc, method)(*inputs, **kwargs)\n",
      "C:\\Users\\rmons\\School\\Anaconda\\envs\\ml\\lib\\site-packages\\pandas\\core\\arraylike.py:402: RuntimeWarning: overflow encountered in square\n",
      "  result = getattr(ufunc, method)(*inputs, **kwargs)\n"
     ]
    },
    {
     "name": "stdout",
     "output_type": "stream",
     "text": [
      "Value increased to infinity\n",
      "Value increased to infinity\n"
     ]
    },
    {
     "name": "stderr",
     "output_type": "stream",
     "text": [
      "C:\\Users\\rmons\\School\\Anaconda\\envs\\ml\\lib\\site-packages\\pandas\\core\\arraylike.py:402: RuntimeWarning: overflow encountered in square\n",
      "  result = getattr(ufunc, method)(*inputs, **kwargs)\n"
     ]
    },
    {
     "name": "stdout",
     "output_type": "stream",
     "text": [
      "Value increased to infinity\n",
      "Value increased to infinity\n",
      "Value increased to infinity\n"
     ]
    },
    {
     "name": "stderr",
     "output_type": "stream",
     "text": [
      "C:\\Users\\rmons\\School\\Anaconda\\envs\\ml\\lib\\site-packages\\pandas\\core\\arraylike.py:402: RuntimeWarning: overflow encountered in square\n",
      "  result = getattr(ufunc, method)(*inputs, **kwargs)\n",
      "C:\\Users\\rmons\\School\\Anaconda\\envs\\ml\\lib\\site-packages\\pandas\\core\\arraylike.py:402: RuntimeWarning: overflow encountered in square\n",
      "  result = getattr(ufunc, method)(*inputs, **kwargs)\n",
      "C:\\Users\\rmons\\School\\Anaconda\\envs\\ml\\lib\\site-packages\\pandas\\core\\arraylike.py:402: RuntimeWarning: overflow encountered in square\n",
      "  result = getattr(ufunc, method)(*inputs, **kwargs)\n"
     ]
    },
    {
     "name": "stdout",
     "output_type": "stream",
     "text": [
      "Value increased to infinity\n",
      "Value increased to infinity\n"
     ]
    },
    {
     "name": "stderr",
     "output_type": "stream",
     "text": [
      "C:\\Users\\rmons\\School\\Anaconda\\envs\\ml\\lib\\site-packages\\pandas\\core\\arraylike.py:402: RuntimeWarning: overflow encountered in square\n",
      "  result = getattr(ufunc, method)(*inputs, **kwargs)\n",
      "C:\\Users\\rmons\\School\\Anaconda\\envs\\ml\\lib\\site-packages\\pandas\\core\\arraylike.py:402: RuntimeWarning: overflow encountered in square\n",
      "  result = getattr(ufunc, method)(*inputs, **kwargs)\n"
     ]
    },
    {
     "name": "stdout",
     "output_type": "stream",
     "text": [
      "Value increased to infinity\n"
     ]
    },
    {
     "name": "stderr",
     "output_type": "stream",
     "text": [
      "C:\\Users\\rmons\\School\\Anaconda\\envs\\ml\\lib\\site-packages\\pandas\\core\\arraylike.py:402: RuntimeWarning: overflow encountered in square\n",
      "  result = getattr(ufunc, method)(*inputs, **kwargs)\n"
     ]
    },
    {
     "name": "stdout",
     "output_type": "stream",
     "text": [
      "Value increased to infinity\n",
      "Value increased to infinity\n"
     ]
    },
    {
     "name": "stderr",
     "output_type": "stream",
     "text": [
      "C:\\Users\\rmons\\School\\Anaconda\\envs\\ml\\lib\\site-packages\\pandas\\core\\arraylike.py:402: RuntimeWarning: overflow encountered in square\n",
      "  result = getattr(ufunc, method)(*inputs, **kwargs)\n",
      "C:\\Users\\rmons\\School\\Anaconda\\envs\\ml\\lib\\site-packages\\pandas\\core\\arraylike.py:402: RuntimeWarning: overflow encountered in square\n",
      "  result = getattr(ufunc, method)(*inputs, **kwargs)\n"
     ]
    },
    {
     "name": "stdout",
     "output_type": "stream",
     "text": [
      "Value increased to infinity\n"
     ]
    },
    {
     "name": "stderr",
     "output_type": "stream",
     "text": [
      "C:\\Users\\rmons\\School\\Anaconda\\envs\\ml\\lib\\site-packages\\pandas\\core\\arraylike.py:402: RuntimeWarning: overflow encountered in square\n",
      "  result = getattr(ufunc, method)(*inputs, **kwargs)\n",
      "C:\\Users\\rmons\\School\\Anaconda\\envs\\ml\\lib\\site-packages\\pandas\\core\\arraylike.py:402: RuntimeWarning: overflow encountered in square\n",
      "  result = getattr(ufunc, method)(*inputs, **kwargs)\n",
      "C:\\Users\\rmons\\School\\Anaconda\\envs\\ml\\lib\\site-packages\\pandas\\core\\arraylike.py:402: RuntimeWarning: overflow encountered in square\n",
      "  result = getattr(ufunc, method)(*inputs, **kwargs)\n"
     ]
    },
    {
     "name": "stdout",
     "output_type": "stream",
     "text": [
      "Value increased to infinity\n",
      "Value increased to infinity\n",
      "Value increased to infinity\n"
     ]
    },
    {
     "name": "stderr",
     "output_type": "stream",
     "text": [
      "C:\\Users\\rmons\\School\\Anaconda\\envs\\ml\\lib\\site-packages\\pandas\\core\\arraylike.py:402: RuntimeWarning: overflow encountered in square\n",
      "  result = getattr(ufunc, method)(*inputs, **kwargs)\n",
      "C:\\Users\\rmons\\School\\Anaconda\\envs\\ml\\lib\\site-packages\\pandas\\core\\arraylike.py:402: RuntimeWarning: overflow encountered in square\n",
      "  result = getattr(ufunc, method)(*inputs, **kwargs)\n",
      "C:\\Users\\rmons\\School\\Anaconda\\envs\\ml\\lib\\site-packages\\pandas\\core\\arraylike.py:402: RuntimeWarning: overflow encountered in square\n",
      "  result = getattr(ufunc, method)(*inputs, **kwargs)\n"
     ]
    },
    {
     "name": "stdout",
     "output_type": "stream",
     "text": [
      "Value increased to infinity\n",
      "Value increased to infinity\n",
      "Value increased to infinity\n"
     ]
    },
    {
     "name": "stderr",
     "output_type": "stream",
     "text": [
      "C:\\Users\\rmons\\School\\Anaconda\\envs\\ml\\lib\\site-packages\\pandas\\core\\arraylike.py:402: RuntimeWarning: overflow encountered in square\n",
      "  result = getattr(ufunc, method)(*inputs, **kwargs)\n"
     ]
    },
    {
     "name": "stdout",
     "output_type": "stream",
     "text": [
      "Value increased to infinity\n"
     ]
    },
    {
     "name": "stderr",
     "output_type": "stream",
     "text": [
      "C:\\Users\\rmons\\School\\Anaconda\\envs\\ml\\lib\\site-packages\\pandas\\core\\arraylike.py:402: RuntimeWarning: overflow encountered in square\n",
      "  result = getattr(ufunc, method)(*inputs, **kwargs)\n",
      "C:\\Users\\rmons\\School\\Anaconda\\envs\\ml\\lib\\site-packages\\pandas\\core\\arraylike.py:402: RuntimeWarning: overflow encountered in square\n",
      "  result = getattr(ufunc, method)(*inputs, **kwargs)\n"
     ]
    },
    {
     "name": "stdout",
     "output_type": "stream",
     "text": [
      "Value increased to infinity\n",
      "Value increased to infinity\n"
     ]
    },
    {
     "name": "stderr",
     "output_type": "stream",
     "text": [
      "C:\\Users\\rmons\\School\\Anaconda\\envs\\ml\\lib\\site-packages\\pandas\\core\\arraylike.py:402: RuntimeWarning: overflow encountered in square\n",
      "  result = getattr(ufunc, method)(*inputs, **kwargs)\n"
     ]
    },
    {
     "name": "stdout",
     "output_type": "stream",
     "text": [
      "Value increased to infinity\n",
      "Value increased to infinity\n"
     ]
    },
    {
     "name": "stderr",
     "output_type": "stream",
     "text": [
      "C:\\Users\\rmons\\School\\Anaconda\\envs\\ml\\lib\\site-packages\\pandas\\core\\arraylike.py:402: RuntimeWarning: overflow encountered in square\n",
      "  result = getattr(ufunc, method)(*inputs, **kwargs)\n",
      "C:\\Users\\rmons\\School\\Anaconda\\envs\\ml\\lib\\site-packages\\pandas\\core\\arraylike.py:402: RuntimeWarning: overflow encountered in square\n",
      "  result = getattr(ufunc, method)(*inputs, **kwargs)\n"
     ]
    },
    {
     "name": "stdout",
     "output_type": "stream",
     "text": [
      "Value increased to infinity\n",
      "Value increased to infinity\n"
     ]
    },
    {
     "name": "stderr",
     "output_type": "stream",
     "text": [
      "C:\\Users\\rmons\\School\\Anaconda\\envs\\ml\\lib\\site-packages\\pandas\\core\\arraylike.py:402: RuntimeWarning: overflow encountered in square\n",
      "  result = getattr(ufunc, method)(*inputs, **kwargs)\n",
      "C:\\Users\\rmons\\School\\Anaconda\\envs\\ml\\lib\\site-packages\\pandas\\core\\arraylike.py:402: RuntimeWarning: overflow encountered in square\n",
      "  result = getattr(ufunc, method)(*inputs, **kwargs)\n"
     ]
    },
    {
     "name": "stdout",
     "output_type": "stream",
     "text": [
      "Value increased to infinity\n",
      "Value increased to infinity\n"
     ]
    },
    {
     "name": "stderr",
     "output_type": "stream",
     "text": [
      "C:\\Users\\rmons\\School\\Anaconda\\envs\\ml\\lib\\site-packages\\pandas\\core\\arraylike.py:402: RuntimeWarning: overflow encountered in square\n",
      "  result = getattr(ufunc, method)(*inputs, **kwargs)\n",
      "C:\\Users\\rmons\\School\\Anaconda\\envs\\ml\\lib\\site-packages\\pandas\\core\\arraylike.py:402: RuntimeWarning: overflow encountered in square\n",
      "  result = getattr(ufunc, method)(*inputs, **kwargs)\n"
     ]
    },
    {
     "name": "stdout",
     "output_type": "stream",
     "text": [
      "Value increased to infinity\n",
      "Value increased to infinity\n",
      "Value increased to infinity\n"
     ]
    },
    {
     "name": "stderr",
     "output_type": "stream",
     "text": [
      "C:\\Users\\rmons\\School\\Anaconda\\envs\\ml\\lib\\site-packages\\pandas\\core\\arraylike.py:402: RuntimeWarning: overflow encountered in square\n",
      "  result = getattr(ufunc, method)(*inputs, **kwargs)\n",
      "C:\\Users\\rmons\\School\\Anaconda\\envs\\ml\\lib\\site-packages\\pandas\\core\\arraylike.py:402: RuntimeWarning: overflow encountered in square\n",
      "  result = getattr(ufunc, method)(*inputs, **kwargs)\n",
      "C:\\Users\\rmons\\School\\Anaconda\\envs\\ml\\lib\\site-packages\\pandas\\core\\arraylike.py:402: RuntimeWarning: overflow encountered in square\n",
      "  result = getattr(ufunc, method)(*inputs, **kwargs)\n"
     ]
    },
    {
     "name": "stdout",
     "output_type": "stream",
     "text": [
      "Value increased to infinity\n",
      "Value increased to infinity\n",
      "Value increased to infinity\n"
     ]
    },
    {
     "name": "stderr",
     "output_type": "stream",
     "text": [
      "C:\\Users\\rmons\\School\\Anaconda\\envs\\ml\\lib\\site-packages\\pandas\\core\\arraylike.py:402: RuntimeWarning: overflow encountered in square\n",
      "  result = getattr(ufunc, method)(*inputs, **kwargs)\n",
      "C:\\Users\\rmons\\School\\Anaconda\\envs\\ml\\lib\\site-packages\\pandas\\core\\arraylike.py:402: RuntimeWarning: overflow encountered in square\n",
      "  result = getattr(ufunc, method)(*inputs, **kwargs)\n",
      "C:\\Users\\rmons\\School\\Anaconda\\envs\\ml\\lib\\site-packages\\pandas\\core\\arraylike.py:402: RuntimeWarning: overflow encountered in square\n",
      "  result = getattr(ufunc, method)(*inputs, **kwargs)\n"
     ]
    },
    {
     "name": "stdout",
     "output_type": "stream",
     "text": [
      "Value increased to infinity\n",
      "Value increased to infinity\n",
      "Value increased to infinity\n"
     ]
    },
    {
     "name": "stderr",
     "output_type": "stream",
     "text": [
      "C:\\Users\\rmons\\School\\Anaconda\\envs\\ml\\lib\\site-packages\\pandas\\core\\arraylike.py:402: RuntimeWarning: overflow encountered in square\n",
      "  result = getattr(ufunc, method)(*inputs, **kwargs)\n",
      "C:\\Users\\rmons\\School\\Anaconda\\envs\\ml\\lib\\site-packages\\pandas\\core\\arraylike.py:402: RuntimeWarning: overflow encountered in square\n",
      "  result = getattr(ufunc, method)(*inputs, **kwargs)\n",
      "C:\\Users\\rmons\\School\\Anaconda\\envs\\ml\\lib\\site-packages\\pandas\\core\\arraylike.py:402: RuntimeWarning: overflow encountered in square\n",
      "  result = getattr(ufunc, method)(*inputs, **kwargs)\n",
      "C:\\Users\\rmons\\School\\Anaconda\\envs\\ml\\lib\\site-packages\\pandas\\core\\arraylike.py:402: RuntimeWarning: overflow encountered in square\n",
      "  result = getattr(ufunc, method)(*inputs, **kwargs)\n"
     ]
    },
    {
     "name": "stdout",
     "output_type": "stream",
     "text": [
      "Value increased to infinity\n",
      "Value increased to infinity\n"
     ]
    },
    {
     "name": "stderr",
     "output_type": "stream",
     "text": [
      "C:\\Users\\rmons\\School\\Anaconda\\envs\\ml\\lib\\site-packages\\pandas\\core\\arraylike.py:402: RuntimeWarning: overflow encountered in square\n",
      "  result = getattr(ufunc, method)(*inputs, **kwargs)\n",
      "C:\\Users\\rmons\\School\\Anaconda\\envs\\ml\\lib\\site-packages\\pandas\\core\\arraylike.py:402: RuntimeWarning: overflow encountered in square\n",
      "  result = getattr(ufunc, method)(*inputs, **kwargs)\n"
     ]
    },
    {
     "name": "stdout",
     "output_type": "stream",
     "text": [
      "Value increased to infinity\n",
      "Value increased to infinity\n"
     ]
    },
    {
     "name": "stderr",
     "output_type": "stream",
     "text": [
      "C:\\Users\\rmons\\School\\Anaconda\\envs\\ml\\lib\\site-packages\\pandas\\core\\arraylike.py:402: RuntimeWarning: overflow encountered in square\n",
      "  result = getattr(ufunc, method)(*inputs, **kwargs)\n"
     ]
    },
    {
     "name": "stdout",
     "output_type": "stream",
     "text": [
      "Value increased to infinity\n"
     ]
    },
    {
     "name": "stderr",
     "output_type": "stream",
     "text": [
      "C:\\Users\\rmons\\School\\Anaconda\\envs\\ml\\lib\\site-packages\\pandas\\core\\arraylike.py:402: RuntimeWarning: overflow encountered in square\n",
      "  result = getattr(ufunc, method)(*inputs, **kwargs)\n"
     ]
    },
    {
     "name": "stdout",
     "output_type": "stream",
     "text": [
      "Value increased to infinity\n"
     ]
    },
    {
     "name": "stderr",
     "output_type": "stream",
     "text": [
      "C:\\Users\\rmons\\School\\Anaconda\\envs\\ml\\lib\\site-packages\\pandas\\core\\arraylike.py:402: RuntimeWarning: overflow encountered in square\n",
      "  result = getattr(ufunc, method)(*inputs, **kwargs)\n"
     ]
    },
    {
     "name": "stdout",
     "output_type": "stream",
     "text": [
      "Value increased to infinity\n",
      "Value increased to infinity\n",
      "Value increased to infinity\n"
     ]
    },
    {
     "name": "stderr",
     "output_type": "stream",
     "text": [
      "C:\\Users\\rmons\\School\\Anaconda\\envs\\ml\\lib\\site-packages\\pandas\\core\\arraylike.py:402: RuntimeWarning: overflow encountered in square\n",
      "  result = getattr(ufunc, method)(*inputs, **kwargs)\n",
      "C:\\Users\\rmons\\School\\Anaconda\\envs\\ml\\lib\\site-packages\\pandas\\core\\arraylike.py:402: RuntimeWarning: overflow encountered in square\n",
      "  result = getattr(ufunc, method)(*inputs, **kwargs)\n",
      "C:\\Users\\rmons\\School\\Anaconda\\envs\\ml\\lib\\site-packages\\pandas\\core\\arraylike.py:402: RuntimeWarning: overflow encountered in square\n",
      "  result = getattr(ufunc, method)(*inputs, **kwargs)\n"
     ]
    },
    {
     "name": "stdout",
     "output_type": "stream",
     "text": [
      "Value increased to infinity\n",
      "Value increased to infinity\n",
      "Value increased to infinity\n"
     ]
    },
    {
     "name": "stderr",
     "output_type": "stream",
     "text": [
      "C:\\Users\\rmons\\School\\Anaconda\\envs\\ml\\lib\\site-packages\\pandas\\core\\arraylike.py:402: RuntimeWarning: overflow encountered in square\n",
      "  result = getattr(ufunc, method)(*inputs, **kwargs)\n",
      "C:\\Users\\rmons\\School\\Anaconda\\envs\\ml\\lib\\site-packages\\pandas\\core\\arraylike.py:402: RuntimeWarning: overflow encountered in square\n",
      "  result = getattr(ufunc, method)(*inputs, **kwargs)\n",
      "C:\\Users\\rmons\\School\\Anaconda\\envs\\ml\\lib\\site-packages\\pandas\\core\\arraylike.py:402: RuntimeWarning: overflow encountered in square\n",
      "  result = getattr(ufunc, method)(*inputs, **kwargs)\n"
     ]
    },
    {
     "name": "stdout",
     "output_type": "stream",
     "text": [
      "Value increased to infinity\n",
      "Value increased to infinity\n"
     ]
    },
    {
     "name": "stderr",
     "output_type": "stream",
     "text": [
      "C:\\Users\\rmons\\School\\Anaconda\\envs\\ml\\lib\\site-packages\\pandas\\core\\arraylike.py:402: RuntimeWarning: overflow encountered in square\n",
      "  result = getattr(ufunc, method)(*inputs, **kwargs)\n",
      "C:\\Users\\rmons\\School\\Anaconda\\envs\\ml\\lib\\site-packages\\pandas\\core\\arraylike.py:402: RuntimeWarning: overflow encountered in square\n",
      "  result = getattr(ufunc, method)(*inputs, **kwargs)\n"
     ]
    },
    {
     "name": "stdout",
     "output_type": "stream",
     "text": [
      "Value increased to infinity\n"
     ]
    },
    {
     "name": "stderr",
     "output_type": "stream",
     "text": [
      "C:\\Users\\rmons\\School\\Anaconda\\envs\\ml\\lib\\site-packages\\pandas\\core\\arraylike.py:402: RuntimeWarning: overflow encountered in square\n",
      "  result = getattr(ufunc, method)(*inputs, **kwargs)\n"
     ]
    },
    {
     "name": "stdout",
     "output_type": "stream",
     "text": [
      "Value increased to infinity\n",
      "Value increased to infinity\n"
     ]
    },
    {
     "name": "stderr",
     "output_type": "stream",
     "text": [
      "C:\\Users\\rmons\\School\\Anaconda\\envs\\ml\\lib\\site-packages\\pandas\\core\\arraylike.py:402: RuntimeWarning: overflow encountered in square\n",
      "  result = getattr(ufunc, method)(*inputs, **kwargs)\n",
      "C:\\Users\\rmons\\School\\Anaconda\\envs\\ml\\lib\\site-packages\\pandas\\core\\arraylike.py:402: RuntimeWarning: overflow encountered in square\n",
      "  result = getattr(ufunc, method)(*inputs, **kwargs)\n"
     ]
    },
    {
     "name": "stdout",
     "output_type": "stream",
     "text": [
      "Value increased to infinity\n"
     ]
    },
    {
     "name": "stderr",
     "output_type": "stream",
     "text": [
      "C:\\Users\\rmons\\School\\Anaconda\\envs\\ml\\lib\\site-packages\\pandas\\core\\arraylike.py:402: RuntimeWarning: overflow encountered in square\n",
      "  result = getattr(ufunc, method)(*inputs, **kwargs)\n"
     ]
    },
    {
     "name": "stdout",
     "output_type": "stream",
     "text": [
      "Value increased to infinity\n",
      "Value increased to infinity\n",
      "Value increased to infinity\n"
     ]
    },
    {
     "name": "stderr",
     "output_type": "stream",
     "text": [
      "C:\\Users\\rmons\\School\\Anaconda\\envs\\ml\\lib\\site-packages\\pandas\\core\\arraylike.py:402: RuntimeWarning: overflow encountered in square\n",
      "  result = getattr(ufunc, method)(*inputs, **kwargs)\n",
      "C:\\Users\\rmons\\School\\Anaconda\\envs\\ml\\lib\\site-packages\\pandas\\core\\arraylike.py:402: RuntimeWarning: overflow encountered in square\n",
      "  result = getattr(ufunc, method)(*inputs, **kwargs)\n",
      "C:\\Users\\rmons\\School\\Anaconda\\envs\\ml\\lib\\site-packages\\pandas\\core\\arraylike.py:402: RuntimeWarning: overflow encountered in square\n",
      "  result = getattr(ufunc, method)(*inputs, **kwargs)\n"
     ]
    },
    {
     "name": "stdout",
     "output_type": "stream",
     "text": [
      "Value increased to infinity\n",
      "Value increased to infinity\n",
      "Value increased to infinity\n"
     ]
    },
    {
     "name": "stderr",
     "output_type": "stream",
     "text": [
      "C:\\Users\\rmons\\School\\Anaconda\\envs\\ml\\lib\\site-packages\\pandas\\core\\arraylike.py:402: RuntimeWarning: overflow encountered in square\n",
      "  result = getattr(ufunc, method)(*inputs, **kwargs)\n",
      "C:\\Users\\rmons\\School\\Anaconda\\envs\\ml\\lib\\site-packages\\pandas\\core\\arraylike.py:402: RuntimeWarning: overflow encountered in square\n",
      "  result = getattr(ufunc, method)(*inputs, **kwargs)\n",
      "C:\\Users\\rmons\\School\\Anaconda\\envs\\ml\\lib\\site-packages\\pandas\\core\\arraylike.py:402: RuntimeWarning: overflow encountered in square\n",
      "  result = getattr(ufunc, method)(*inputs, **kwargs)\n"
     ]
    },
    {
     "name": "stdout",
     "output_type": "stream",
     "text": [
      "Value increased to infinity\n"
     ]
    },
    {
     "name": "stderr",
     "output_type": "stream",
     "text": [
      "C:\\Users\\rmons\\School\\Anaconda\\envs\\ml\\lib\\site-packages\\pandas\\core\\arraylike.py:402: RuntimeWarning: overflow encountered in square\n",
      "  result = getattr(ufunc, method)(*inputs, **kwargs)\n"
     ]
    },
    {
     "name": "stdout",
     "output_type": "stream",
     "text": [
      "Value increased to infinity\n"
     ]
    },
    {
     "name": "stderr",
     "output_type": "stream",
     "text": [
      "C:\\Users\\rmons\\School\\Anaconda\\envs\\ml\\lib\\site-packages\\pandas\\core\\arraylike.py:402: RuntimeWarning: overflow encountered in square\n",
      "  result = getattr(ufunc, method)(*inputs, **kwargs)\n"
     ]
    },
    {
     "name": "stdout",
     "output_type": "stream",
     "text": [
      "Value increased to infinity\n"
     ]
    },
    {
     "name": "stderr",
     "output_type": "stream",
     "text": [
      "C:\\Users\\rmons\\School\\Anaconda\\envs\\ml\\lib\\site-packages\\pandas\\core\\arraylike.py:402: RuntimeWarning: overflow encountered in square\n",
      "  result = getattr(ufunc, method)(*inputs, **kwargs)\n"
     ]
    },
    {
     "name": "stdout",
     "output_type": "stream",
     "text": [
      "Value increased to infinity\n"
     ]
    },
    {
     "name": "stderr",
     "output_type": "stream",
     "text": [
      "C:\\Users\\rmons\\School\\Anaconda\\envs\\ml\\lib\\site-packages\\pandas\\core\\arraylike.py:402: RuntimeWarning: overflow encountered in square\n",
      "  result = getattr(ufunc, method)(*inputs, **kwargs)\n"
     ]
    },
    {
     "name": "stdout",
     "output_type": "stream",
     "text": [
      "Value increased to infinity\n"
     ]
    },
    {
     "name": "stderr",
     "output_type": "stream",
     "text": [
      "C:\\Users\\rmons\\School\\Anaconda\\envs\\ml\\lib\\site-packages\\pandas\\core\\arraylike.py:402: RuntimeWarning: overflow encountered in square\n",
      "  result = getattr(ufunc, method)(*inputs, **kwargs)\n",
      "C:\\Users\\rmons\\School\\Anaconda\\envs\\ml\\lib\\site-packages\\pandas\\core\\arraylike.py:402: RuntimeWarning: overflow encountered in square\n",
      "  result = getattr(ufunc, method)(*inputs, **kwargs)\n",
      "C:\\Users\\rmons\\School\\Anaconda\\envs\\ml\\lib\\site-packages\\pandas\\core\\arraylike.py:402: RuntimeWarning: overflow encountered in square\n",
      "  result = getattr(ufunc, method)(*inputs, **kwargs)\n"
     ]
    },
    {
     "name": "stdout",
     "output_type": "stream",
     "text": [
      "Value increased to infinity\n",
      "Value increased to infinity\n",
      "Value increased to infinity\n",
      "Value increased to infinity\n",
      "Value increased to infinity\n"
     ]
    },
    {
     "name": "stderr",
     "output_type": "stream",
     "text": [
      "C:\\Users\\rmons\\School\\Anaconda\\envs\\ml\\lib\\site-packages\\pandas\\core\\arraylike.py:402: RuntimeWarning: overflow encountered in square\n",
      "  result = getattr(ufunc, method)(*inputs, **kwargs)\n",
      "C:\\Users\\rmons\\School\\Anaconda\\envs\\ml\\lib\\site-packages\\pandas\\core\\arraylike.py:402: RuntimeWarning: overflow encountered in square\n",
      "  result = getattr(ufunc, method)(*inputs, **kwargs)\n",
      "C:\\Users\\rmons\\School\\Anaconda\\envs\\ml\\lib\\site-packages\\pandas\\core\\arraylike.py:402: RuntimeWarning: overflow encountered in square\n",
      "  result = getattr(ufunc, method)(*inputs, **kwargs)\n"
     ]
    },
    {
     "name": "stdout",
     "output_type": "stream",
     "text": [
      "Value increased to infinity\n",
      "Value increased to infinity\n",
      "Value increased to infinity\n"
     ]
    },
    {
     "name": "stderr",
     "output_type": "stream",
     "text": [
      "C:\\Users\\rmons\\School\\Anaconda\\envs\\ml\\lib\\site-packages\\pandas\\core\\arraylike.py:402: RuntimeWarning: overflow encountered in square\n",
      "  result = getattr(ufunc, method)(*inputs, **kwargs)\n",
      "C:\\Users\\rmons\\School\\Anaconda\\envs\\ml\\lib\\site-packages\\pandas\\core\\arraylike.py:402: RuntimeWarning: overflow encountered in square\n",
      "  result = getattr(ufunc, method)(*inputs, **kwargs)\n",
      "C:\\Users\\rmons\\School\\Anaconda\\envs\\ml\\lib\\site-packages\\pandas\\core\\arraylike.py:402: RuntimeWarning: overflow encountered in square\n",
      "  result = getattr(ufunc, method)(*inputs, **kwargs)\n"
     ]
    },
    {
     "name": "stdout",
     "output_type": "stream",
     "text": [
      "Value increased to infinity\n",
      "Value increased to infinity\n",
      "Value increased to infinity\n"
     ]
    },
    {
     "name": "stderr",
     "output_type": "stream",
     "text": [
      "C:\\Users\\rmons\\School\\Anaconda\\envs\\ml\\lib\\site-packages\\pandas\\core\\arraylike.py:402: RuntimeWarning: overflow encountered in square\n",
      "  result = getattr(ufunc, method)(*inputs, **kwargs)\n",
      "C:\\Users\\rmons\\School\\Anaconda\\envs\\ml\\lib\\site-packages\\pandas\\core\\arraylike.py:402: RuntimeWarning: overflow encountered in square\n",
      "  result = getattr(ufunc, method)(*inputs, **kwargs)\n",
      "C:\\Users\\rmons\\School\\Anaconda\\envs\\ml\\lib\\site-packages\\pandas\\core\\arraylike.py:402: RuntimeWarning: overflow encountered in square\n",
      "  result = getattr(ufunc, method)(*inputs, **kwargs)\n"
     ]
    },
    {
     "name": "stdout",
     "output_type": "stream",
     "text": [
      "Value increased to infinity\n",
      "Value increased to infinity\n",
      "Value increased to infinity\n"
     ]
    },
    {
     "name": "stderr",
     "output_type": "stream",
     "text": [
      "C:\\Users\\rmons\\School\\Anaconda\\envs\\ml\\lib\\site-packages\\pandas\\core\\arraylike.py:402: RuntimeWarning: overflow encountered in square\n",
      "  result = getattr(ufunc, method)(*inputs, **kwargs)\n",
      "C:\\Users\\rmons\\School\\Anaconda\\envs\\ml\\lib\\site-packages\\pandas\\core\\arraylike.py:402: RuntimeWarning: overflow encountered in square\n",
      "  result = getattr(ufunc, method)(*inputs, **kwargs)\n",
      "C:\\Users\\rmons\\School\\Anaconda\\envs\\ml\\lib\\site-packages\\pandas\\core\\arraylike.py:402: RuntimeWarning: overflow encountered in square\n",
      "  result = getattr(ufunc, method)(*inputs, **kwargs)\n"
     ]
    },
    {
     "name": "stdout",
     "output_type": "stream",
     "text": [
      "Value increased to infinity\n",
      "Value increased to infinity\n"
     ]
    },
    {
     "name": "stderr",
     "output_type": "stream",
     "text": [
      "C:\\Users\\rmons\\School\\Anaconda\\envs\\ml\\lib\\site-packages\\pandas\\core\\arraylike.py:402: RuntimeWarning: overflow encountered in square\n",
      "  result = getattr(ufunc, method)(*inputs, **kwargs)\n",
      "C:\\Users\\rmons\\School\\Anaconda\\envs\\ml\\lib\\site-packages\\pandas\\core\\arraylike.py:402: RuntimeWarning: overflow encountered in square\n",
      "  result = getattr(ufunc, method)(*inputs, **kwargs)\n"
     ]
    },
    {
     "name": "stdout",
     "output_type": "stream",
     "text": [
      "Value increased to infinity\n"
     ]
    },
    {
     "name": "stderr",
     "output_type": "stream",
     "text": [
      "C:\\Users\\rmons\\School\\Anaconda\\envs\\ml\\lib\\site-packages\\pandas\\core\\arraylike.py:402: RuntimeWarning: overflow encountered in square\n",
      "  result = getattr(ufunc, method)(*inputs, **kwargs)\n"
     ]
    },
    {
     "name": "stdout",
     "output_type": "stream",
     "text": [
      "Value increased to infinity\n"
     ]
    }
   ],
   "source": [
    "combos = test_combos(dfs[:-1], dfs[-1], combination_size=3, alpha_vals=[0.001, 0.0001, 0.00001])"
   ]
  },
  {
   "cell_type": "code",
   "execution_count": 105,
   "id": "914ccd88",
   "metadata": {},
   "outputs": [
    {
     "data": {
      "text/plain": [
       "[(3054.4387665004588,\n",
       "  array([45.3848944]),\n",
       "  0.001,\n",
       "  Index(['total_yield'], dtype='object')),\n",
       " (6575.348571806306,\n",
       "  array([6.83080472]),\n",
       "  0.0001,\n",
       "  Index(['total_yield'], dtype='object')),\n",
       " (7406.519053203893,\n",
       "  array([0.71419615]),\n",
       "  1e-05,\n",
       "  Index(['total_yield'], dtype='object')),\n",
       " (3278.119111582906,\n",
       "  array([27.57768629,  1.52490335]),\n",
       "  0.001,\n",
       "  Index(['total_yield', 'agricultural_value_added_percent_of_gdp'], dtype='object')),\n",
       " (4591.935393496022,\n",
       "  array([3.43819034, 2.39669109]),\n",
       "  0.0001,\n",
       "  Index(['total_yield', 'agricultural_value_added_percent_of_gdp'], dtype='object')),\n",
       " (4793.404671043973,\n",
       "  array([0.43118005, 2.46670393]),\n",
       "  1e-05,\n",
       "  Index(['total_yield', 'agricultural_value_added_percent_of_gdp'], dtype='object')),\n",
       " (5975.200366754301,\n",
       "  array([6.34644768, 0.28569195]),\n",
       "  0.0001,\n",
       "  Index(['total_yield', 'dam_capacity'], dtype='object')),\n",
       " (6693.109138373888,\n",
       "  array([0.66150025, 0.30166047]),\n",
       "  1e-05,\n",
       "  Index(['total_yield', 'dam_capacity'], dtype='object')),\n",
       " (2189.0381599244947,\n",
       "  array([12.48208165, 26.51472924]),\n",
       "  0.001,\n",
       "  Index(['total_yield', 'flood_occurence'], dtype='object')),\n",
       " (3466.1865769711244,\n",
       "  array([ 5.78625642, 16.33985993]),\n",
       "  0.0001,\n",
       "  Index(['total_yield', 'flood_occurence'], dtype='object')),\n",
       " (8607.650978505919,\n",
       "  array([0.8247244 , 2.37910114]),\n",
       "  1e-05,\n",
       "  Index(['total_yield', 'flood_occurence'], dtype='object')),\n",
       " (7356.466582821693,\n",
       "  array([0.69380167, 0.1149866 ]),\n",
       "  1e-05,\n",
       "  Index(['total_yield', 'total_exploitable_water_resources'], dtype='object')),\n",
       " (2758.7213916328515,\n",
       "  array([0.31737237, 0.85840418]),\n",
       "  0.0001,\n",
       "  Index(['total_yield', 'total_population_with_access_to_safe_drinking_water'], dtype='object')),\n",
       " (2760.4233700209375,\n",
       "  array([0.04050458, 0.8615136 ]),\n",
       "  1e-05,\n",
       "  Index(['total_yield', 'total_population_with_access_to_safe_drinking_water'], dtype='object')),\n",
       " (4339.172019454323,\n",
       "  array([3.33185945, 2.32088633, 0.21475799]),\n",
       "  0.0001,\n",
       "  Index(['total_yield', 'agricultural_value_added_percent_of_gdp',\n",
       "         'dam_capacity'],\n",
       "        dtype='object')),\n",
       " (4528.968465538859,\n",
       "  array([0.41429803, 2.3788402 , 0.22095069]),\n",
       "  1e-05,\n",
       "  Index(['total_yield', 'agricultural_value_added_percent_of_gdp',\n",
       "         'dam_capacity'],\n",
       "        dtype='object')),\n",
       " (2136.191992614977,\n",
       "  array([13.12000134, -0.70911186, 28.53665116]),\n",
       "  0.001,\n",
       "  Index(['total_yield', 'agricultural_value_added_percent_of_gdp',\n",
       "         'flood_occurence'],\n",
       "        dtype='object')),\n",
       " (3913.3539119196744,\n",
       "  array([3.46859173, 3.02247585, 9.37215195]),\n",
       "  0.0001,\n",
       "  Index(['total_yield', 'agricultural_value_added_percent_of_gdp',\n",
       "         'flood_occurence'],\n",
       "        dtype='object')),\n",
       " (5525.858653362134,\n",
       "  array([0.58593276, 3.75591028, 1.65937301]),\n",
       "  1e-05,\n",
       "  Index(['total_yield', 'agricultural_value_added_percent_of_gdp',\n",
       "         'flood_occurence'],\n",
       "        dtype='object')),\n",
       " (5466.744222260374,\n",
       "  array([0.53976248, 2.92829514, 0.0787363 ]),\n",
       "  1e-05,\n",
       "  Index(['total_yield', 'agricultural_value_added_percent_of_gdp',\n",
       "         'total_exploitable_water_resources'],\n",
       "        dtype='object')),\n",
       " (2634.6976509099,\n",
       "  array([0.14934524, 0.84159215, 0.7604692 ]),\n",
       "  0.0001,\n",
       "  Index(['total_yield', 'agricultural_value_added_percent_of_gdp',\n",
       "         'total_population_with_access_to_safe_drinking_water'],\n",
       "        dtype='object')),\n",
       " (2637.9843575131613,\n",
       "  array([0.02928838, 0.7134908 , 0.77737144]),\n",
       "  1e-05,\n",
       "  Index(['total_yield', 'agricultural_value_added_percent_of_gdp',\n",
       "         'total_population_with_access_to_safe_drinking_water'],\n",
       "        dtype='object')),\n",
       " (3159.8607252106253,\n",
       "  array([ 5.33306256,  0.20388508, 15.09669764]),\n",
       "  0.0001,\n",
       "  Index(['total_yield', 'dam_capacity', 'flood_occurence'], dtype='object')),\n",
       " (7551.160095176479,\n",
       "  array([0.73904518, 0.29864305, 2.13752413]),\n",
       "  1e-05,\n",
       "  Index(['total_yield', 'dam_capacity', 'flood_occurence'], dtype='object')),\n",
       " (5778.045782173884,\n",
       "  array([0.56245323, 1.11408258, 0.05803648]),\n",
       "  1e-05,\n",
       "  Index(['total_yield', 'dam_capacity', 'total_exploitable_water_resources'], dtype='object')),\n",
       " (2383.000092659908,\n",
       "  array([0.28807348, 0.10531825, 0.87488185]),\n",
       "  0.0001,\n",
       "  Index(['total_yield', 'dam_capacity',\n",
       "         'total_population_with_access_to_safe_drinking_water'],\n",
       "        dtype='object')),\n",
       " (2384.3909759209987,\n",
       "  array([0.03778527, 0.10531737, 0.8777087 ]),\n",
       "  1e-05,\n",
       "  Index(['total_yield', 'dam_capacity',\n",
       "         'total_population_with_access_to_safe_drinking_water'],\n",
       "        dtype='object')),\n",
       " (8670.845672883815,\n",
       "  array([0.80008233, 2.13762587, 0.08285855]),\n",
       "  1e-05,\n",
       "  Index(['total_yield', 'flood_occurence', 'total_exploitable_water_resources'], dtype='object')),\n",
       " (2405.187643227732,\n",
       "  array([0.13864866, 2.380072  , 0.87853398]),\n",
       "  0.0001,\n",
       "  Index(['total_yield', 'flood_occurence',\n",
       "         'total_population_with_access_to_safe_drinking_water'],\n",
       "        dtype='object')),\n",
       " (2503.84264391211,\n",
       "  array([0.02407497, 0.277469  , 0.94041952]),\n",
       "  1e-05,\n",
       "  Index(['total_yield', 'flood_occurence',\n",
       "         'total_population_with_access_to_safe_drinking_water'],\n",
       "        dtype='object')),\n",
       " (2593.830377269759,\n",
       "  array([0.03231249, 0.03016742, 0.90056119]),\n",
       "  1e-05,\n",
       "  Index(['total_yield', 'total_exploitable_water_resources',\n",
       "         'total_population_with_access_to_safe_drinking_water'],\n",
       "        dtype='object')),\n",
       " (5937.804837105492,\n",
       "  array([ 0.53379145, -0.21373167,  0.31731855]),\n",
       "  1e-05,\n",
       "  Index(['total_yield', 'total_exploitable_water_resources',\n",
       "         'total_renewable_water_resources'],\n",
       "        dtype='object'))]"
      ]
     },
     "execution_count": 105,
     "metadata": {},
     "output_type": "execute_result"
    }
   ],
   "source": [
    "valid_combos = [combo for combo in combos if combo[0] < 99999999]\n",
    "valid_combos"
   ]
  },
  {
   "cell_type": "code",
   "execution_count": 110,
   "id": "6bb6344b",
   "metadata": {},
   "outputs": [],
   "source": [
    "final_df = dfs[-1].merge(dfs[0], on=[\"Country\", \"Year\"]).merge(dfs[4], on=[\"Country\", \"Year\"])"
   ]
  },
  {
   "cell_type": "code",
   "execution_count": 133,
   "id": "c81b5479",
   "metadata": {},
   "outputs": [],
   "source": [
    "# Runs the linear regression with only agricultural_value_added_percent_of_gdp and flood_occurence \n",
    "beta, mse_list = lin_regression(final_df.drop([\"Country\", \"Year\"], axis=1), epochs=1000, alpha=0.01)"
   ]
  },
  {
   "cell_type": "code",
   "execution_count": 134,
   "id": "d6883f30",
   "metadata": {},
   "outputs": [],
   "source": [
    "\n",
    "pred = predict(final_df.drop([\"Country\", \"Year\", \"total_yield\"], axis=1), beta)\n",
    "true = final_df[\"total_yield\"]"
   ]
  },
  {
   "cell_type": "code",
   "execution_count": 136,
   "id": "983d4f87",
   "metadata": {},
   "outputs": [
    {
     "data": {
      "image/png": "[encoded data removed]",
      "text/plain": [
       "<Figure size 640x480 with 1 Axes>"
      ]
     },
     "metadata": {},
     "output_type": "display_data"
    }
   ],
   "source": [
    "# Plots something for sure\n",
    "x = range(len(pred))\n",
    "y = range(100,200)\n",
    "fig = plt.figure()\n",
    "ax1 = fig.add_subplot(111)\n",
    "\n",
    "ax1.scatter(x, pred, s=10, c='b', marker=\"s\", label='predicted')\n",
    "ax1.scatter(x, true, s=10, c='r', marker=\"o\", label='true')\n",
    "plt.legend(loc='upper left')\n",
    "plt.show()"
   ]
  },
  {
   "cell_type": "code",
   "execution_count": null,
   "id": "245df191",
   "metadata": {},
   "outputs": [],
   "source": []
  }
 ],
 "metadata": {
  "kernelspec": {
   "display_name": "Python 3 (ipykernel)",
   "language": "python",
   "name": "python3"
  },
  "language_info": {
   "codemirror_mode": {
    "name": "ipython",
    "version": 3
   },
   "file_extension": ".py",
   "mimetype": "text/x-python",
   "name": "python",
   "nbconvert_exporter": "python",
   "pygments_lexer": "ipython3",
   "version": "3.9.15"
  }
 },
 "nbformat": 4,
 "nbformat_minor": 5
}
